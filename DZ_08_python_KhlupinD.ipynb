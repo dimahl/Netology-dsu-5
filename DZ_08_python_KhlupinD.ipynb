{
 "cells": [
  {
   "cell_type": "markdown",
   "metadata": {},
   "source": [
    "# Задание 1"
   ]
  },
  {
   "cell_type": "code",
   "execution_count": 105,
   "metadata": {},
   "outputs": [],
   "source": [
    "def check_num():\n",
    "    import re\n",
    "    gos_num = input('Введите гос номер авто: ')\n",
    "    gos_num = gos_num.upper()\n",
    "    find_num = re.findall(r'[АВЕКМНОРСТУХ]\\d{3}[АВЕКМНОРСТУХ]{2}\\d{2,3}', gos_num)\n",
    "    if (find_num and len(gos_num)) == 8 or (find_num and len(gos_num)) == 9:\n",
    "        reg_num = re.findall(r'\\d{2,3}$', gos_num)\n",
    "        print('Номер',gos_num, 'валиден. Регион', reg_num[0])\n",
    "    else:\n",
    "        print(\"Номер не валиден\")"
   ]
  },
  {
   "cell_type": "code",
   "execution_count": 107,
   "metadata": {
    "scrolled": true
   },
   "outputs": [
    {
     "name": "stdout",
     "output_type": "stream",
     "text": [
      "Введите гос номер авто: в777вв88\n",
      "Номер В777ВВ88 валиден. Регион 88\n"
     ]
    }
   ],
   "source": [
    "check_num()"
   ]
  },
  {
   "cell_type": "markdown",
   "metadata": {},
   "source": [
    "# Задание 2"
   ]
  },
  {
   "cell_type": "code",
   "execution_count": 112,
   "metadata": {},
   "outputs": [],
   "source": [
    "# удалим последовательные повторы чисел\n",
    "numbers = 'Напишите функцию функцию, которая будет будет будет будет удалять все все все все последовательные повторы слов из из из из заданной строки строки при помощи регулярных выражений'"
   ]
  },
  {
   "cell_type": "code",
   "execution_count": 113,
   "metadata": {},
   "outputs": [
    {
     "data": {
      "text/plain": [
       "'Напишите функцию функцию, которая будет удалять все последовательные повторы слов из заданой строки при помощи регулярных выражений'"
      ]
     },
     "execution_count": 113,
     "metadata": {},
     "output_type": "execute_result"
    }
   ],
   "source": [
    "re.sub(r'(\\w+\\W*)\\1+', r'\\1', numbers)"
   ]
  },
  {
   "cell_type": "markdown",
   "metadata": {},
   "source": [
    "# Задание 3"
   ]
  },
  {
   "cell_type": "code",
   "execution_count": 155,
   "metadata": {},
   "outputs": [],
   "source": [
    "def akron_func(name):\n",
    "    akron_list = re.findall(r'\\b\\w', name)\n",
    "    akron = ''\n",
    "    for i in akron_list:\n",
    "        akron += i\n",
    "    akron = akron.upper()\n",
    "    print(akron)\n"
   ]
  },
  {
   "cell_type": "code",
   "execution_count": 160,
   "metadata": {},
   "outputs": [
    {
     "name": "stdout",
     "output_type": "stream",
     "text": [
      "КТСН\n"
     ]
    }
   ],
   "source": [
    "akron_func('Какое то сложное название')"
   ]
  },
  {
   "cell_type": "markdown",
   "metadata": {},
   "source": [
    "# Задание 4\n",
    "### В задание непонятно были исходные данные там дан список из строки и нестроки(xyz@gmail.com) я сделал для списка строк"
   ]
  },
  {
   "cell_type": "code",
   "execution_count": 2,
   "metadata": {},
   "outputs": [],
   "source": [
    "import re\n",
    "emails = ['test@gmail.com', 'xyz@test.in', 'test@ya.ru', 'xyz@mail.ru', 'xyz@ya.ru', 'xyz@gmail.com']"
   ]
  },
  {
   "cell_type": "code",
   "execution_count": 12,
   "metadata": {},
   "outputs": [],
   "source": [
    "def f_dom_sum(emails):\n",
    "    dom_sum = {}\n",
    "    pattern_dom = r'(?<=@)\\w+\\.\\w{2,}'\n",
    "    for i in emails:\n",
    "        key = re.findall(pattern_dom, i)[0]\n",
    "        if key not in dom_sum:\n",
    "            dom_sum.setdefault(key,1)\n",
    "        else:\n",
    "            dom_sum[key] += 1\n",
    "    for key, val in dom_sum.items():\n",
    "        print(f'{key}: {val}')"
   ]
  },
  {
   "cell_type": "code",
   "execution_count": 13,
   "metadata": {},
   "outputs": [
    {
     "name": "stdout",
     "output_type": "stream",
     "text": [
      "gmail.com: 2\n",
      "test.in: 1\n",
      "ya.ru: 2\n",
      "mail.ru: 1\n"
     ]
    }
   ],
   "source": [
    "f_dom_sum(emails)"
   ]
  },
  {
   "cell_type": "markdown",
   "metadata": {},
   "source": [
    "# Задание 5"
   ]
  },
  {
   "cell_type": "code",
   "execution_count": 15,
   "metadata": {},
   "outputs": [],
   "source": [
    "some_text = 'Эталонной реализацией Python является интерпретатор CPython, поддерживающий большинство активно используемых платформ. Он распространяется под свободной лицензией Python Software Foundation License, позволяющей использовать его без ограничений в любых приложениях, включая проприетарные.'"
   ]
  },
  {
   "cell_type": "code",
   "execution_count": 30,
   "metadata": {},
   "outputs": [],
   "source": [
    "def num_word_A_B(some_text):\n",
    "    pattern_A = r'\\b[АЕИОУЫЭЮЯAEIOUY]'\n",
    "    pattern_B = r'\\b[БВГДЖЗЙКЛМНПРСТФХЦЧШЩBCDFGHJKLMNPQRSTVWXYZ]'\n",
    "    list_A = re.findall(pattern_A, some_text, flags=re.IGNORECASE)\n",
    "    list_B = re.findall(pattern_B, some_text, flags=re.IGNORECASE)\n",
    "    print('Слов на гласные буквы: ',len(list_A))\n",
    "    print('Слов на согласные буквы: ',len(list_B))"
   ]
  },
  {
   "cell_type": "code",
   "execution_count": 31,
   "metadata": {},
   "outputs": [
    {
     "name": "stdout",
     "output_type": "stream",
     "text": [
      "Слов на гласные буквы:  9\n",
      "Слов на согласные буквы:  21\n"
     ]
    }
   ],
   "source": [
    "num_word_A_B(some_text)"
   ]
  },
  {
   "cell_type": "markdown",
   "metadata": {},
   "source": [
    "# Задание 6"
   ]
  },
  {
   "cell_type": "code",
   "execution_count": 52,
   "metadata": {},
   "outputs": [],
   "source": [
    "import re\n",
    "def check_phone(phone):\n",
    "    pattern_phone = r'^((\\+7|7|8)[\\- ]?)?(\\(?\\d{3}\\)?[\\- ]?)(\\d{3}[\\- ]?)(\\d{2}[\\- ]?)(\\d{2}?)$'\n",
    "    try:\n",
    "        phone_list = re.findall(pattern_phone, phone)\n",
    "        part_1 = phone_list[0][2].replace('-','')\n",
    "        part_2 = phone_list[0][3].replace('-','')\n",
    "        part_3 = phone_list[0][4].replace('-','')\n",
    "        part_4 = phone_list[0][5].replace('-','')\n",
    "        phone_coorect = '+7-' + part_1 + '-' + part_2 + '-' + part_3 + '-' + part_4\n",
    "        print(phone_coorect)\n",
    "    \n",
    "    except:\n",
    "        print('Номер невалиден')\n",
    "    "
   ]
  },
  {
   "cell_type": "code",
   "execution_count": 54,
   "metadata": {},
   "outputs": [
    {
     "name": "stdout",
     "output_type": "stream",
     "text": [
      "Номер невалиден\n"
     ]
    }
   ],
   "source": [
    "phone =  '8-955-5575-55'\n",
    "check_phone(phone)"
   ]
  },
  {
   "cell_type": "code",
   "execution_count": null,
   "metadata": {},
   "outputs": [],
   "source": []
  },
  {
   "cell_type": "code",
   "execution_count": null,
   "metadata": {},
   "outputs": [],
   "source": []
  }
 ],
 "metadata": {
  "kernelspec": {
   "display_name": "Python 3",
   "language": "python",
   "name": "python3"
  },
  "language_info": {
   "codemirror_mode": {
    "name": "ipython",
    "version": 3
   },
   "file_extension": ".py",
   "mimetype": "text/x-python",
   "name": "python",
   "nbconvert_exporter": "python",
   "pygments_lexer": "ipython3",
   "version": "3.8.5"
  }
 },
 "nbformat": 4,
 "nbformat_minor": 4
}
