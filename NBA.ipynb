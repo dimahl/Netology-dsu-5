{
 "cells": [
  {
   "cell_type": "code",
   "execution_count": 1,
   "metadata": {},
   "outputs": [],
   "source": [
    "import pandas as pd"
   ]
  },
  {
   "cell_type": "code",
   "execution_count": 2,
   "metadata": {},
   "outputs": [],
   "source": [
    "LAL = 'https://www.basketball-reference.com/teams/LAL/2021_games.html'\n",
    "PHI = 'https://www.basketball-reference.com/teams/PHI/2021_games.html'\n",
    "GSW = 'https://www.basketball-reference.com/teams/GSW/2021_games.html'\n",
    "MEM = 'https://www.basketball-reference.com/teams/MEM/2021_games.html'\n",
    "SAS = 'https://www.basketball-reference.com/teams/SAS/2021_games.html'\n",
    "IND = 'https://www.basketball-reference.com/teams/IND/2021_games.html'\n",
    "WAS = 'https://www.basketball-reference.com/teams/WAS/2021_games.html'"
   ]
  },
  {
   "cell_type": "code",
   "execution_count": 9,
   "metadata": {},
   "outputs": [],
   "source": [
    "df = pd.read_html(WAS)[0]"
   ]
  },
  {
   "cell_type": "code",
   "execution_count": 10,
   "metadata": {},
   "outputs": [],
   "source": [
    "df = df.rename(columns={'Unnamed: 5':'Road', 'Unnamed: 7':'W/L'})\n",
    "df = df[(df['Tm'] != 'Tm')]\n",
    "df.dropna(subset=['Tm'], inplace=True)\n",
    "df.reset_index(drop=True)\n",
    "df = df[['Date', 'Road', 'Opponent', 'Tm', 'Opp', 'Streak']]\n",
    "df.sort_index(ascending=False, inplace=True)\n",
    "df['Date'] = pd.to_datetime(df['Date'])"
   ]
  },
  {
   "cell_type": "code",
   "execution_count": 11,
   "metadata": {},
   "outputs": [
    {
     "name": "stdout",
     "output_type": "stream",
     "text": [
      "Не найдено для 2 подряд\n",
      "Четных 36   0.49\n",
      "Нечетных 37   0.51\n"
     ]
    }
   ],
   "source": [
    "# Раздел счетчика подряд\n",
    "N = 2\n",
    "even_ = 0\n",
    "odd_ = 0\n",
    "\n",
    "for item in df.Tm:\n",
    "    if int(item) % 2 == 0:\n",
    "        if odd_ != 0 : \n",
    "            if odd_ >= N:\n",
    "                print(f'НЕЧЕТНО {odd_} раз подряд')\n",
    "            else:\n",
    "                print(f'Не найдено для {N} подряд')\n",
    "            break\n",
    "        odd_ = 0\n",
    "        even_ += 1\n",
    "    else:\n",
    "        if even_ != 0 :\n",
    "            if even_ >= N:\n",
    "                print(f'ЧЕТНО {even_} раз подряд')\n",
    "            else:\n",
    "                print(f'Не найдено для {N} подряд')\n",
    "            break\n",
    "        even_ = 0\n",
    "        odd_ += 1\n",
    "\n",
    "# Раздел счетчика чет нечет всего\n",
    "even = 0 # четный\n",
    "odd = 0 # нечетный\n",
    "\n",
    "even_dict = {}\n",
    "odd_dict = {}\n",
    "sum_even = 0\n",
    "sum_odd = 0\n",
    "for it in df.Tm:\n",
    "    if int(it[1]) % 2 == 0:\n",
    "        sum_even += 1\n",
    "        if odd != 0 and str(odd) not in odd_dict:\n",
    "            odd_dict.setdefault(str(odd), 1)\n",
    "        elif odd != 0 and str(odd) in odd_dict:\n",
    "            odd_dict[str(odd)] += 1\n",
    "        odd = 0\n",
    "        even += 1\n",
    "    else:\n",
    "        sum_odd += 1\n",
    "        if even != 0 and str(even) not in even_dict:\n",
    "            even_dict.setdefault(str(even), 1)\n",
    "        elif even != 0 and str(even) in even_dict:\n",
    "            even_dict[str(even)] += 1\n",
    "        even = 0\n",
    "        odd += 1\n",
    "print('Четных',sum_even, ' ', round(sum_even/(sum_even+sum_odd),2))\n",
    "print('Нечетных',sum_odd, ' ', round(sum_odd/(sum_even+sum_odd),2))\n",
    "\n",
    "def read_sort_dict(even_dict1, odd_dict1):\n",
    "    list_key = list(even_dict1.keys())\n",
    "    list_key.sort()\n",
    "    sum = 0\n",
    "    for val in even_dict1.values():\n",
    "        sum += val\n",
    "    print('Статистика четного вхождения:')\n",
    "    for key in list_key:\n",
    "        print(key, 'подряд - ', even_dict1[key], 'раз ', round(even_dict1[key]/sum, 2))\n",
    "    print('')    \n",
    "    print('Статистика нечетного вхождения:')\n",
    "    list_key = list(odd_dict1.keys())\n",
    "    list_key.sort()\n",
    "    sum = 0\n",
    "    for val in odd_dict1.values():\n",
    "        sum += val\n",
    "    for key in list_key:\n",
    "        print(key, 'подряд - ', odd_dict1[key], 'раз ', round(odd_dict1[key]/sum, 2))\n",
    "    "
   ]
  },
  {
   "cell_type": "code",
   "execution_count": 12,
   "metadata": {},
   "outputs": [
    {
     "name": "stdout",
     "output_type": "stream",
     "text": [
      "Статистика четного вхождения:\n",
      "1 подряд -  17 раз  0.81\n",
      "10 подряд -  1 раз  0.05\n",
      "2 подряд -  2 раз  0.1\n",
      "3 подряд -  1 раз  0.05\n",
      "\n",
      "Статистика нечетного вхождения:\n",
      "1 подряд -  10 раз  0.48\n",
      "2 подряд -  8 раз  0.38\n",
      "3 подряд -  1 раз  0.05\n",
      "4 подряд -  2 раз  0.1\n"
     ]
    },
    {
     "data": {
      "text/plain": [
       "75    100\n",
       "74    115\n",
       "73    120\n",
       "72    116\n",
       "71    124\n",
       "     ... \n",
       "4     130\n",
       "3     107\n",
       "2     113\n",
       "1     120\n",
       "0     107\n",
       "Name: Tm, Length: 73, dtype: object"
      ]
     },
     "execution_count": 12,
     "metadata": {},
     "output_type": "execute_result"
    }
   ],
   "source": [
    "read_sort_dict(even_dict, odd_dict)\n",
    "df.Tm"
   ]
  },
  {
   "cell_type": "code",
   "execution_count": 6,
   "metadata": {},
   "outputs": [],
   "source": [
    "class BasketEvOd:\n",
    "    \n",
    "    def __init__(self, scores):\n",
    "        self.scores = scores\n",
    "        \n",
    "    \n",
    "    # Раздел счетчика подряд\n",
    "    def count_ev_od_series(scores):\n",
    "  \n",
    "        N = 2 # Минимальная длина последовательности подряд\n",
    "        even_ = 0\n",
    "        odd_ = 0\n",
    "\n",
    "        for item in scores:\n",
    "            if int(item) % 2 == 0:\n",
    "                if odd_ != 0 : \n",
    "                    if odd_ >= N:\n",
    "                        print(f'НЕЧЕТНО {odd_} раз подряд')\n",
    "                    else:\n",
    "                        print(f'Не найдено для {N} подряд')\n",
    "                    break\n",
    "                odd_ = 0\n",
    "                even_ += 1\n",
    "            else:\n",
    "                if even_ != 0 :\n",
    "                    if even_ >= N:\n",
    "                        print(f'ЧЕТНО {even_} раз подряд')\n",
    "                    else:\n",
    "                        print(f'Не найдено для {N} подряд')\n",
    "                    break\n",
    "                even_ = 0\n",
    "                odd_ += 1\n",
    "        return\n",
    "\n",
    "    # Раздел счетчика чет нечет всего\n",
    "    def count_ev_od_total(scores):\n",
    "        even = 0 # четный\n",
    "        odd = 0 # нечетный\n",
    "\n",
    "        even_dict = {}\n",
    "        odd_dict = {}\n",
    "        sum_even = 0\n",
    "        sum_odd = 0\n",
    "        for it in scores:\n",
    "            if int(it[1]) % 2 == 0:\n",
    "                sum_even += 1\n",
    "                if odd != 0 and str(odd) not in odd_dict:\n",
    "                    odd_dict.setdefault(str(odd), 1)\n",
    "                elif odd != 0 and str(odd) in odd_dict:\n",
    "                    odd_dict[str(odd)] += 1\n",
    "                odd = 0\n",
    "                even += 1\n",
    "            else:\n",
    "                sum_odd += 1\n",
    "                if even != 0 and str(even) not in even_dict:\n",
    "                    even_dict.setdefault(str(even), 1)\n",
    "                elif even != 0 and str(even) in even_dict:\n",
    "                    even_dict[str(even)] += 1\n",
    "                even = 0\n",
    "                odd += 1\n",
    "        print('Четных',sum_even, ' ', round(sum_even/(sum_even+sum_odd),2))\n",
    "        print('Нечетных',sum_odd, ' ', round(sum_odd/(sum_even+sum_odd),2))\n",
    "        \n",
    "        return even_dict, odd_dict \n",
    "\n",
    "    def read_sort_dict(even_dict1, odd_dict1):\n",
    "        list_key = list(even_dict1.keys())\n",
    "        list_key.sort()\n",
    "        sum = 0\n",
    "        for val in even_dict1.values():\n",
    "            sum += val\n",
    "        print('Статистика четного вхождения:')\n",
    "        for key in list_key:\n",
    "            print(key, 'подряд - ', even_dict1[key], 'раз ', round(even_dict1[key]/sum, 2))\n",
    "        print('')    \n",
    "        print('Статистика нечетного вхождения:')\n",
    "        list_key = list(odd_dict1.keys())\n",
    "        list_key.sort()\n",
    "        sum = 0\n",
    "        for val in odd_dict1.values():\n",
    "            sum += val\n",
    "        for key in list_key:\n",
    "            print(key, 'подряд - ', odd_dict1[key], 'раз ', round(odd_dict1[key]/sum, 2))\n",
    "        return"
   ]
  },
  {
   "cell_type": "code",
   "execution_count": 10,
   "metadata": {},
   "outputs": [],
   "source": [
    "q = BasketEvOd(df.Tm)"
   ]
  },
  {
   "cell_type": "code",
   "execution_count": null,
   "metadata": {},
   "outputs": [],
   "source": []
  },
  {
   "cell_type": "code",
   "execution_count": null,
   "metadata": {},
   "outputs": [],
   "source": []
  },
  {
   "cell_type": "code",
   "execution_count": 11,
   "metadata": {},
   "outputs": [
    {
     "ename": "TypeError",
     "evalue": "'BasketEvOd' object is not iterable",
     "output_type": "error",
     "traceback": [
      "\u001b[1;31m---------------------------------------------------------------------------\u001b[0m",
      "\u001b[1;31mTypeError\u001b[0m                                 Traceback (most recent call last)",
      "\u001b[1;32m<ipython-input-11-c108c486da4f>\u001b[0m in \u001b[0;36m<module>\u001b[1;34m\u001b[0m\n\u001b[1;32m----> 1\u001b[1;33m \u001b[0mq\u001b[0m\u001b[1;33m.\u001b[0m\u001b[0mcount_ev_od_series\u001b[0m\u001b[1;33m(\u001b[0m\u001b[1;33m)\u001b[0m\u001b[1;33m\u001b[0m\u001b[1;33m\u001b[0m\u001b[0m\n\u001b[0m",
      "\u001b[1;32m<ipython-input-6-15b8aa3cca42>\u001b[0m in \u001b[0;36mcount_ev_od_series\u001b[1;34m(scores)\u001b[0m\n\u001b[0;32m     12\u001b[0m         \u001b[0modd_\u001b[0m \u001b[1;33m=\u001b[0m \u001b[1;36m0\u001b[0m\u001b[1;33m\u001b[0m\u001b[1;33m\u001b[0m\u001b[0m\n\u001b[0;32m     13\u001b[0m \u001b[1;33m\u001b[0m\u001b[0m\n\u001b[1;32m---> 14\u001b[1;33m         \u001b[1;32mfor\u001b[0m \u001b[0mitem\u001b[0m \u001b[1;32min\u001b[0m \u001b[0mscores\u001b[0m\u001b[1;33m:\u001b[0m\u001b[1;33m\u001b[0m\u001b[1;33m\u001b[0m\u001b[0m\n\u001b[0m\u001b[0;32m     15\u001b[0m             \u001b[1;32mif\u001b[0m \u001b[0mint\u001b[0m\u001b[1;33m(\u001b[0m\u001b[0mitem\u001b[0m\u001b[1;33m)\u001b[0m \u001b[1;33m%\u001b[0m \u001b[1;36m2\u001b[0m \u001b[1;33m==\u001b[0m \u001b[1;36m0\u001b[0m\u001b[1;33m:\u001b[0m\u001b[1;33m\u001b[0m\u001b[1;33m\u001b[0m\u001b[0m\n\u001b[0;32m     16\u001b[0m                 \u001b[1;32mif\u001b[0m \u001b[0modd_\u001b[0m \u001b[1;33m!=\u001b[0m \u001b[1;36m0\u001b[0m \u001b[1;33m:\u001b[0m\u001b[1;33m\u001b[0m\u001b[1;33m\u001b[0m\u001b[0m\n",
      "\u001b[1;31mTypeError\u001b[0m: 'BasketEvOd' object is not iterable"
     ]
    }
   ],
   "source": [
    "q.count_ev_od_series()"
   ]
  },
  {
   "cell_type": "code",
   "execution_count": null,
   "metadata": {},
   "outputs": [],
   "source": []
  }
 ],
 "metadata": {
  "kernelspec": {
   "display_name": "Python 3",
   "language": "python",
   "name": "python3"
  },
  "language_info": {
   "codemirror_mode": {
    "name": "ipython",
    "version": 3
   },
   "file_extension": ".py",
   "mimetype": "text/x-python",
   "name": "python",
   "nbconvert_exporter": "python",
   "pygments_lexer": "ipython3",
   "version": "3.8.5"
  }
 },
 "nbformat": 4,
 "nbformat_minor": 4
}
