{
 "cells": [
  {
   "cell_type": "markdown",
   "id": "c98df829",
   "metadata": {},
   "source": [
    "Задание 1  \n",
    "Монетку подбрасывают 15 раз, найдите вероятность выпадения простого числа орлов.\n",
    "\n",
    "Задание 2  \n",
    "Получить интуицию, на что влияют параметры распределений. Построить по 5 функций плотностей с разными\n",
    "параметрами для каждого распределения: нормальное, экспоненциальное, Стьюдента на одном графике.\n"
   ]
  },
  {
   "cell_type": "markdown",
   "id": "dd1c974f",
   "metadata": {},
   "source": [
    "Задание 1  \n",
    "Под простым числом будем подразумевать положительное число имеющие только два различных делителя, т.е. \"1\" не учитываем"
   ]
  },
  {
   "cell_type": "code",
   "execution_count": 63,
   "id": "049c82a1",
   "metadata": {},
   "outputs": [],
   "source": [
    "N = 1690000000000001 # число бросков"
   ]
  },
  {
   "cell_type": "code",
   "execution_count": 52,
   "id": "6b4b49ba",
   "metadata": {},
   "outputs": [],
   "source": [
    "def is_prime(num):\n",
    "    prime = num > 1 and (num % 2 != 0 or num == 2) and (num % 3 != 0 or num == 3)\n",
    "    i = 5;\n",
    "    d = 2;\n",
    "\n",
    "    while prime and i * i <= num:\n",
    "        prime = num % i != 0\n",
    "        i += d\n",
    "        d = 6 - d # чередование прироста 2 и 4: 5 + 2, 7 + 4, 11 + 2, и т.д.\n",
    "    return prime"
   ]
  },
  {
   "cell_type": "code",
   "execution_count": 55,
   "id": "e9c0278c",
   "metadata": {},
   "outputs": [
    {
     "data": {
      "text/plain": [
       "0.4"
      ]
     },
     "execution_count": 55,
     "metadata": {},
     "output_type": "execute_result"
    }
   ],
   "source": [
    "len(list(filter(is_prime, range(N)))) / N"
   ]
  },
  {
   "cell_type": "markdown",
   "id": "b2aeb183",
   "metadata": {},
   "source": [
    "Задание 2  \n",
    "Получить интуицию, на что влияют параметры распределений. Построить по 5 функций плотностей с разными\n",
    "параметрами для каждого распределения: нормальное, экспоненциальное, Стьюдента на одном графике."
   ]
  },
  {
   "cell_type": "code",
   "execution_count": 1,
   "id": "6192ad43",
   "metadata": {},
   "outputs": [],
   "source": [
    "import numpy as np\n",
    "import matplotlib.pyplot as plt"
   ]
  },
  {
   "cell_type": "code",
   "execution_count": 2,
   "id": "8475b36b",
   "metadata": {},
   "outputs": [],
   "source": [
    "St_1 = np.random.standard_t(9, size=(7000,))"
   ]
  },
  {
   "cell_type": "code",
   "execution_count": 3,
   "id": "9641624a",
   "metadata": {},
   "outputs": [],
   "source": [
    "St_2 = np.random.standard_t(90, size=(14000,))"
   ]
  },
  {
   "cell_type": "code",
   "execution_count": 4,
   "id": "a4b298ab",
   "metadata": {},
   "outputs": [],
   "source": [
    "St_3 = np.random.standard_t(900, size=(7000,))"
   ]
  },
  {
   "cell_type": "code",
   "execution_count": 5,
   "id": "bc08c60f",
   "metadata": {},
   "outputs": [],
   "source": [
    "St_4 = np.random.standard_t(20, size=(7000,))"
   ]
  },
  {
   "cell_type": "code",
   "execution_count": 6,
   "id": "83ffd2eb",
   "metadata": {},
   "outputs": [],
   "source": [
    "St_5 = np.random.standard_t(9, size=(20000,))"
   ]
  },
  {
   "cell_type": "code",
   "execution_count": 7,
   "id": "5041e373",
   "metadata": {},
   "outputs": [
    {
     "data": {
      "image/png": "[encoded data removed]",
      "text/plain": [
       "<Figure size 432x288 with 1 Axes>"
      ]
     },
     "metadata": {
      "needs_background": "light"
     },
     "output_type": "display_data"
    }
   ],
   "source": [
    "plt.hist(St_1, bins=100, density=True, color='red')\n",
    "plt.hist(St_2, bins=100, density=True, color='blue')\n",
    "plt.hist(St_3, bins=100, density=True, color='green')\n",
    "plt.hist(St_4, bins=100, density=True, color='olive')\n",
    "plt.hist(St_5, bins=100, density=True, color='brown')\n",
    "plt.grid()\n",
    "plt.show()"
   ]
  },
  {
   "cell_type": "code",
   "execution_count": 8,
   "id": "d523dbf3",
   "metadata": {},
   "outputs": [],
   "source": [
    "Nor_1 = np.random.normal(loc=0.0, scale = 1.0, size=(7000,))"
   ]
  },
  {
   "cell_type": "code",
   "execution_count": null,
   "id": "5b9d0b94",
   "metadata": {},
   "outputs": [],
   "source": [
    "plt.hist(St_1, bins=100, density=True, color='red')\n",
    "plt.hist(St_2, bins=100, density=True, color='blue')\n",
    "plt.hist(St_3, bins=100, density=True, color='green')\n",
    "plt.hist(St_4, bins=100, density=True, color='olive')\n",
    "plt.hist(St_5, bins=100, density=True, color='brown')\n",
    "plt.grid()\n",
    "plt.show()"
   ]
  },
  {
   "cell_type": "code",
   "execution_count": 9,
   "id": "a15d467e",
   "metadata": {},
   "outputs": [
    {
     "data": {
      "image/png": "[encoded data removed]",
      "text/plain": [
       "<Figure size 432x288 with 1 Axes>"
      ]
     },
     "metadata": {
      "needs_background": "light"
     },
     "output_type": "display_data"
    }
   ],
   "source": [
    "plt.hist(Nor_1, bins=100, density=True, color='brown')\n",
    "plt.grid()\n",
    "plt.show()"
   ]
  },
  {
   "cell_type": "code",
   "execution_count": null,
   "id": "85a5fd46",
   "metadata": {},
   "outputs": [],
   "source": []
  },
  {
   "cell_type": "code",
   "execution_count": null,
   "id": "0bf816ae",
   "metadata": {},
   "outputs": [],
   "source": []
  }
 ],
 "metadata": {
  "kernelspec": {
   "display_name": "Python 3",
   "language": "python",
   "name": "python3"
  },
  "language_info": {
   "codemirror_mode": {
    "name": "ipython",
    "version": 3
   },
   "file_extension": ".py",
   "mimetype": "text/x-python",
   "name": "python",
   "nbconvert_exporter": "python",
   "pygments_lexer": "ipython3",
   "version": "3.8.8"
  }
 },
 "nbformat": 4,
 "nbformat_minor": 5
}
