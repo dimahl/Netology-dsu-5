{
 "cells": [
  {
   "cell_type": "markdown",
   "id": "9a8d3df3",
   "metadata": {},
   "source": [
    "Задание 1  \n",
    "Монетку подбрасывают 15 раз, найдите вероятность выпадения простого числа орлов.\n",
    "\n",
    "Задание 2  \n",
    "Получить интуицию, на что влияют параметры распределений. Построить по 5 функций плотностей с разными\n",
    "параметрами для каждого распределения: нормальное, экспоненциальное, Стьюдента на одном графике.\n"
   ]
  },
  {
   "cell_type": "markdown",
   "id": "1f118c0f",
   "metadata": {},
   "source": [
    "Задание 1  \n",
    "Под простым числом будем подразумевать положительное число имеющие только два различных делителя, т.е. \"1\" не учитываем"
   ]
  },
  {
   "cell_type": "code",
   "execution_count": 63,
   "id": "a6ef6e1e",
   "metadata": {},
   "outputs": [],
   "source": [
    "N = 1690000000000001 # число бросков"
   ]
  },
  {
   "cell_type": "code",
   "execution_count": 52,
   "id": "cd000188",
   "metadata": {},
   "outputs": [],
   "source": [
    "def is_prime(num):\n",
    "    prime = num > 1 and (num % 2 != 0 or num == 2) and (num % 3 != 0 or num == 3)\n",
    "    i = 5;\n",
    "    d = 2;\n",
    "\n",
    "    while prime and i * i <= num:\n",
    "        prime = num % i != 0\n",
    "        i += d\n",
    "        d = 6 - d # чередование прироста 2 и 4: 5 + 2, 7 + 4, 11 + 2, и т.д.\n",
    "    return prime"
   ]
  },
  {
   "cell_type": "code",
   "execution_count": 55,
   "id": "f053ef45",
   "metadata": {},
   "outputs": [
    {
     "data": {
      "text/plain": [
       "0.4"
      ]
     },
     "execution_count": 55,
     "metadata": {},
     "output_type": "execute_result"
    }
   ],
   "source": [
    "len(list(filter(is_prime, range(N)))) / N"
   ]
  },
  {
   "cell_type": "markdown",
   "id": "4ad37181",
   "metadata": {},
   "source": [
    "Задание 2  \n",
    "Получить интуицию, на что влияют параметры распределений. Построить по 5 функций плотностей с разными\n",
    "параметрами для каждого распределения: нормальное, экспоненциальное, Стьюдента на одном графике."
   ]
  },
  {
   "cell_type": "code",
   "execution_count": 1,
   "id": "98a1f379",
   "metadata": {},
   "outputs": [],
   "source": [
    "import numpy as np\n",
    "import matplotlib.pyplot as plt"
   ]
  },
  {
   "cell_type": "code",
   "execution_count": 2,
   "id": "e7b9f05a",
   "metadata": {},
   "outputs": [],
   "source": [
    "St_1 = np.random.standard_t(9, size=(7000,))"
   ]
  },
  {
   "cell_type": "code",
   "execution_count": 3,
   "id": "679104b2",
   "metadata": {},
   "outputs": [],
   "source": [
    "St_2 = np.random.standard_t(90, size=(14000,))"
   ]
  },
  {
   "cell_type": "code",
   "execution_count": 4,
   "id": "f2258fe0",
   "metadata": {},
   "outputs": [],
   "source": [
    "St_3 = np.random.standard_t(900, size=(7000,))"
   ]
  },
  {
   "cell_type": "code",
   "execution_count": 5,
   "id": "eae1456f",
   "metadata": {},
   "outputs": [],
   "source": [
    "St_4 = np.random.standard_t(20, size=(7000,))"
   ]
  },
  {
   "cell_type": "code",
   "execution_count": 6,
   "id": "e1659316",
   "metadata": {},
   "outputs": [],
   "source": [
    "St_5 = np.random.standard_t(9, size=(20000,))"
   ]
  },
  {
   "cell_type": "code",
   "execution_count": 7,
   "id": "2bbfd43c",
   "metadata": {},
   "outputs": [
    {
     "data": {
      "image/png": "[encoded data removed]",
      "text/plain": [
       "<Figure size 432x288 with 1 Axes>"
      ]
     },
     "metadata": {
      "needs_background": "light"
     },
     "output_type": "display_data"
    }
   ],
   "source": [
    "plt.hist(St_1, bins=100, density=True, color='red')\n",
    "plt.hist(St_2, bins=100, density=True, color='blue')\n",
    "plt.hist(St_3, bins=100, density=True, color='green')\n",
    "plt.hist(St_4, bins=100, density=True, color='olive')\n",
    "plt.hist(St_5, bins=100, density=True, color='brown')\n",
    "plt.grid()\n",
    "plt.show()"
   ]
  },
  {
   "cell_type": "code",
   "execution_count": 15,
   "id": "fcab5f98",
   "metadata": {},
   "outputs": [],
   "source": [
    "Nor_1 = np.random.normal(loc=3.0, scale = 4.0, size=(7000,))\n",
    "Nor_2 = np.random.normal(loc=0.0, scale = 4.0, size=(7000,))\n",
    "Nor_3 = np.random.normal(loc=13.0, scale = 7.0, size=(7000,))\n",
    "Nor_4 = np.random.normal(loc=-3.0, scale = 1.0, size=(7000,))\n",
    "Nor_5 = np.random.normal(loc=44.0, scale = 4.0, size=(7000,))"
   ]
  },
  {
   "cell_type": "code",
   "execution_count": 16,
   "id": "5b2cd9da",
   "metadata": {},
   "outputs": [
    {
     "data": {
      "image/png": "[encoded data removed]",
      "text/plain": [
       "<Figure size 432x288 with 1 Axes>"
      ]
     },
     "metadata": {
      "needs_background": "light"
     },
     "output_type": "display_data"
    }
   ],
   "source": [
    "plt.hist(Nor_1, bins=100, density=True, color='red')\n",
    "plt.hist(Nor_2, bins=100, density=True, color='blue')\n",
    "plt.hist(Nor_3, bins=100, density=True, color='green')\n",
    "plt.hist(Nor_4, bins=100, density=True, color='olive')\n",
    "plt.hist(Nor_5, bins=100, density=True, color='brown')\n",
    "plt.grid()\n",
    "plt.show()"
   ]
  },
  {
   "cell_type": "code",
   "execution_count": 13,
   "id": "6b2f666d",
   "metadata": {},
   "outputs": [
    {
     "data": {
      "image/png": "[encoded data removed]",
      "text/plain": [
       "<Figure size 432x288 with 1 Axes>"
      ]
     },
     "metadata": {
      "needs_background": "light"
     },
     "output_type": "display_data"
    }
   ],
   "source": [
    "Nor_1 = np.random.normal(loc=3.0, scale = 4.0, size=(7000,))\n",
    "Nor_2 = np.random.normal(loc=0.0, scale = 4.0, size=(7000,))\n",
    "Nor_3 = np.random.normal(loc=13.0, scale = 7.0, size=(7000,))\n",
    "Nor_4 = np.random.normal(loc=-3.0, scale = 1.0, size=(7000,))\n",
    "Nor_5 = np.random.normal(loc=44.0, scale = 4.0, size=(7000,))"
   ]
  },
  {
   "cell_type": "code",
   "execution_count": 36,
   "id": "4fa8db70",
   "metadata": {},
   "outputs": [],
   "source": [
    "Exp_1 = np.random.exponential(scale=2, size=(900,))\n",
    "Exp_2 = np.random.exponential(scale=20, size=(900,))\n",
    "Exp_3 = np.random.exponential(scale=0.7, size=(100,))\n",
    "Exp_4 = np.random.exponential(scale=1.2, size=(2000,))\n",
    "Exp_5 = np.random.exponential(scale=2, size=(700,))"
   ]
  },
  {
   "cell_type": "code",
   "execution_count": 39,
   "id": "4eb2ca66",
   "metadata": {},
   "outputs": [
    {
     "data": {
      "image/png": "[encoded data removed]",
      "text/plain": [
       "<Figure size 1512x504 with 1 Axes>"
      ]
     },
     "metadata": {
      "needs_background": "light"
     },
     "output_type": "display_data"
    }
   ],
   "source": [
    "plt.figure(figsize=(21,7))\n",
    "plt.hist(Exp_1, bins=100, density=True, color='red')\n",
    "plt.hist(Exp_2, bins=100, density=True, color='blue')\n",
    "plt.hist(Exp_3, bins=100, density=True, color='green')\n",
    "plt.hist(Exp_4, bins=100, density=True, color='olive')\n",
    "plt.hist(Exp_5, bins=100, density=True, color='brown')\n",
    "plt.grid()\n",
    "plt.show()"
   ]
  },
  {
   "cell_type": "code",
   "execution_count": null,
   "id": "60a86762",
   "metadata": {},
   "outputs": [],
   "source": []
  }
 ],
 "metadata": {
  "kernelspec": {
   "display_name": "Python 3",
   "language": "python",
   "name": "python3"
  },
  "language_info": {
   "codemirror_mode": {
    "name": "ipython",
    "version": 3
   },
   "file_extension": ".py",
   "mimetype": "text/x-python",
   "name": "python",
   "nbconvert_exporter": "python",
   "pygments_lexer": "ipython3",
   "version": "3.8.8"
  }
 },
 "nbformat": 4,
 "nbformat_minor": 5
}
