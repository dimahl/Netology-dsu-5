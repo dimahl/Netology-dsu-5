{
 "cells": [
  {
   "cell_type": "markdown",
   "metadata": {},
   "source": [
    "# Хлупин Дмитрий [DSU-5]\n",
    "# Д/з \"Управляющие конструкции и коллекции python ч.1\"\n"
   ]
  },
  {
   "cell_type": "markdown",
   "metadata": {},
   "source": [
    "# Задание 1"
   ]
  },
  {
   "cell_type": "code",
   "execution_count": null,
   "metadata": {},
   "outputs": [],
   "source": [
    "txt = '1234567890'\n",
    "count = len(txt)\n",
    "if count % 2 == 0:\n",
    "    x1 = int(count / 2)\n",
    "    x2 = int(x1 - 1)\n",
    "    print(txt[x2:x1+1])\n",
    "else:\n",
    "    x1 = count // 2\n",
    "    print(txt[x1])\n"
   ]
  },
  {
   "cell_type": "markdown",
   "metadata": {},
   "source": [
    "# Задание 2"
   ]
  },
  {
   "cell_type": "code",
   "execution_count": 13,
   "metadata": {},
   "outputs": [
    {
     "name": "stdout",
     "output_type": "stream",
     "text": [
      "Введите число: 8\n",
      "Введите число: 7\n",
      "Введите число: 9\n",
      "Введите число: 4\n",
      "Введите число: 6\n",
      "Введите число: 7\n",
      "Введите число: 2\n",
      "Введите число: 4\n",
      "Введите число: 6\n",
      "Введите число: 0\n",
      "Сумма чисел =  53\n"
     ]
    }
   ],
   "source": [
    "x = 1\n",
    "summ_x = 0\n",
    "while x != 0:\n",
    "        x = int(input(\"Введите число: \"))\n",
    "        summ_x += x\n",
    "print('Сумма чисел = ',summ_x)\n"
   ]
  },
  {
   "cell_type": "markdown",
   "metadata": {},
   "source": [
    "# Задание 3, как сделать через for, чтобы не хуже ?"
   ]
  },
  {
   "cell_type": "code",
   "execution_count": 8,
   "metadata": {},
   "outputs": [
    {
     "name": "stdout",
     "output_type": "stream",
     "text": [
      "Alex и Emma\n",
      "Arthur и Kate\n",
      "John и Kira\n",
      "Peter и Liza\n",
      "Richard и Trisha\n"
     ]
    }
   ],
   "source": [
    "boys = ['Peter', 'Alex', 'John', 'Arthur', 'Richard']\n",
    "girls = ['Kate', 'Liza', 'Kira', 'Emma', 'Trisha']\n",
    "\n",
    "if len(boys) == len(girls):\n",
    "    boys.sort()\n",
    "    girls.sort()\n",
    "    n=0\n",
    "    while n < len(boys):\n",
    "        # boys_girls_1 = [[boys[n], girls[n]]]  \n",
    "        print(boys[n], 'и', girls[n])\n",
    "        n += 1\n",
    "else:\n",
    "    print(\"Кто-то может остаться без пары\")\n"
   ]
  },
  {
   "cell_type": "markdown",
   "metadata": {},
   "source": [
    "# Задание 4"
   ]
  },
  {
   "cell_type": "code",
   "execution_count": 36,
   "metadata": {},
   "outputs": [
    {
     "name": "stdout",
     "output_type": "stream",
     "text": [
      "Thailand - 23.9 C\n",
      "Germany - 13.8 C\n",
      "Russia - 3.7 C\n",
      "Poland - 12.0 C\n"
     ]
    }
   ],
   "source": [
    "countries_temperature = [\n",
    "                        ['Thailand', [75.2, 77, 78.8, 73.4, 68, 75.2, 77]],\n",
    "                        ['Germany', [57.2, 55.4, 59, 59, 53.6]],\n",
    "                        ['Russia', [35.6, 37.4, 39.2, 41, 42.8, 39.2, 35.6]],\n",
    "                        ['Poland', [50, 50, 53.6, 57.2, 55.4, 55.4]]\n",
    "                        ]\n",
    "\n",
    "countries = 0\n",
    "degree_F = 0\n",
    "for countries in countries_temperature:\n",
    "    country = 0\n",
    "    country, degree_F = countries\n",
    "    degree_C = (sum(degree_F) / len(degree_F) - 32)*5/9\n",
    "    print(f'{country} - {round(degree_C,1)} C')\n"
   ]
  },
  {
   "cell_type": "markdown",
   "metadata": {},
   "source": [
    "# Задание 5"
   ]
  },
  {
   "cell_type": "code",
   "execution_count": 26,
   "metadata": {},
   "outputs": [
    {
     "name": "stdout",
     "output_type": "stream",
     "text": [
      "Среднее количество просмотров на уникального пользователя: 23.25\n"
     ]
    }
   ],
   "source": [
    "stream = [\n",
    "        '2018-01-01,user1,3',\n",
    "        '2018-01-07,user1,4',\n",
    "        '2018-03-29,user1,1',\n",
    "        '2018-04-04,user1,13',\n",
    "        '2018-01-05,user2,7',\n",
    "        '2018-06-14,user3,4',\n",
    "        '2018-07-02,user3,10',\n",
    "        '2018-03-21,user4,19',\n",
    "        '2018-03-22,user4,4',\n",
    "        '2018-04-22,user4,8',\n",
    "        '2018-05-03,user4,9',\n",
    "        '2018-05-11,user4,11',\n",
    "        ]\n",
    "\n",
    "unique_list = []\n",
    "views = 0\n",
    "views_per_user = 0\n",
    "for log in stream:\n",
    "    a = log.split(',')\n",
    "    name_user = a[1]\n",
    "    views += int(a[2])\n",
    "    if name_user not in unique_list:\n",
    "        unique_list.append(name_user)\n",
    "views_per_user = views / len(unique_list)\n",
    "print(f'Среднее количество просмотров на уникального пользователя: {views_per_user}')\n"
   ]
  },
  {
   "cell_type": "markdown",
   "metadata": {},
   "source": [
    "# Задание 6"
   ]
  },
  {
   "cell_type": "code",
   "execution_count": 9,
   "metadata": {},
   "outputs": [
    {
     "name": "stdout",
     "output_type": "stream",
     "text": [
      "Введите набор числе5 5 5 6 6 5 3 2 6 5\n",
      "5 6\n"
     ]
    }
   ],
   "source": [
    "a = input('Введите набор числе')\n",
    "a = a.split()\n",
    "# print(a)\n",
    "not_unique_list = []\n",
    "unique_list = []\n",
    "for i in a:\n",
    "    if i not in unique_list:\n",
    "        unique_list.append(i)\n",
    "    elif i not in not_unique_list:\n",
    "        not_unique_list.append(i)\n",
    "print(*not_unique_list)\n"
   ]
  },
  {
   "cell_type": "code",
   "execution_count": null,
   "metadata": {},
   "outputs": [],
   "source": []
  }
 ],
 "metadata": {
  "kernelspec": {
   "display_name": "Python 3",
   "language": "python",
   "name": "python3"
  },
  "language_info": {
   "codemirror_mode": {
    "name": "ipython",
    "version": 3
   },
   "file_extension": ".py",
   "mimetype": "text/x-python",
   "name": "python",
   "nbconvert_exporter": "python",
   "pygments_lexer": "ipython3",
   "version": "3.8.5"
  }
 },
 "nbformat": 4,
 "nbformat_minor": 4
}
