{
 "cells": [
  {
   "cell_type": "markdown",
   "id": "fe2cc7bf",
   "metadata": {},
   "source": [
    "# Задание\n",
    "● Создайте случайную матрицу А1 размерностью 5 на 5  \n",
    "● Транспонируйте матрицу A1  \n",
    "● Найдите обратную матрицу для А1  \n",
    "● Создайте диагональную матрицу - поэлементно перемножив единичную\n",
    "матрицу I и случайную матрицу A2 размерности 4 на 4  \n",
    "● Создайте нулевую матрицу размерности 3 на 3  \n",
    "● Для всех полученных матриц найдите: определитель, ранг и собственные\n",
    "значения  \n",
    "● Проанализируйте результаты"
   ]
  },
  {
   "cell_type": "markdown",
   "id": "d04ef522",
   "metadata": {},
   "source": [
    "# Не понимаю на предмет чего я должен анализировать!!!"
   ]
  },
  {
   "cell_type": "code",
   "execution_count": 1,
   "id": "58528d6d",
   "metadata": {},
   "outputs": [],
   "source": [
    "import numpy as np"
   ]
  },
  {
   "cell_type": "markdown",
   "id": "5c6b1608",
   "metadata": {},
   "source": [
    "● Создайте случайную матрицу А1 размерностью 5 на 5\n"
   ]
  },
  {
   "cell_type": "code",
   "execution_count": 69,
   "id": "cf50df5f",
   "metadata": {},
   "outputs": [
    {
     "data": {
      "text/plain": [
       "array([[7.74012941, 8.82376056, 8.22843744, 7.68612378, 7.44919763],\n",
       "       [7.05651786, 7.0132393 , 7.24916887, 7.77834231, 8.59954116],\n",
       "       [8.73853083, 8.3506896 , 8.20890993, 8.9393981 , 8.45023387],\n",
       "       [7.49780828, 8.55942403, 7.42294359, 8.66355867, 7.49774137],\n",
       "       [7.00795237, 8.80110842, 7.56637844, 7.22273296, 6.50148054]])"
      ]
     },
     "execution_count": 69,
     "metadata": {},
     "output_type": "execute_result"
    }
   ],
   "source": [
    "8 + 0.5*np.random.randn(5, 5) # create array 5*5, where mean=8 and standard deviation=0,5"
   ]
  },
  {
   "cell_type": "code",
   "execution_count": 70,
   "id": "1587e374",
   "metadata": {},
   "outputs": [
    {
     "data": {
      "text/plain": [
       "array([[5, 3, 3, 4, 7],\n",
       "       [7, 9, 9, 7, 0],\n",
       "       [2, 9, 1, 3, 3],\n",
       "       [5, 0, 3, 5, 3],\n",
       "       [8, 1, 9, 4, 2]])"
      ]
     },
     "execution_count": 70,
     "metadata": {},
     "output_type": "execute_result"
    }
   ],
   "source": [
    "A1 = np.random.randint(10, size=(5,5)) # create array 5*5, where atribute \"10\" is max value of matrix's elements\n",
    "A1"
   ]
  },
  {
   "cell_type": "markdown",
   "id": "bfa897b4",
   "metadata": {},
   "source": [
    "● Транспонируйте матрицу A1\n"
   ]
  },
  {
   "cell_type": "code",
   "execution_count": 71,
   "id": "f926eda5",
   "metadata": {},
   "outputs": [
    {
     "data": {
      "text/plain": [
       "array([[5, 7, 2, 5, 8],\n",
       "       [3, 9, 9, 0, 1],\n",
       "       [3, 9, 1, 3, 9],\n",
       "       [4, 7, 3, 5, 4],\n",
       "       [7, 0, 3, 3, 2]])"
      ]
     },
     "execution_count": 71,
     "metadata": {},
     "output_type": "execute_result"
    }
   ],
   "source": [
    "A1_Tr = A1.T.copy()\n",
    "A1_Tr"
   ]
  },
  {
   "cell_type": "markdown",
   "id": "5d964053",
   "metadata": {},
   "source": [
    "● Найдите обратную матрицу для А1"
   ]
  },
  {
   "cell_type": "code",
   "execution_count": 76,
   "id": "03caa90e",
   "metadata": {},
   "outputs": [
    {
     "data": {
      "text/plain": [
       "array([[-0.76697531, -0.66100823,  0.8441358 ,  0.51028807,  0.65277778],\n",
       "       [-0.09104938, -0.05298354,  0.1867284 , -0.02057613,  0.06944444],\n",
       "       [ 0.50154321,  0.41615226, -0.55401235, -0.44032922, -0.26388889],\n",
       "       [ 0.23919753,  0.33693416, -0.37191358,  0.08230453, -0.40277778],\n",
       "       [ 0.37808642,  0.12397119, -0.23302469, -0.21399177, -0.15277778]])"
      ]
     },
     "execution_count": 76,
     "metadata": {},
     "output_type": "execute_result"
    }
   ],
   "source": [
    "A1_inv = np.linalg.inv(A1)\n",
    "A1_inv"
   ]
  },
  {
   "cell_type": "code",
   "execution_count": 77,
   "id": "49461d53",
   "metadata": {},
   "outputs": [
    {
     "data": {
      "text/plain": [
       "array([[ 1.00000000e+00,  0.00000000e+00,  4.44089210e-16,\n",
       "        -4.44089210e-16, -4.44089210e-16],\n",
       "       [-2.22044605e-16,  1.00000000e+00, -8.88178420e-16,\n",
       "         2.22044605e-16, -4.44089210e-16],\n",
       "       [-2.22044605e-16,  0.00000000e+00,  1.00000000e+00,\n",
       "         0.00000000e+00, -3.33066907e-16],\n",
       "       [-2.22044605e-16, -4.44089210e-16,  2.22044605e-16,\n",
       "         1.00000000e+00, -3.33066907e-16],\n",
       "       [ 2.22044605e-16,  1.38777878e-16, -2.77555756e-16,\n",
       "         2.22044605e-16,  1.00000000e+00]])"
      ]
     },
     "execution_count": 77,
     "metadata": {},
     "output_type": "execute_result"
    }
   ],
   "source": [
    "A1@A1_inv # Сhecking correct invert A1"
   ]
  },
  {
   "cell_type": "markdown",
   "id": "58b2b700",
   "metadata": {},
   "source": [
    "● Создайте диагональную матрицу - поэлементно перемножив единичную\n",
    "матрицу I и случайную матрицу A2 размерности 4 на 4\n"
   ]
  },
  {
   "cell_type": "code",
   "execution_count": 78,
   "id": "f67a1366",
   "metadata": {},
   "outputs": [
    {
     "data": {
      "text/plain": [
       "array([[9, 4, 8, 7],\n",
       "       [9, 1, 6, 6],\n",
       "       [9, 8, 9, 6],\n",
       "       [5, 0, 1, 2]])"
      ]
     },
     "execution_count": 78,
     "metadata": {},
     "output_type": "execute_result"
    }
   ],
   "source": [
    "A2 = np.random.randint(10, size=(4,4)) # create array 5*5, where atribute \"10\" is max value of matrix's elements\n",
    "A2"
   ]
  },
  {
   "cell_type": "code",
   "execution_count": 81,
   "id": "b5aa3ca0",
   "metadata": {},
   "outputs": [
    {
     "data": {
      "text/plain": [
       "array([[9., 0., 0., 0.],\n",
       "       [0., 1., 0., 0.],\n",
       "       [0., 0., 9., 0.],\n",
       "       [0., 0., 0., 2.]])"
      ]
     },
     "execution_count": 81,
     "metadata": {},
     "output_type": "execute_result"
    }
   ],
   "source": [
    "A2*np.eye(4)"
   ]
  },
  {
   "cell_type": "markdown",
   "id": "44c75be2",
   "metadata": {},
   "source": [
    "● Создайте нулевую матрицу размерности 3 на 3"
   ]
  },
  {
   "cell_type": "code",
   "execution_count": 85,
   "id": "8f042011",
   "metadata": {},
   "outputs": [
    {
     "data": {
      "text/plain": [
       "array([[0., 0., 0.],\n",
       "       [0., 0., 0.],\n",
       "       [0., 0., 0.]])"
      ]
     },
     "execution_count": 85,
     "metadata": {},
     "output_type": "execute_result"
    }
   ],
   "source": [
    "A3 = np.zeros([3,3])\n",
    "A3"
   ]
  },
  {
   "cell_type": "markdown",
   "id": "d7d1d3cf",
   "metadata": {},
   "source": [
    "● Для всех полученных матриц найдите: определитель, ранг и собственные\n",
    "значения"
   ]
  },
  {
   "cell_type": "code",
   "execution_count": 91,
   "id": "277f7190",
   "metadata": {},
   "outputs": [
    {
     "data": {
      "text/plain": [
       "1943.9999999999984"
      ]
     },
     "execution_count": 91,
     "metadata": {},
     "output_type": "execute_result"
    }
   ],
   "source": [
    "np.linalg.det(A1) # Compute the determinant of the array"
   ]
  },
  {
   "cell_type": "code",
   "execution_count": 87,
   "id": "62b584ee",
   "metadata": {},
   "outputs": [
    {
     "data": {
      "text/plain": [
       "0.0005144032921810695"
      ]
     },
     "execution_count": 87,
     "metadata": {},
     "output_type": "execute_result"
    }
   ],
   "source": [
    "np.linalg.det(A1_inv)"
   ]
  },
  {
   "cell_type": "code",
   "execution_count": 88,
   "id": "71a63ab3",
   "metadata": {},
   "outputs": [
    {
     "data": {
      "text/plain": [
       "1944.0"
      ]
     },
     "execution_count": 88,
     "metadata": {},
     "output_type": "execute_result"
    }
   ],
   "source": [
    "np.linalg.det(A1_Tr)"
   ]
  },
  {
   "cell_type": "code",
   "execution_count": 89,
   "id": "de781b94",
   "metadata": {},
   "outputs": [
    {
     "data": {
      "text/plain": [
       "162.00000000000009"
      ]
     },
     "execution_count": 89,
     "metadata": {},
     "output_type": "execute_result"
    }
   ],
   "source": [
    "np.linalg.det(A2*np.eye(4))"
   ]
  },
  {
   "cell_type": "code",
   "execution_count": 93,
   "id": "fa5688c1",
   "metadata": {},
   "outputs": [
    {
     "data": {
      "text/plain": [
       "0.0"
      ]
     },
     "execution_count": 93,
     "metadata": {},
     "output_type": "execute_result"
    }
   ],
   "source": [
    "np.linalg.det(A3)"
   ]
  },
  {
   "cell_type": "code",
   "execution_count": 94,
   "id": "ed5de7ce",
   "metadata": {},
   "outputs": [
    {
     "data": {
      "text/plain": [
       "5"
      ]
     },
     "execution_count": 94,
     "metadata": {},
     "output_type": "execute_result"
    }
   ],
   "source": [
    "np.linalg.matrix_rank(A1) # Compute the matrix rank of the array"
   ]
  },
  {
   "cell_type": "code",
   "execution_count": 95,
   "id": "5297432f",
   "metadata": {},
   "outputs": [
    {
     "data": {
      "text/plain": [
       "5"
      ]
     },
     "execution_count": 95,
     "metadata": {},
     "output_type": "execute_result"
    }
   ],
   "source": [
    "np.linalg.matrix_rank(A1_inv)"
   ]
  },
  {
   "cell_type": "code",
   "execution_count": 96,
   "id": "606010db",
   "metadata": {},
   "outputs": [
    {
     "data": {
      "text/plain": [
       "5"
      ]
     },
     "execution_count": 96,
     "metadata": {},
     "output_type": "execute_result"
    }
   ],
   "source": [
    "np.linalg.matrix_rank(A1_Tr)"
   ]
  },
  {
   "cell_type": "code",
   "execution_count": 97,
   "id": "27ac2c10",
   "metadata": {},
   "outputs": [
    {
     "data": {
      "text/plain": [
       "4"
      ]
     },
     "execution_count": 97,
     "metadata": {},
     "output_type": "execute_result"
    }
   ],
   "source": [
    "np.linalg.matrix_rank(A2*np.eye(4))"
   ]
  },
  {
   "cell_type": "code",
   "execution_count": 98,
   "id": "ddc142c7",
   "metadata": {},
   "outputs": [
    {
     "data": {
      "text/plain": [
       "0"
      ]
     },
     "execution_count": 98,
     "metadata": {},
     "output_type": "execute_result"
    }
   ],
   "source": [
    "np.linalg.matrix_rank(A3)"
   ]
  },
  {
   "cell_type": "code",
   "execution_count": 99,
   "id": "c423966f",
   "metadata": {},
   "outputs": [
    {
     "data": {
      "text/plain": [
       "array([22.26289266+0.j        , -8.29109932+0.j        ,\n",
       "       -0.55034838+0.j        ,  4.28927752+0.85947771j,\n",
       "        4.28927752-0.85947771j])"
      ]
     },
     "execution_count": 99,
     "metadata": {},
     "output_type": "execute_result"
    }
   ],
   "source": [
    "np.linalg.eigvals(A1) # Compute the eigenvalues of the array"
   ]
  },
  {
   "cell_type": "code",
   "execution_count": 104,
   "id": "44c6b3b5",
   "metadata": {},
   "outputs": [
    {
     "data": {
      "text/plain": [
       "array([-1.81703089+0.j        , -0.12061127+0.j        ,\n",
       "        0.22413996+0.04491276j,  0.22413996-0.04491276j,\n",
       "        0.04491779+0.j        ])"
      ]
     },
     "execution_count": 104,
     "metadata": {},
     "output_type": "execute_result"
    }
   ],
   "source": [
    "np.linalg.eigvals(A1_inv)"
   ]
  },
  {
   "cell_type": "code",
   "execution_count": 105,
   "id": "152c9fde",
   "metadata": {},
   "outputs": [
    {
     "data": {
      "text/plain": [
       "array([22.26289266+0.j        , -8.29109932+0.j        ,\n",
       "       -0.55034838+0.j        ,  4.28927752+0.85947771j,\n",
       "        4.28927752-0.85947771j])"
      ]
     },
     "execution_count": 105,
     "metadata": {},
     "output_type": "execute_result"
    }
   ],
   "source": [
    "np.linalg.eigvals(A1_Tr)"
   ]
  },
  {
   "cell_type": "code",
   "execution_count": 106,
   "id": "93299885",
   "metadata": {},
   "outputs": [
    {
     "data": {
      "text/plain": [
       "array([9., 1., 9., 2.])"
      ]
     },
     "execution_count": 106,
     "metadata": {},
     "output_type": "execute_result"
    }
   ],
   "source": [
    "np.linalg.eigvals(A2*np.eye(4))"
   ]
  },
  {
   "cell_type": "code",
   "execution_count": 107,
   "id": "d65d3fd1",
   "metadata": {},
   "outputs": [
    {
     "data": {
      "text/plain": [
       "array([0., 0., 0.])"
      ]
     },
     "execution_count": 107,
     "metadata": {},
     "output_type": "execute_result"
    }
   ],
   "source": [
    "np.linalg.eigvals(A3)"
   ]
  },
  {
   "cell_type": "code",
   "execution_count": null,
   "id": "7abaf134",
   "metadata": {},
   "outputs": [],
   "source": []
  }
 ],
 "metadata": {
  "kernelspec": {
   "display_name": "Python 3",
   "language": "python",
   "name": "python3"
  },
  "language_info": {
   "codemirror_mode": {
    "name": "ipython",
    "version": 3
   },
   "file_extension": ".py",
   "mimetype": "text/x-python",
   "name": "python",
   "nbconvert_exporter": "python",
   "pygments_lexer": "ipython3",
   "version": "3.8.8"
  }
 },
 "nbformat": 4,
 "nbformat_minor": 5
}
