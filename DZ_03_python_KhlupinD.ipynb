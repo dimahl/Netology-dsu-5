{
 "cells": [
  {
   "cell_type": "markdown",
   "metadata": {},
   "source": [
    "# Задание 1"
   ]
  },
  {
   "cell_type": "code",
   "execution_count": 40,
   "metadata": {},
   "outputs": [],
   "source": [
    "ids = {'user1': [213, 213, 213, 15, 213],\n",
    "'user2': [54, 54, 119, 119, 119],\n",
    "'user3': [213, 98, 98, 35]}\n",
    "Результат: {98, 35, 15, 213, 54, 119}"
   ]
  },
  {
   "cell_type": "code",
   "execution_count": 41,
   "metadata": {},
   "outputs": [
    {
     "name": "stdout",
     "output_type": "stream",
     "text": [
      "Результат:  {98, 35, 15, 213, 54, 119}\n"
     ]
    }
   ],
   "source": [
    "for val in ids.values():\n",
    "    val2 += val\n",
    "val3 = set(val2)\n",
    "print(\"Результат: \",val3)"
   ]
  },
  {
   "cell_type": "markdown",
   "metadata": {},
   "source": [
    "# Задание 2 - первое приближение: 269 шагов выполнения :)"
   ]
  },
  {
   "cell_type": "code",
   "execution_count": 5,
   "metadata": {},
   "outputs": [
    {
     "name": "stdout",
     "output_type": "stream",
     "text": [
      "Поисковых запросов, содержащих 2 слов(а): 28.57 %\n",
      "Поисковых запросов, содержащих 3 слов(а): 57.14 %\n",
      "Поисковых запросов, содержащих 5 слов(а): 14.29 %\n"
     ]
    }
   ],
   "source": [
    "queries = [\n",
    "        'смотреть сериалы онлайн hg re',\n",
    "        'новости спорта',\n",
    "        'афиша кино ui',\n",
    "        'курс доллара',\n",
    "        'сериалы этим летом',\n",
    "        'курс по питону',\n",
    "        'сериалы про спорт',\n",
    "        ]\n",
    "\n",
    "total_N = []\n",
    "count_total = len(queries)\n",
    "# Подсчитал общее кол-во запросов\n",
    "\n",
    "for i in queries:\n",
    "#    Перебрал каждый запрос\n",
    "    N = i.split(' ')\n",
    "#     сплитовал отдельный запрос в список\n",
    "    total_N.append(len(N))\n",
    "#     собрал список длин запросов\n",
    "# print(total_N)\n",
    "N_unique = set(total_N)\n",
    "# print(N_unique)\n",
    "max_N = max(total_N)\n",
    "# выбрал максимально длинный запрос\n",
    "\n",
    "n = 0\n",
    "report =[]\n",
    "report_1 = []\n",
    "while n < (max_N+1):\n",
    "    report.append(report_1)\n",
    "#     print(report)\n",
    "    n += 1\n",
    "    ratio = 0\n",
    "    count = 0\n",
    "    for i in queries:\n",
    "        N = i.split(' ')\n",
    "        lenght_N = len(N)\n",
    "        if lenght_N == n:\n",
    "            count += 1\n",
    "            ratio = round(100*count/count_total,2)\n",
    "#             print('Поисковых запросов, содержащих', n, 'слов(а):', ratio,'%')\n",
    "#             print('')\n",
    "            report_1 = ['Поисковых запросов, содержащих', n, 'слов(а):', ratio,'%']\n",
    "#             report.append(report_1)\n",
    "#             print(report_1)\n",
    "# print('')\n",
    "for ii in N_unique:\n",
    "    print(report[ii][0],report[ii][1],report[ii][2],report[ii][3],report[ii][4])\n"
   ]
  },
  {
   "cell_type": "markdown",
   "metadata": {},
   "source": [
    "## Задание 2 - второе приближение: 164 шага :)"
   ]
  },
  {
   "cell_type": "code",
   "execution_count": 25,
   "metadata": {},
   "outputs": [
    {
     "name": "stdout",
     "output_type": "stream",
     "text": [
      "Поисковых запросов, содержащих 2 слов(а): 28.57 %\n",
      "Поисковых запросов, содержащих 3 слов(а): 57.14 %\n",
      "Поисковых запросов, содержащих 5 слов(а): 14.29 %\n"
     ]
    }
   ],
   "source": [
    "queries = [\n",
    "        'смотреть сериалы онлайн hg re',\n",
    "        'новости спорта',\n",
    "        'афиша кино ui',\n",
    "        'курс доллара',\n",
    "        'сериалы этим летом',\n",
    "        'курс по питону',\n",
    "        'сериалы про спорт',\n",
    "        ]\n",
    "\n",
    "total_N = []\n",
    "count_total = len(queries)\n",
    "# Подсчитал общее кол-во запросов\n",
    "\n",
    "for i in queries:\n",
    "#    Перебрал каждый запрос\n",
    "    N = i.split(' ')\n",
    "#     сплитовал отдельный запрос в список\n",
    "    total_N.append(len(N))\n",
    "#     собрал список длин запросов\n",
    "# print(total_N)\n",
    "N_unique = set(total_N)\n",
    "# print(N_unique)\n",
    "max_N = max(total_N)\n",
    "# выбрал максимально длинный запрос\n",
    "\n",
    "n = 0\n",
    "report =[]\n",
    "report_1 = []\n",
    "for n in N_unique: #ОТЛИЧИЕ ТУТ, ОТКАЗАЛСЯ ОТ WHILE\n",
    "    ratio = 0\n",
    "    count = 0\n",
    "    for i in queries:\n",
    "        N = i.split(' ')\n",
    "        lenght_N = len(N)\n",
    "        if lenght_N == n:\n",
    "            count += 1\n",
    "            ratio = round(100*count/count_total,2)\n",
    "#             print('Поисковых запросов, содержащих', n, 'слов(а):', ratio,'%')\n",
    "#             print('')\n",
    "            report_1 = ['Поисковых запросов, содержащих', n, 'слов(а):', ratio,'%']\n",
    "#             report.append(report_1)\n",
    "#             print(report_1)\n",
    "    report.append(report_1)\n",
    "# print(report)\n",
    "\n",
    "for ii in range(len(report)):\n",
    "    print(report[ii][0],report[ii][1],report[ii][2],report[ii][3],report[ii][4])\n"
   ]
  },
  {
   "cell_type": "markdown",
   "metadata": {},
   "source": [
    "## Задание 2 - окончательный вариант: 45 шагов :)"
   ]
  },
  {
   "cell_type": "code",
   "execution_count": 2,
   "metadata": {},
   "outputs": [
    {
     "name": "stdout",
     "output_type": "stream",
     "text": [
      "Поисковых запросов, содержащих 2 слов(а): 28.57%\n",
      "Поисковых запросов, содержащих 3 слов(а): 57.14%\n",
      "Поисковых запросов, содержащих 6 слов(а): 14.29%\n"
     ]
    }
   ],
   "source": [
    "queries = [\n",
    "        'смотреть сериалы онлайн hg re jf',\n",
    "        'новости спорта',\n",
    "        'афиша кино ui',\n",
    "        'курс доллара',\n",
    "        'сериалы этим летом',\n",
    "        'курс по питону',\n",
    "        'сериалы про спорт',\n",
    "        ]\n",
    "\n",
    "total_N = []\n",
    "count_total = len(queries)\n",
    "\n",
    "for i in queries:\n",
    "    N = i.split(' ')\n",
    "    total_N.append(len(N))\n",
    "\n",
    "N_unique = set(total_N)\n",
    "\n",
    "for i in N_unique:\n",
    "    count = total_N.count(i)\n",
    "    ratio = round(100*count/count_total, 2)\n",
    "    print(f'Поисковых запросов, содержащих {i} слов(а): {ratio}%')\n"
   ]
  },
  {
   "cell_type": "markdown",
   "metadata": {},
   "source": [
    "## Задание 3"
   ]
  },
  {
   "cell_type": "code",
   "execution_count": 1,
   "metadata": {},
   "outputs": [],
   "source": [
    "results = {\n",
    "        'vk': {'revenue': 103, 'cost': 98},\n",
    "        'yandex': {'revenue': 179, 'cost': 153},\n",
    "        'facebook': {'revenue': 103, 'cost': 110},\n",
    "        'adwords': {'revenue': 35, 'cost': 34},\n",
    "        'twitter': {'revenue': 11, 'cost': 24},\n",
    "        }"
   ]
  },
  {
   "cell_type": "code",
   "execution_count": 32,
   "metadata": {},
   "outputs": [
    {
     "data": {
      "text/plain": [
       "{'vk': {'revenue': 103, 'cost': 98, 'ROI': 5.1},\n",
       " 'yandex': {'revenue': 179, 'cost': 153, 'ROI': 16.99},\n",
       " 'facebook': {'revenue': 103, 'cost': 110, 'ROI': -6.36},\n",
       " 'adwords': {'revenue': 35, 'cost': 34, 'ROI': 2.94},\n",
       " 'twitter': {'revenue': 11, 'cost': 24, 'ROI': -54.17}}"
      ]
     },
     "execution_count": 32,
     "metadata": {},
     "output_type": "execute_result"
    }
   ],
   "source": [
    "for i in results.values():\n",
    "    rev = i['revenue']\n",
    "    cost_ = i['cost']\n",
    "    roi_ = round((rev/cost_ - 1)*100, 2)\n",
    "    i.setdefault('ROI', roi_)\n",
    "results\n"
   ]
  },
  {
   "cell_type": "markdown",
   "metadata": {},
   "source": [
    "## Задание 4"
   ]
  },
  {
   "cell_type": "code",
   "execution_count": 33,
   "metadata": {},
   "outputs": [],
   "source": [
    "stats = {'facebook': 55, 'yandex': 115, 'vk': 120, 'google': 99, 'email': 42, 'ok': 98}"
   ]
  },
  {
   "cell_type": "code",
   "execution_count": 41,
   "metadata": {},
   "outputs": [
    {
     "name": "stdout",
     "output_type": "stream",
     "text": [
      "Максимальный объем продаж на рекламном канале: vk\n"
     ]
    }
   ],
   "source": [
    "max_val = max(stats.values())\n",
    "for i, ii in stats.items():\n",
    "    if ii == max_val:\n",
    "        print(f'Максимальный объем продаж на рекламном канале: {i}')"
   ]
  },
  {
   "cell_type": "markdown",
   "metadata": {},
   "source": [
    "## Задание 5"
   ]
  },
  {
   "cell_type": "code",
   "execution_count": 8,
   "metadata": {},
   "outputs": [
    {
     "data": {
      "text/plain": [
       "{1: {2: {0: {'uy': {'2020-05-09': {6: {7: 8}}}}}}}"
      ]
     },
     "execution_count": 8,
     "metadata": {},
     "output_type": "execute_result"
    }
   ],
   "source": [
    "list_ = [1, 2, 0, 'uy', '2020-05-09', 6, 7, 8]\n",
    "list_.reverse()\n",
    "L1 = list_[0]\n",
    "\n",
    "for i in list_[1:]:\n",
    "    L1 = {i:L1}\n",
    "\n",
    "L1\n",
    "    "
   ]
  },
  {
   "cell_type": "markdown",
   "metadata": {},
   "source": [
    "## Задание 6"
   ]
  },
  {
   "cell_type": "markdown",
   "metadata": {},
   "source": [
    "### после разбора на вебинаре, услышал что надо сделать множество где ключом будет кортеж из продукта и типа ед. измерения.  А я хотел сделать и делал вложенный словарь {продукт:{тип:единицы}} и вот достучаться до единиц у меня не получалось. (то что томаты с разными единицами я не заметил, и пока опустим это). У меня вопрос если принять что томаты одной единицы, как сделать через вложенные множества, в чем я ошибся, я перебирал разный синтаксис и .values() и как в примере сейчас оставлено, там если дебаг через принты поделать, он даже находит сыр к 50 прибавляет 20( в слаке я приводил скрин), но почему то ошибка все равно. Подскажите пожалуйста как правильно обратиться к значению вложенного словаря."
   ]
  },
  {
   "cell_type": "code",
   "execution_count": 79,
   "metadata": {},
   "outputs": [
    {
     "name": "stdout",
     "output_type": "stream",
     "text": [
      "50\n",
      "70\n"
     ]
    },
    {
     "ename": "KeyError",
     "evalue": "'гр'",
     "output_type": "error",
     "traceback": [
      "\u001b[1;31m---------------------------------------------------------------------------\u001b[0m",
      "\u001b[1;31mKeyError\u001b[0m                                  Traceback (most recent call last)",
      "\u001b[1;32m<ipython-input-79-e3836487e680>\u001b[0m in \u001b[0;36m<module>\u001b[1;34m\u001b[0m\n\u001b[0;32m     40\u001b[0m         \u001b[1;32melse\u001b[0m\u001b[1;33m:\u001b[0m\u001b[1;33m\u001b[0m\u001b[1;33m\u001b[0m\u001b[0m\n\u001b[0;32m     41\u001b[0m             \u001b[0mprint\u001b[0m\u001b[1;33m(\u001b[0m\u001b[0mingredients_listing\u001b[0m\u001b[1;33m[\u001b[0m\u001b[1;34m'сыр'\u001b[0m\u001b[1;33m]\u001b[0m\u001b[1;33m[\u001b[0m\u001b[1;34m'гр'\u001b[0m\u001b[1;33m]\u001b[0m\u001b[1;33m)\u001b[0m\u001b[1;33m\u001b[0m\u001b[1;33m\u001b[0m\u001b[0m\n\u001b[1;32m---> 42\u001b[1;33m             \u001b[0mingredients_listing\u001b[0m\u001b[1;33m[\u001b[0m\u001b[0mii\u001b[0m\u001b[1;33m[\u001b[0m\u001b[1;34m'ingridient_name'\u001b[0m\u001b[1;33m]\u001b[0m\u001b[1;33m]\u001b[0m\u001b[1;33m[\u001b[0m\u001b[0mii\u001b[0m\u001b[1;33m[\u001b[0m\u001b[1;34m'measure'\u001b[0m\u001b[1;33m]\u001b[0m\u001b[1;33m]\u001b[0m \u001b[1;33m+=\u001b[0m \u001b[0mii\u001b[0m\u001b[1;33m[\u001b[0m\u001b[1;34m'quantity'\u001b[0m\u001b[1;33m]\u001b[0m\u001b[1;33m\u001b[0m\u001b[1;33m\u001b[0m\u001b[0m\n\u001b[0m\u001b[0;32m     43\u001b[0m \u001b[1;31m#             print(ingredients_listing[ii['ingridient_name']][ii['measure']])\u001b[0m\u001b[1;33m\u001b[0m\u001b[1;33m\u001b[0m\u001b[1;33m\u001b[0m\u001b[0m\n\u001b[0;32m     44\u001b[0m \u001b[1;31m# print(ingredients_listing['сахар']['гр'])\u001b[0m\u001b[1;33m\u001b[0m\u001b[1;33m\u001b[0m\u001b[1;33m\u001b[0m\u001b[0m\n",
      "\u001b[1;31mKeyError\u001b[0m: 'гр'"
     ]
    }
   ],
   "source": [
    "cook_book = {\n",
    "            'салат': [\n",
    "            {'ingridient_name': 'сыр', 'quantity': 50, 'measure': 'гр'},\n",
    "            {'ingridient_name': 'томаты', 'quantity': 2, 'measure': 'шт'},\n",
    "            {'ingridient_name': 'огурцы', 'quantity': 20, 'measure': 'гр'},\n",
    "            {'ingridient_name': 'маслины', 'quantity': 10, 'measure': 'гр'},\n",
    "            {'ingridient_name': 'оливковое масло', 'quantity': 20, 'measure': 'мл'},\n",
    "            {'ingridient_name': 'салат', 'quantity': 10, 'measure': 'гр'},\n",
    "            {'ingridient_name': 'перец', 'quantity': 20, 'measure': 'гр'}\n",
    "            ],\n",
    "            'пицца': [\n",
    "            {'ingridient_name': 'сыр', 'quantity': 20, 'measure': 'гр'},\n",
    "            {'ingridient_name': 'колбаса', 'quantity': 30, 'measure': 'гр'},\n",
    "            {'ingridient_name': 'бекон', 'quantity': 30, 'measure': 'гр'},\n",
    "            {'ingridient_name': 'оливки', 'quantity': 10, 'measure': 'гр'},\n",
    "            {'ingridient_name': 'томаты', 'quantity': 20, 'measure': 'гр'},\n",
    "            {'ingridient_name': 'тесто', 'quantity': 100, 'measure': 'гр'},\n",
    "            ],\n",
    "            'лимонад': [\n",
    "            {'ingridient_name': 'лимон', 'quantity': 1, 'measure': 'шт'},\n",
    "            {'ingridient_name': 'вода', 'quantity': 200, 'measure': 'мл'},\n",
    "            {'ingridient_name': 'сахар', 'quantity': 10, 'measure': 'гр'},\n",
    "            {'ingridient_name': 'лайм', 'quantity': 20, 'measure': 'гр'},\n",
    "            ]\n",
    "            }\n",
    "\n",
    "ingredients_listing = {}\n",
    "ingredients_listing_copy = {}\n",
    "\n",
    "for i in cook_book.values():\n",
    "    for ii in i:\n",
    "        x = 0\n",
    "#         print(ii['ingridient_name'])\n",
    "#         ingredients_listing.setdefault(ii.keys)\n",
    "        if ii['ingridient_name'] not in ingredients_listing:\n",
    "            ingredients_listing[ii['ingridient_name']] = {ii['measure']:ii['quantity']}\n",
    "            ingredients_listing_copy[ii['ingridient_name']] = {ii['measure']:ii['quantity']}\n",
    "#             print(ingredients_listing)\n",
    "#             print(ingredients_listing['ingridient_name'].get('measure'))\n",
    "        else:\n",
    "            print(ingredients_listing['сыр']['гр'])\n",
    "            ingredients_listing[ii['ingridient_name']][ii['measure']] += ii['quantity']\n",
    "#             print(ingredients_listing[ii['ingridient_name']][ii['measure']])\n",
    "# print(ingredients_listing['сахар']['гр'])\n",
    "\n",
    "# ingredients_listing"
   ]
  },
  {
   "cell_type": "markdown",
   "metadata": {},
   "source": [
    "## Задание 6. Промежуточный вариант, почему for касный в конце?"
   ]
  },
  {
   "cell_type": "code",
   "execution_count": 97,
   "metadata": {},
   "outputs": [
    {
     "name": "stdout",
     "output_type": "stream",
     "text": [
      "сыр: 700 гр\n",
      "томаты: 20 шт\n",
      "огурцы: 200 гр\n",
      "маслины: 100 гр\n",
      "оливковое масло: 200 мл\n",
      "салат: 100 гр\n",
      "перец: 200 гр\n",
      "колбаса: 300 гр\n",
      "бекон: 300 гр\n",
      "оливки: 100 гр\n",
      "томаты: 200 гр\n",
      "тесто: 1000 гр\n",
      "лимон: 10 шт\n",
      "вода: 2000 мл\n",
      "сахар: 100 гр\n",
      "лайм: 200 гр\n"
     ]
    }
   ],
   "source": [
    "cook_book = {\n",
    "            'салат': [\n",
    "            {'ingridient_name': 'сыр', 'quantity': 50, 'measure': 'гр'},\n",
    "            {'ingridient_name': 'томаты', 'quantity': 2, 'measure': 'шт'},\n",
    "            {'ingridient_name': 'огурцы', 'quantity': 20, 'measure': 'гр'},\n",
    "            {'ingridient_name': 'маслины', 'quantity': 10, 'measure': 'гр'},\n",
    "            {'ingridient_name': 'оливковое масло', 'quantity': 20, 'measure': 'мл'},\n",
    "            {'ingridient_name': 'салат', 'quantity': 10, 'measure': 'гр'},\n",
    "            {'ingridient_name': 'перец', 'quantity': 20, 'measure': 'гр'}\n",
    "            ],\n",
    "            'пицца': [\n",
    "            {'ingridient_name': 'сыр', 'quantity': 20, 'measure': 'гр'},\n",
    "            {'ingridient_name': 'колбаса', 'quantity': 30, 'measure': 'гр'},\n",
    "            {'ingridient_name': 'бекон', 'quantity': 30, 'measure': 'гр'},\n",
    "            {'ingridient_name': 'оливки', 'quantity': 10, 'measure': 'гр'},\n",
    "            {'ingridient_name': 'томаты', 'quantity': 20, 'measure': 'гр'},\n",
    "            {'ingridient_name': 'тесто', 'quantity': 100, 'measure': 'гр'},\n",
    "            ],\n",
    "            'лимонад': [\n",
    "            {'ingridient_name': 'лимон', 'quantity': 1, 'measure': 'шт'},\n",
    "            {'ingridient_name': 'вода', 'quantity': 200, 'measure': 'мл'},\n",
    "            {'ingridient_name': 'сахар', 'quantity': 10, 'measure': 'гр'},\n",
    "            {'ingridient_name': 'лайм', 'quantity': 20, 'measure': 'гр'},\n",
    "            ]\n",
    "            }\n",
    "person = 10\n",
    "ingredients_list = {}\n",
    "\n",
    "for dish in cook_book.values():\n",
    "    for content in dish:\n",
    "        if (content['ingridient_name'], content['measure']) not in ingredients_list:\n",
    "            ingredients_list[(content['ingridient_name'], content['measure'])] = content['quantity'] * person    \n",
    "        else:\n",
    "            ingredients_list[(content['ingridient_name'], content['measure'])] += content['quantity'] * person\n",
    "           \n",
    "for key, val in ingredients_list.items():\n",
    "    print(f'{key[0]}: {val} {key[1]}')\n"
   ]
  },
  {
   "cell_type": "markdown",
   "metadata": {},
   "source": [
    "## Задание 6. Окончательный вариант"
   ]
  },
  {
   "cell_type": "code",
   "execution_count": 98,
   "metadata": {},
   "outputs": [
    {
     "name": "stdout",
     "output_type": "stream",
     "text": [
      "сыр: 700 гр\n",
      "томаты: 20 шт\n",
      "огурцы: 200 гр\n",
      "маслины: 100 гр\n",
      "оливковое масло: 200 мл\n",
      "салат: 100 гр\n",
      "перец: 200 гр\n",
      "колбаса: 300 гр\n",
      "бекон: 300 гр\n",
      "оливки: 100 гр\n",
      "томаты: 200 гр\n",
      "тесто: 1000 гр\n",
      "лимон: 10 шт\n",
      "вода: 2000 мл\n",
      "сахар: 100 гр\n",
      "лайм: 200 гр\n"
     ]
    }
   ],
   "source": [
    "cook_book = {\n",
    "            'салат': [\n",
    "            {'ingridient_name': 'сыр', 'quantity': 50, 'measure': 'гр'},\n",
    "            {'ingridient_name': 'томаты', 'quantity': 2, 'measure': 'шт'},\n",
    "            {'ingridient_name': 'огурцы', 'quantity': 20, 'measure': 'гр'},\n",
    "            {'ingridient_name': 'маслины', 'quantity': 10, 'measure': 'гр'},\n",
    "            {'ingridient_name': 'оливковое масло', 'quantity': 20, 'measure': 'мл'},\n",
    "            {'ingridient_name': 'салат', 'quantity': 10, 'measure': 'гр'},\n",
    "            {'ingridient_name': 'перец', 'quantity': 20, 'measure': 'гр'}\n",
    "            ],\n",
    "            'пицца': [\n",
    "            {'ingridient_name': 'сыр', 'quantity': 20, 'measure': 'гр'},\n",
    "            {'ingridient_name': 'колбаса', 'quantity': 30, 'measure': 'гр'},\n",
    "            {'ingridient_name': 'бекон', 'quantity': 30, 'measure': 'гр'},\n",
    "            {'ingridient_name': 'оливки', 'quantity': 10, 'measure': 'гр'},\n",
    "            {'ingridient_name': 'томаты', 'quantity': 20, 'measure': 'гр'},\n",
    "            {'ingridient_name': 'тесто', 'quantity': 100, 'measure': 'гр'},\n",
    "            ],\n",
    "            'лимонад': [\n",
    "            {'ingridient_name': 'лимон', 'quantity': 1, 'measure': 'шт'},\n",
    "            {'ingridient_name': 'вода', 'quantity': 200, 'measure': 'мл'},\n",
    "            {'ingridient_name': 'сахар', 'quantity': 10, 'measure': 'гр'},\n",
    "            {'ingridient_name': 'лайм', 'quantity': 20, 'measure': 'гр'},\n",
    "            ]\n",
    "            }\n",
    "person = 10\n",
    "ingredients_list = {}\n",
    "\n",
    "for dish in cook_book.values():\n",
    "    for content in dish:\n",
    "        key = (content['ingridient_name'], content['measure'])\n",
    "        ingredients_list.setdefault(key, 0)    \n",
    "        ingredients_list[key] += content['quantity'] * person\n",
    "           \n",
    "for key, val in ingredients_list.items():\n",
    "    print(f'{key[0]}: {val} {key[1]}')\n"
   ]
  }
 ],
 "metadata": {
  "kernelspec": {
   "display_name": "Python 3",
   "language": "python",
   "name": "python3"
  },
  "language_info": {
   "codemirror_mode": {
    "name": "ipython",
    "version": 3
   },
   "file_extension": ".py",
   "mimetype": "text/x-python",
   "name": "python",
   "nbconvert_exporter": "python",
   "pygments_lexer": "ipython3",
   "version": "3.8.5"
  }
 },
 "nbformat": 4,
 "nbformat_minor": 4
}
