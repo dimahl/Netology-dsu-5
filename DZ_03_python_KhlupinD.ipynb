{
 "cells": [
  {
   "cell_type": "markdown",
   "metadata": {},
   "source": [
    "# Задание 1"
   ]
  },
  {
   "cell_type": "code",
   "execution_count": 40,
   "metadata": {},
   "outputs": [],
   "source": [
    "ids = {'user1': [213, 213, 213, 15, 213],\n",
    "'user2': [54, 54, 119, 119, 119],\n",
    "'user3': [213, 98, 98, 35]}\n",
    "Результат: {98, 35, 15, 213, 54, 119}"
   ]
  },
  {
   "cell_type": "code",
   "execution_count": 41,
   "metadata": {},
   "outputs": [
    {
     "name": "stdout",
     "output_type": "stream",
     "text": [
      "Результат:  {98, 35, 15, 213, 54, 119}\n"
     ]
    }
   ],
   "source": [
    "for val in ids.values():\n",
    "    val2 += val\n",
    "val3 = set(val2)\n",
    "print(\"Результат: \",val3)"
   ]
  },
  {
   "cell_type": "markdown",
   "metadata": {},
   "source": [
    "# Задание 2 - первое приближение: 269 шагов выполнения :)"
   ]
  },
  {
   "cell_type": "code",
   "execution_count": 5,
   "metadata": {},
   "outputs": [
    {
     "name": "stdout",
     "output_type": "stream",
     "text": [
      "Поисковых запросов, содержащих 2 слов(а): 28.57 %\n",
      "Поисковых запросов, содержащих 3 слов(а): 57.14 %\n",
      "Поисковых запросов, содержащих 5 слов(а): 14.29 %\n"
     ]
    }
   ],
   "source": [
    "queries = [\n",
    "        'смотреть сериалы онлайн hg re',\n",
    "        'новости спорта',\n",
    "        'афиша кино ui',\n",
    "        'курс доллара',\n",
    "        'сериалы этим летом',\n",
    "        'курс по питону',\n",
    "        'сериалы про спорт',\n",
    "        ]\n",
    "\n",
    "total_N = []\n",
    "count_total = len(queries)\n",
    "# Подсчитал общее кол-во запросов\n",
    "\n",
    "for i in queries:\n",
    "#    Перебрал каждый запрос\n",
    "    N = i.split(' ')\n",
    "#     сплитовал отдельный запрос в список\n",
    "    total_N.append(len(N))\n",
    "#     собрал список длин запросов\n",
    "# print(total_N)\n",
    "N_unique = set(total_N)\n",
    "# print(N_unique)\n",
    "max_N = max(total_N)\n",
    "# выбрал максимально длинный запрос\n",
    "\n",
    "n = 0\n",
    "report =[]\n",
    "report_1 = []\n",
    "while n < (max_N+1):\n",
    "    report.append(report_1)\n",
    "#     print(report)\n",
    "    n += 1\n",
    "    ratio = 0\n",
    "    count = 0\n",
    "    for i in queries:\n",
    "        N = i.split(' ')\n",
    "        lenght_N = len(N)\n",
    "        if lenght_N == n:\n",
    "            count += 1\n",
    "            ratio = round(100*count/count_total,2)\n",
    "#             print('Поисковых запросов, содержащих', n, 'слов(а):', ratio,'%')\n",
    "#             print('')\n",
    "            report_1 = ['Поисковых запросов, содержащих', n, 'слов(а):', ratio,'%']\n",
    "#             report.append(report_1)\n",
    "#             print(report_1)\n",
    "# print('')\n",
    "for ii in N_unique:\n",
    "    print(report[ii][0],report[ii][1],report[ii][2],report[ii][3],report[ii][4])\n"
   ]
  },
  {
   "cell_type": "markdown",
   "metadata": {},
   "source": [
    "## Задание 2 - второе приближение: 164 шага :)"
   ]
  },
  {
   "cell_type": "code",
   "execution_count": 25,
   "metadata": {},
   "outputs": [
    {
     "name": "stdout",
     "output_type": "stream",
     "text": [
      "Поисковых запросов, содержащих 2 слов(а): 28.57 %\n",
      "Поисковых запросов, содержащих 3 слов(а): 57.14 %\n",
      "Поисковых запросов, содержащих 5 слов(а): 14.29 %\n"
     ]
    }
   ],
   "source": [
    "queries = [\n",
    "        'смотреть сериалы онлайн hg re',\n",
    "        'новости спорта',\n",
    "        'афиша кино ui',\n",
    "        'курс доллара',\n",
    "        'сериалы этим летом',\n",
    "        'курс по питону',\n",
    "        'сериалы про спорт',\n",
    "        ]\n",
    "\n",
    "total_N = []\n",
    "count_total = len(queries)\n",
    "# Подсчитал общее кол-во запросов\n",
    "\n",
    "for i in queries:\n",
    "#    Перебрал каждый запрос\n",
    "    N = i.split(' ')\n",
    "#     сплитовал отдельный запрос в список\n",
    "    total_N.append(len(N))\n",
    "#     собрал список длин запросов\n",
    "# print(total_N)\n",
    "N_unique = set(total_N)\n",
    "# print(N_unique)\n",
    "max_N = max(total_N)\n",
    "# выбрал максимально длинный запрос\n",
    "\n",
    "n = 0\n",
    "report =[]\n",
    "report_1 = []\n",
    "for n in N_unique: #ОТЛИЧИЕ ТУТ, ОТКАЗАЛСЯ ОТ WHILE\n",
    "    ratio = 0\n",
    "    count = 0\n",
    "    for i in queries:\n",
    "        N = i.split(' ')\n",
    "        lenght_N = len(N)\n",
    "        if lenght_N == n:\n",
    "            count += 1\n",
    "            ratio = round(100*count/count_total,2)\n",
    "#             print('Поисковых запросов, содержащих', n, 'слов(а):', ratio,'%')\n",
    "#             print('')\n",
    "            report_1 = ['Поисковых запросов, содержащих', n, 'слов(а):', ratio,'%']\n",
    "#             report.append(report_1)\n",
    "#             print(report_1)\n",
    "    report.append(report_1)\n",
    "# print(report)\n",
    "\n",
    "for ii in range(len(report)):\n",
    "    print(report[ii][0],report[ii][1],report[ii][2],report[ii][3],report[ii][4])\n"
   ]
  },
  {
   "cell_type": "markdown",
   "metadata": {},
   "source": [
    "## Задание 2 - окончательный вариант: 45 шагов :)"
   ]
  },
  {
   "cell_type": "code",
   "execution_count": 38,
   "metadata": {},
   "outputs": [
    {
     "name": "stdout",
     "output_type": "stream",
     "text": [
      "Поисковых запросов, содержащих 2 слов(а): 28.57%\n",
      "Поисковых запросов, содержащих 3 слов(а): 57.14%\n",
      "Поисковых запросов, содержащих 6 слов(а): 14.29%\n"
     ]
    }
   ],
   "source": [
    "queries = [\n",
    "        'смотреть сериалы онлайн hg re jf',\n",
    "        'новости спорта',\n",
    "        'афиша кино ui',\n",
    "        'курс доллара',\n",
    "        'сериалы этим летом',\n",
    "        'курс по питону',\n",
    "        'сериалы про спорт',\n",
    "        ]\n",
    "\n",
    "total_N = []\n",
    "count_total = len(queries)\n",
    "\n",
    "for i in queries:\n",
    "    N = i.split(' ')\n",
    "    total_N.append(len(N))\n",
    "    \n",
    "N_unique = set(total_N)\n",
    "\n",
    "for i in N_unique:\n",
    "    count = total_N.count(i)\n",
    "    ratio = round(100*count/count_total,2)\n",
    "    print(f'Поисковых запросов, содержащих {i} слов(а): {ratio}%')\n"
   ]
  },
  {
   "cell_type": "code",
   "execution_count": null,
   "metadata": {},
   "outputs": [],
   "source": []
  }
 ],
 "metadata": {
  "kernelspec": {
   "display_name": "Python 3",
   "language": "python",
   "name": "python3"
  },
  "language_info": {
   "codemirror_mode": {
    "name": "ipython",
    "version": 3
   },
   "file_extension": ".py",
   "mimetype": "text/x-python",
   "name": "python",
   "nbconvert_exporter": "python",
   "pygments_lexer": "ipython3",
   "version": "3.8.5"
  }
 },
 "nbformat": 4,
 "nbformat_minor": 4
}
