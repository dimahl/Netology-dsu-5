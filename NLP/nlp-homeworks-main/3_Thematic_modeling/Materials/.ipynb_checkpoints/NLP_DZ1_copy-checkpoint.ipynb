{
 "cells": [
  {
   "cell_type": "markdown",
   "metadata": {
    "pycharm": {
     "name": "#%% md\n"
    }
   },
   "source": [
    "### Классификация по тональности\n",
    "В этом домашнем задании вам предстоит классифицировать по тональности отзывы на банки с сайта banki.ru.\n",
    "\n",
    "Данные содержат непосредственно тексты отзывов, некоторую дополнительную информацию, а также оценку по шкале от 1 до 5.\n",
    "\n",
    "Тексты хранятся в json-ах в массиве responses.\n",
    "\n",
    "Посмотрим на примере отзыва: возьмите для удобства ноутбук, размещенный в папке репозитория.\n",
    "\n",
    "\n",
    "### Часть 1. Анализ текстов\n",
    "1. Посчитайте количество отзывов в разных городах и на разные банки\n",
    "2. Постройте гистограмы длин слов в символах и в словах\n",
    "3. Найдите 10 самых частых:\n",
    "- слов\n",
    "- слов без стоп-слов\n",
    "- лемм\n",
    "- существительных\n",
    "\n",
    "4. Постройте кривые Ципфа и Хипса\n",
    "5. Ответьте на следующие вопросы:\n",
    "- какое слово встречается чаще, \"сотрудник\" или \"клиент\"?\n",
    "- сколько раз встречается слова \"мошенничество\" и \"доверие\"?\n",
    "\n",
    "6. В поле \"rating_grade\" записана оценка отзыва по шкале от 1 до 5. Используйте меру $tf-idf$, для того, чтобы найти ключевые слова и биграмы для положительных отзывов (с оценкой 5) и отрицательных отзывов (с оценкой 1)\n",
    "\n",
    "### Часть 2. Тематическое моделирование\n",
    "1. Постройте несколько тематических моделей коллекции документов с разным числом тем. Приведите примеры понятных (интерпретируемых) тем.\n",
    "2. Найдите темы, в которых упомянуты конкретные банки (Сбербанк, ВТБ, другой банк). Можете ли вы их прокомментировать / объяснить?\n",
    "Эта часть задания может быть сделана с использованием gensim.\n",
    "\n",
    "### Часть 3. Классификация текстов\n",
    "Сформулируем для простоты задачу бинарной классификации: будем классифицировать на два класса, то есть, различать резко отрицательные отзывы (с оценкой 1) и положительные отзывы (с оценкой 5).\n",
    "\n",
    "1. Составьте обучающее и тестовое множество: выберите из всего набора данных N1 отзывов с оценкой 1 и N2 отзывов с оценкой 5 (значение N1 и N2 – на ваше усмотрение). Используйте sklearn.model_selection.train_test_split для разделения множества отобранных документов на обучающее и тестовое.\n",
    "2. Используйте любой известный вам алгоритм классификации текстов для решения задачи и получите baseline. Сравните разные варианты векторизации текста: использование только униграм, пар или троек слов или с использованием символьных $n$-грам.\n",
    "3. Сравните, как изменяется качество решения задачи при использовании скрытых тем в качестве признаков:\n",
    "- 1-ый вариант: $tf-idf$ преобразование (sklearn.feature_extraction.text.TfidfTransformer) и сингулярное разложение (оно же – латентый семантический анализ) (sklearn.decomposition.TruncatedSVD),\n",
    "- 2-ой вариант: тематические модели LDA (sklearn.decomposition.LatentDirichletAllocation).\n",
    "Используйте accuracy и F-measure для оценки качества классификации.\n",
    "\n",
    "В ноутбуке, размещенном в папке репозитория. написан примерный Pipeline для классификации текстов.\n",
    "\n",
    "Эта часть задания может быть сделана с использованием sklearn."
   ]
  },
  {
   "cell_type": "code",
   "execution_count": 1,
   "metadata": {
    "pycharm": {
     "name": "#%%\n"
    }
   },
   "outputs": [
    {
     "ename": "ModuleNotFoundError",
     "evalue": "No module named 'transliterate'",
     "output_type": "error",
     "traceback": [
      "\u001b[1;31m---------------------------------------------------------------------------\u001b[0m",
      "\u001b[1;31mModuleNotFoundError\u001b[0m                       Traceback (most recent call last)",
      "\u001b[1;32m~\\AppData\\Local\\Temp/ipykernel_13000/2566618412.py\u001b[0m in \u001b[0;36m<module>\u001b[1;34m\u001b[0m\n\u001b[0;32m      4\u001b[0m \u001b[1;31m# import regex\u001b[0m\u001b[1;33m\u001b[0m\u001b[1;33m\u001b[0m\u001b[0m\n\u001b[0;32m      5\u001b[0m \u001b[1;31m# from scipy import sparse\u001b[0m\u001b[1;33m\u001b[0m\u001b[1;33m\u001b[0m\u001b[0m\n\u001b[1;32m----> 6\u001b[1;33m \u001b[1;32mfrom\u001b[0m \u001b[0mtransliterate\u001b[0m \u001b[1;32mimport\u001b[0m \u001b[0mtranslit\u001b[0m\u001b[1;33m\u001b[0m\u001b[1;33m\u001b[0m\u001b[0m\n\u001b[0m",
      "\u001b[1;31mModuleNotFoundError\u001b[0m: No module named 'transliterate'"
     ]
    }
   ],
   "source": [
    "import json\n",
    "\n",
    "import bz2\n",
    "# import regex\n",
    "# from scipy import sparse\n",
    "from transliterate import translit"
   ]
  },
  {
   "cell_type": "code",
   "execution_count": 2,
   "metadata": {
    "id": "_ZsoxOinqauK",
    "outputId": "1b349b33-f266-404a-fa55-4088784d8897",
    "pycharm": {
     "name": "#%%\n"
    }
   },
   "outputs": [
    {
     "name": "stderr",
     "output_type": "stream",
     "text": [
      "c:\\Users\\Dmitriy\\AppData\\Local\\Programs\\Python\\Python310\\lib\\site-packages\\tqdm\\auto.py:22: TqdmWarning: IProgress not found. Please update jupyter and ipywidgets. See https://ipywidgets.readthedocs.io/en/stable/user_install.html\n",
      "  from .autonotebook import tqdm as notebook_tqdm\n"
     ]
    }
   ],
   "source": [
    "import pandas as pd\n",
    "import numpy as np\n",
    "import nltk\n",
    "import matplotlib.pyplot as plt\n",
    "import seaborn as sns\n",
    "%matplotlib inline\n",
    "\n",
    "from tqdm.auto import tqdm\n",
    "tqdm.pandas(desc=\"progress: \")"
   ]
  },
  {
   "cell_type": "code",
   "execution_count": 3,
   "metadata": {
    "id": "UNHVsbPnqauL",
    "outputId": "e8d7d7f4-576b-4846-b06a-f3b4a08adb95",
    "pycharm": {
     "name": "#%%\n"
    },
    "scrolled": true
   },
   "outputs": [
    {
     "name": "stderr",
     "output_type": "stream",
     "text": [
      "201030it [01:36, 2090.33it/s]\n"
     ]
    }
   ],
   "source": [
    "responses = []\n",
    "with bz2.BZ2File('banki_responses.json.bz2', 'r') as thefile:\n",
    "    for row in tqdm(thefile):\n",
    "        resp = json.loads(row)\n",
    "        # responses.append(resp)\n",
    "        if not resp['rating_not_checked'] and (len(resp['text'].split()) > 0):\n",
    "            responses.append(resp)\n",
    "df_responses_raw = pd.DataFrame(responses)\n",
    "# df_responses_raw = pd.read_json('banki_responses.json.bz2', compression='bz2', lines=True)"
   ]
  },
  {
   "cell_type": "code",
   "execution_count": 7,
   "metadata": {
    "pycharm": {
     "name": "#%%\n"
    }
   },
   "outputs": [
    {
     "data": {
      "text/html": [
       "<div>\n",
       "<style scoped>\n",
       "    .dataframe tbody tr th:only-of-type {\n",
       "        vertical-align: middle;\n",
       "    }\n",
       "\n",
       "    .dataframe tbody tr th {\n",
       "        vertical-align: top;\n",
       "    }\n",
       "\n",
       "    .dataframe thead th {\n",
       "        text-align: right;\n",
       "    }\n",
       "</style>\n",
       "<table border=\"1\" class=\"dataframe\">\n",
       "  <thead>\n",
       "    <tr style=\"text-align: right;\">\n",
       "      <th></th>\n",
       "      <th>city</th>\n",
       "      <th>rating_not_checked</th>\n",
       "      <th>title</th>\n",
       "      <th>num_comments</th>\n",
       "      <th>bank_license</th>\n",
       "      <th>author</th>\n",
       "      <th>bank_name</th>\n",
       "      <th>datetime</th>\n",
       "      <th>text</th>\n",
       "      <th>rating_grade</th>\n",
       "    </tr>\n",
       "  </thead>\n",
       "  <tbody>\n",
       "    <tr>\n",
       "      <th>60987</th>\n",
       "      <td>г. Санкт-Петербург</td>\n",
       "      <td>False</td>\n",
       "      <td>Не списывает деньги по кредиту вовремя, а пото...</td>\n",
       "      <td>2</td>\n",
       "      <td>лицензия № 1481</td>\n",
       "      <td>Anna111</td>\n",
       "      <td>Сбербанк России</td>\n",
       "      <td>2014-01-16 12:19:00</td>\n",
       "      <td>Я три года (в 2010 году) назад в сбербанке офо...</td>\n",
       "      <td>1.0</td>\n",
       "    </tr>\n",
       "  </tbody>\n",
       "</table>\n",
       "</div>"
      ],
      "text/plain": [
       "                     city  rating_not_checked  \\\n",
       "60987  г. Санкт-Петербург               False   \n",
       "\n",
       "                                                   title  num_comments  \\\n",
       "60987  Не списывает деньги по кредиту вовремя, а пото...             2   \n",
       "\n",
       "          bank_license   author        bank_name             datetime  \\\n",
       "60987  лицензия № 1481  Anna111  Сбербанк России  2014-01-16 12:19:00   \n",
       "\n",
       "                                                    text  rating_grade  \n",
       "60987  Я три года (в 2010 году) назад в сбербанке офо...           1.0  "
      ]
     },
     "execution_count": 7,
     "metadata": {},
     "output_type": "execute_result"
    }
   ],
   "source": [
    "df_responses_raw.sample()"
   ]
  },
  {
   "cell_type": "markdown",
   "metadata": {
    "pycharm": {
     "name": "#%% md\n"
    }
   },
   "source": [
    "# Часть 1\n",
    "## 1. Посчитайте количество отзывов в разных городах и на разные банки"
   ]
  },
  {
   "cell_type": "code",
   "execution_count": 8,
   "metadata": {
    "id": "Dd7m6GpMqauP",
    "outputId": "975085c3-9f8c-4a64-ac12-747ffab282ce",
    "pycharm": {
     "name": "#%%\n"
    }
   },
   "outputs": [
    {
     "data": {
      "text/plain": [
       "0                 Москва\n",
       "1            Новосибирск\n",
       "2             Ставрополь\n",
       "3              Челябинск\n",
       "4              Волгоград\n",
       "              ...       \n",
       "2972        Оренбур орск\n",
       "2973                Ектб\n",
       "2974    Владимирская обл\n",
       "2975              Вся рф\n",
       "2976     Москва-владимир\n",
       "Length: 2977, dtype: object"
      ]
     },
     "execution_count": 8,
     "metadata": {},
     "output_type": "execute_result"
    }
   ],
   "source": [
    "# Много различных преобразований и фильтров\n",
    "df_responses = df_responses_raw.copy()\n",
    "df_responses.dropna(subset=['city'], inplace=True)\n",
    "df_responses['city'] = df_responses['city'].str.lower()\n",
    "# df_responses['city'] = df_responses['city'].str.replace('[\\W]+', ' ', regex=True)\n",
    "df_responses['city'] = df_responses['city'].str.replace(\n",
    "    '[.,\\(\\)\\|\\?]+', ' ', regex=True)\n",
    "# df_responses['city'] = df_responses['city'].str.replace([!#$%( ) * + , \\ -. / : ; < = > ? @ [ ] ^ _ ` { | }]+', ' ', regex=True)\n",
    "\n",
    "df_responses['city'] = df_responses['city'].str.strip()\n",
    "\n",
    "# df_responses['len_city] = df_responses[~(df_responses['city'].str.len() > 20)]\n",
    "df_responses['city'] = df_responses['city'].str.replace(\n",
    "    '(г )', '', regex=True)\n",
    "df_responses = df_responses[~(df_responses['city'].str.len() > 20)]\n",
    "df_responses = df_responses[~(df_responses['city'].str.len() < 3)]\n",
    "df_responses = df_responses[~(\n",
    "    df_responses['city'].str.isdigit().fillna(False))]\n",
    "df_responses = df_responses[~(\n",
    "    df_responses['city'].str.contains('[\\d]{7,}', na=False))]\n",
    "\n",
    "df_responses['city'] = df_responses['city'].str.replace(\n",
    "    '(хх)', 'х', regex=True)\n",
    "df_responses['city'] = df_responses['city'].str.replace(\n",
    "    '(кх)', 'х', regex=True)\n",
    "\n",
    "df_responses['city'] = df_responses['city'].str.replace(\n",
    "    '[\\s]+', ' ', regex=True)\n",
    "\n",
    "df_responses['city'] = df_responses['city'].apply(\n",
    "    lambda row: translit(row, 'ru'))\n",
    "\n",
    "df_responses['city'] = df_responses['city'].str.strip()\n",
    "df_responses['city'] = df_responses['city'].str.capitalize()\n",
    "\n",
    "list_city = pd.Series(df_responses['city'].unique())  # .sort_values()\n",
    "list_city"
   ]
  },
  {
   "cell_type": "markdown",
   "metadata": {
    "pycharm": {
     "name": "#%% md\n"
    }
   },
   "source": [
    "### Импортирую спец библиотеки и пишу обертку"
   ]
  },
  {
   "cell_type": "code",
   "execution_count": 9,
   "metadata": {
    "pycharm": {
     "name": "#%%\n"
    }
   },
   "outputs": [],
   "source": [
    "from pullenti_wrapper.referent import Referent\n",
    "from pullenti_wrapper.processor import Processor, GEO, ADDRESS\n",
    "from pullenti_wrapper.langs import set_langs, RU\n",
    "from natasha import AddrExtractor, MorphVocab, Doc, Segmenter\n",
    "segmenter = Segmenter()\n",
    "morph_vocab = MorphVocab()\n",
    "addr_extractor = AddrExtractor(morph_vocab)\n",
    "\n",
    "# pip install pullenti-wrapper\n",
    "set_langs([RU])\n",
    "processor = Processor([GEO, ADDRESS])\n",
    "\n",
    "\n",
    "def extract_city_name(text, method='pullenti'):\n",
    "    if method == 'pullenti':\n",
    "        result = processor(text).matches\n",
    "        if result:\n",
    "            try:\n",
    "                # Создаю список городОв первое совпадение по типу город 'Москва Рязань' -> 'москва'\n",
    "                name = [\n",
    "                    i.referent.name for i in result if i.referent.type == 'город']\n",
    "                if name:\n",
    "                    # Достаю первое совпадение по типу город 'Москва Рязань' -> 'москва'\n",
    "                    return name[0].lower()\n",
    "            except AttributeError:\n",
    "                print(text)\n",
    "                return '?'\n",
    "\n",
    "    if method == 'natasha':\n",
    "        name = [i.fact for i in addr_extractor(text) if i.fact.type == None]\n",
    "        if name:\n",
    "            return name[0].value.lower()\n",
    "\n",
    "    return '?'\n",
    "# extract_city_name(text)"
   ]
  },
  {
   "cell_type": "code",
   "execution_count": 10,
   "metadata": {
    "pycharm": {
     "name": "#%%\n"
    }
   },
   "outputs": [
    {
     "name": "stdout",
     "output_type": "stream",
     "text": [
      "2022-11-12 08:33:21.888447\n"
     ]
    },
    {
     "name": "stderr",
     "output_type": "stream",
     "text": [
      "progress:  78%|███████▊  | 105588/135426 [02:48<00:47, 631.63it/s]"
     ]
    },
    {
     "name": "stdout",
     "output_type": "stream",
     "text": [
      "Мо городок 17\n"
     ]
    },
    {
     "name": "stderr",
     "output_type": "stream",
     "text": [
      "progress:  97%|█████████▋| 131602/135426 [03:28<00:05, 649.76it/s]"
     ]
    },
    {
     "name": "stdout",
     "output_type": "stream",
     "text": [
      "Зеленоград корп1824\n"
     ]
    },
    {
     "name": "stderr",
     "output_type": "stream",
     "text": [
      "progress: 100%|██████████| 135426/135426 [03:34<00:00, 630.54it/s]\n",
      "progress: 100%|██████████| 16397/16397 [01:10<00:00, 232.49it/s]"
     ]
    },
    {
     "name": "stdout",
     "output_type": "stream",
     "text": [
      "2022-11-12 08:38:07.241180\n"
     ]
    },
    {
     "name": "stderr",
     "output_type": "stream",
     "text": [
      "\n"
     ]
    }
   ],
   "source": [
    "print(pd.Timestamp.now())\n",
    "# функцию вызываю раздельно в два этапа, т.к. скорость выполнения различных методов разная, и остаток уже выполняю на более медленной\n",
    "df_responses['city_name'] = df_responses['city'].progress_apply(\n",
    "    extract_city_name, args=('pullenti',))\n",
    "df_responses.loc[df_responses['city_name'] == '?', 'city_name'] = df_responses.loc[df_responses['city_name']\n",
    "                                                                                   == '?', 'city'].progress_apply(extract_city_name, args=('natasha',))\n",
    "print(pd.Timestamp.now())"
   ]
  },
  {
   "cell_type": "code",
   "execution_count": 11,
   "metadata": {
    "pycharm": {
     "name": "#%%\n"
    }
   },
   "outputs": [
    {
     "name": "stdout",
     "output_type": "stream",
     "text": [
      "Необработано строк:  6537\n",
      "Необработанный \"города\":\n"
     ]
    },
    {
     "data": {
      "text/html": [
       "<div>\n",
       "<style scoped>\n",
       "    .dataframe tbody tr th:only-of-type {\n",
       "        vertical-align: middle;\n",
       "    }\n",
       "\n",
       "    .dataframe tbody tr th {\n",
       "        vertical-align: top;\n",
       "    }\n",
       "\n",
       "    .dataframe thead th {\n",
       "        text-align: right;\n",
       "    }\n",
       "</style>\n",
       "<table border=\"1\" class=\"dataframe\">\n",
       "  <thead>\n",
       "    <tr style=\"text-align: right;\">\n",
       "      <th></th>\n",
       "      <th>city_other</th>\n",
       "      <th>city</th>\n",
       "    </tr>\n",
       "  </thead>\n",
       "  <tbody>\n",
       "    <tr>\n",
       "      <th>0</th>\n",
       "      <td>Россия</td>\n",
       "      <td>206</td>\n",
       "    </tr>\n",
       "    <tr>\n",
       "      <th>1</th>\n",
       "      <td>Щелково</td>\n",
       "      <td>192</td>\n",
       "    </tr>\n",
       "    <tr>\n",
       "      <th>2</th>\n",
       "      <td>Железнодорожный</td>\n",
       "      <td>186</td>\n",
       "    </tr>\n",
       "    <tr>\n",
       "      <th>3</th>\n",
       "      <td>Ивантеевка</td>\n",
       "      <td>87</td>\n",
       "    </tr>\n",
       "    <tr>\n",
       "      <th>4</th>\n",
       "      <td>Дмитров</td>\n",
       "      <td>81</td>\n",
       "    </tr>\n",
       "    <tr>\n",
       "      <th>...</th>\n",
       "      <td>...</td>\n",
       "      <td>...</td>\n",
       "    </tr>\n",
       "    <tr>\n",
       "      <th>1778</th>\n",
       "      <td>Рязантдк</td>\n",
       "      <td>1</td>\n",
       "    </tr>\n",
       "    <tr>\n",
       "      <th>1779</th>\n",
       "      <td>Лазаревское</td>\n",
       "      <td>1</td>\n",
       "    </tr>\n",
       "    <tr>\n",
       "      <th>1780</th>\n",
       "      <td>Нюрнберг</td>\n",
       "      <td>1</td>\n",
       "    </tr>\n",
       "    <tr>\n",
       "      <th>1781</th>\n",
       "      <td>Миск</td>\n",
       "      <td>1</td>\n",
       "    </tr>\n",
       "    <tr>\n",
       "      <th>1782</th>\n",
       "      <td>Вся рф</td>\n",
       "      <td>1</td>\n",
       "    </tr>\n",
       "  </tbody>\n",
       "</table>\n",
       "<p>1783 rows × 2 columns</p>\n",
       "</div>"
      ],
      "text/plain": [
       "           city_other  city\n",
       "0              Россия   206\n",
       "1             Щелково   192\n",
       "2     Железнодорожный   186\n",
       "3          Ивантеевка    87\n",
       "4             Дмитров    81\n",
       "...               ...   ...\n",
       "1778         Рязантдк     1\n",
       "1779      Лазаревское     1\n",
       "1780         Нюрнберг     1\n",
       "1781             Миск     1\n",
       "1782           Вся рф     1\n",
       "\n",
       "[1783 rows x 2 columns]"
      ]
     },
     "execution_count": 11,
     "metadata": {},
     "output_type": "execute_result"
    }
   ],
   "source": [
    "# dict_replace = {\"Питер\":'санкт-петербург', 'Мосцоw':'москва', 'Санк-петербург':'санкт-петербург', 'С петербург':'санкт-петербург'}\n",
    "# df_responses['city'].replace(dict_replace, inplace=True)\n",
    "# df_responses.loc[df_responses['city_name'] == '?', 'city_name'] = df_responses.loc[df_responses['city_name'] == '?', 'city'].progress_apply(extract_city_name, args=('pullenti',))\n",
    "# v.loc[df_responses['city_name'] == '?', 'city_name'] = df_responses.loc[df_responses['city_name'] == '?', 'city'].progress_apply(extract_city_name, args=('natasha',))\n",
    "print('Необработано строк: ',\n",
    "      df_responses.loc[df_responses['city_name'] == '?'].shape[0])\n",
    "print('Необработанный \"города\":')\n",
    "other_name = df_responses.loc[df_responses['city_name'] ==\n",
    "                              '?', 'city'].value_counts(ascending=False, dropna=False)\n",
    "other_name.rename_axis('city_other', inplace=True)\n",
    "\n",
    "other_name = other_name.reset_index()\n",
    "other_name"
   ]
  },
  {
   "cell_type": "code",
   "execution_count": 12,
   "metadata": {
    "pycharm": {
     "name": "#%%\n"
    }
   },
   "outputs": [
    {
     "name": "stdout",
     "output_type": "stream",
     "text": [
      "Количество отзывов по городам:\n"
     ]
    },
    {
     "data": {
      "text/plain": [
       "москва             57164\n",
       "санкт-петербург    15639\n",
       "?                   6537\n",
       "новосибирск         2388\n",
       "екатеринбург        2380\n",
       "                   ...  \n",
       "нгевинномысск          1\n",
       "соновоборск            1\n",
       "великй новгород        1\n",
       "волоград               1\n",
       "свияжск                1\n",
       "Name: city_name, Length: 537, dtype: int64"
      ]
     },
     "execution_count": 12,
     "metadata": {},
     "output_type": "execute_result"
    }
   ],
   "source": [
    "print(\"Количество отзывов по городам:\")\n",
    "df_responses['city_name'].value_counts()"
   ]
  },
  {
   "cell_type": "code",
   "execution_count": 13,
   "metadata": {
    "pycharm": {
     "name": "#%%\n"
    }
   },
   "outputs": [
    {
     "data": {
      "text/plain": [
       "329          2Т Банк\n",
       "541        АБ Финанс\n",
       "327              АББ\n",
       "508         АМБ Банк\n",
       "542         АМТ Банк\n",
       "           ...      \n",
       "372       Юникорбанк\n",
       "219         Юнистрим\n",
       "191          ЯР-Банк\n",
       "59     Яндекс.Деньги\n",
       "196        Ярославич\n",
       "Length: 591, dtype: object"
      ]
     },
     "execution_count": 13,
     "metadata": {},
     "output_type": "execute_result"
    }
   ],
   "source": [
    "# Анализ уникальных значений, показывает, что названия банков - нормальные\n",
    "pd.Series(df_responses['bank_name'].unique()).sort_values()"
   ]
  },
  {
   "cell_type": "code",
   "execution_count": 14,
   "metadata": {
    "pycharm": {
     "name": "#%%\n"
    }
   },
   "outputs": [
    {
     "name": "stdout",
     "output_type": "stream",
     "text": [
      "Количество отзывов по банкам:\n"
     ]
    },
    {
     "data": {
      "text/plain": [
       "Сбербанк России                     24580\n",
       "Альфа-Банк                           8955\n",
       "ВТБ 24                               7165\n",
       "Хоум Кредит Банк                     7152\n",
       "Русский Стандарт                     7100\n",
       "                                    ...  \n",
       "Кузнецкий                               1\n",
       "Развитие                                1\n",
       "Новый Символ                            1\n",
       "Новокузнецкий Муниципальный Банк        1\n",
       "Нижегородпромстройбанк                  1\n",
       "Name: bank_name, Length: 591, dtype: int64"
      ]
     },
     "execution_count": 14,
     "metadata": {},
     "output_type": "execute_result"
    }
   ],
   "source": [
    "print(\"Количество отзывов по банкам:\")\n",
    "df_responses['bank_name'].value_counts()"
   ]
  },
  {
   "cell_type": "markdown",
   "metadata": {
    "pycharm": {
     "name": "#%% md\n"
    }
   },
   "source": [
    "### 2. Постройте гистограмы длин слов в символах и в словах\n",
    "##### Не очень я понял вторую часть \"построить гистограмму длин слов в словах\" ????\n",
    "##### Как я понимаю нужно построить нормальное распределение длин слов"
   ]
  },
  {
   "cell_type": "code",
   "execution_count": 15,
   "metadata": {
    "pycharm": {
     "name": "#%%\n"
    }
   },
   "outputs": [],
   "source": [
    "from string import punctuation\n",
    "from nltk.tokenize import word_tokenize\n",
    "from collections import Counter\n",
    "import seaborn as sns\n",
    "\n",
    "punctuation = punctuation + '``' + \"''\" + '...'"
   ]
  },
  {
   "cell_type": "code",
   "execution_count": 16,
   "metadata": {
    "pycharm": {
     "name": "#%%\n"
    }
   },
   "outputs": [
    {
     "name": "stdout",
     "output_type": "stream",
     "text": [
      "2022-11-12 08:38:52.855139\n",
      "2022-11-12 08:43:10.799055\n"
     ]
    }
   ],
   "source": [
    "print(pd.Timestamp.now())\n",
    "corpus = [token.lower() for msg in df_responses['text'] for token in word_tokenize(msg, language=\"russian\") if token not in punctuation]\n",
    "freq_dict = Counter(corpus)\n",
    "print(pd.Timestamp.now())"
   ]
  },
  {
   "cell_type": "code",
   "execution_count": 18,
   "metadata": {
    "pycharm": {
     "name": "#%%\n"
    }
   },
   "outputs": [
    {
     "data": {
      "text/plain": [
       "<seaborn.axisgrid.FacetGrid at 0x232dcdad270>"
      ]
     },
     "execution_count": 18,
     "metadata": {},
     "output_type": "execute_result"
    },
    {
     "data": {
      "image/png": "[encoded data removed]",
      "text/plain": [
       "<Figure size 360x360 with 1 Axes>"
      ]
     },
     "metadata": {
      "needs_background": "light"
     },
     "output_type": "display_data"
    }
   ],
   "source": [
    "penguins = sns.load_dataset(\"penguins\")\n",
    "sns.displot(penguins, x=\"flipper_length_mm\")"
   ]
  },
  {
   "cell_type": "code",
   "execution_count": 30,
   "metadata": {},
   "outputs": [
    {
     "ename": "MemoryError",
     "evalue": "Unable to allocate 3.30 MiB for an array with shape (433186,) and data type datetime64[ns]",
     "output_type": "error",
     "traceback": [
      "\u001b[1;31m---------------------------------------------------------------------------\u001b[0m",
      "\u001b[1;31mMemoryError\u001b[0m                               Traceback (most recent call last)",
      "\u001b[1;32mc:\\Users\\Dmitriy\\DataScience\\Netology\\Netology-dsu-5\\NLP\\nlp-homeworks-main\\3_Thematic_modeling\\Materials\\HW1_banki_TM_and_classification.ipynb Ячейка 19\u001b[0m in \u001b[0;36m<module>\u001b[1;34m\u001b[0m\n\u001b[1;32m----> <a href='vscode-notebook-cell:/c%3A/Users/Dmitriy/DataScience/Netology/Netology-dsu-5/NLP/nlp-homeworks-main/3_Thematic_modeling/Materials/HW1_banki_TM_and_classification.ipynb#X36sZmlsZQ%3D%3D?line=0'>1</a>\u001b[0m df_hist \u001b[39m=\u001b[39m pd\u001b[39m.\u001b[39mDataFrame(pd\u001b[39m.\u001b[39;49mSeries(freq_dict), columns\u001b[39m=\u001b[39m[\u001b[39m'\u001b[39m\u001b[39mcount\u001b[39m\u001b[39m'\u001b[39m])\n\u001b[0;32m      <a href='vscode-notebook-cell:/c%3A/Users/Dmitriy/DataScience/Netology/Netology-dsu-5/NLP/nlp-homeworks-main/3_Thematic_modeling/Materials/HW1_banki_TM_and_classification.ipynb#X36sZmlsZQ%3D%3D?line=1'>2</a>\u001b[0m df_hist[\u001b[39m'\u001b[39m\u001b[39mlen\u001b[39m\u001b[39m'\u001b[39m] \u001b[39m=\u001b[39m df_hist\u001b[39m.\u001b[39mindex\u001b[39m.\u001b[39mstr\u001b[39m.\u001b[39mlen()\n\u001b[0;32m      <a href='vscode-notebook-cell:/c%3A/Users/Dmitriy/DataScience/Netology/Netology-dsu-5/NLP/nlp-homeworks-main/3_Thematic_modeling/Materials/HW1_banki_TM_and_classification.ipynb#X36sZmlsZQ%3D%3D?line=2'>3</a>\u001b[0m df_hist\n",
      "File \u001b[1;32mc:\\Users\\Dmitriy\\AppData\\Local\\Programs\\Python\\Python310\\lib\\site-packages\\pandas\\core\\series.py:417\u001b[0m, in \u001b[0;36mSeries.__init__\u001b[1;34m(self, data, index, dtype, name, copy, fastpath)\u001b[0m\n\u001b[0;32m    415\u001b[0m     data \u001b[39m=\u001b[39m data\u001b[39m.\u001b[39m_mgr\n\u001b[0;32m    416\u001b[0m \u001b[39melif\u001b[39;00m is_dict_like(data):\n\u001b[1;32m--> 417\u001b[0m     data, index \u001b[39m=\u001b[39m \u001b[39mself\u001b[39;49m\u001b[39m.\u001b[39;49m_init_dict(data, index, dtype)\n\u001b[0;32m    418\u001b[0m     dtype \u001b[39m=\u001b[39m \u001b[39mNone\u001b[39;00m\n\u001b[0;32m    419\u001b[0m     copy \u001b[39m=\u001b[39m \u001b[39mFalse\u001b[39;00m\n",
      "File \u001b[1;32mc:\\Users\\Dmitriy\\AppData\\Local\\Programs\\Python\\Python310\\lib\\site-packages\\pandas\\core\\series.py:506\u001b[0m, in \u001b[0;36mSeries._init_dict\u001b[1;34m(self, data, index, dtype)\u001b[0m\n\u001b[0;32m    501\u001b[0m     keys, values \u001b[39m=\u001b[39m (), []\n\u001b[0;32m    503\u001b[0m \u001b[39m# Input is now list-like, so rely on \"standard\" construction:\u001b[39;00m\n\u001b[0;32m    504\u001b[0m \n\u001b[0;32m    505\u001b[0m \u001b[39m# TODO: passing np.float64 to not break anything yet. See GH-17261\u001b[39;00m\n\u001b[1;32m--> 506\u001b[0m s \u001b[39m=\u001b[39m create_series_with_explicit_dtype(\n\u001b[0;32m    507\u001b[0m     \u001b[39m# error: Argument \"index\" to \"create_series_with_explicit_dtype\" has\u001b[39;49;00m\n\u001b[0;32m    508\u001b[0m     \u001b[39m# incompatible type \"Tuple[Any, ...]\"; expected \"Union[ExtensionArray,\u001b[39;49;00m\n\u001b[0;32m    509\u001b[0m     \u001b[39m# ndarray, Index, None]\"\u001b[39;49;00m\n\u001b[0;32m    510\u001b[0m     values,\n\u001b[0;32m    511\u001b[0m     index\u001b[39m=\u001b[39;49mkeys,  \u001b[39m# type: ignore[arg-type]\u001b[39;49;00m\n\u001b[0;32m    512\u001b[0m     dtype\u001b[39m=\u001b[39;49mdtype,\n\u001b[0;32m    513\u001b[0m     dtype_if_empty\u001b[39m=\u001b[39;49mnp\u001b[39m.\u001b[39;49mfloat64,\n\u001b[0;32m    514\u001b[0m )\n\u001b[0;32m    516\u001b[0m \u001b[39m# Now we just make sure the order is respected, if any\u001b[39;00m\n\u001b[0;32m    517\u001b[0m \u001b[39mif\u001b[39;00m data \u001b[39mand\u001b[39;00m index \u001b[39mis\u001b[39;00m \u001b[39mnot\u001b[39;00m \u001b[39mNone\u001b[39;00m:\n",
      "File \u001b[1;32mc:\\Users\\Dmitriy\\AppData\\Local\\Programs\\Python\\Python310\\lib\\site-packages\\pandas\\core\\construction.py:856\u001b[0m, in \u001b[0;36mcreate_series_with_explicit_dtype\u001b[1;34m(data, index, dtype, name, copy, fastpath, dtype_if_empty)\u001b[0m\n\u001b[0;32m    854\u001b[0m \u001b[39mif\u001b[39;00m is_empty_data(data) \u001b[39mand\u001b[39;00m dtype \u001b[39mis\u001b[39;00m \u001b[39mNone\u001b[39;00m:\n\u001b[0;32m    855\u001b[0m     dtype \u001b[39m=\u001b[39m dtype_if_empty\n\u001b[1;32m--> 856\u001b[0m \u001b[39mreturn\u001b[39;00m Series(\n\u001b[0;32m    857\u001b[0m     data\u001b[39m=\u001b[39;49mdata, index\u001b[39m=\u001b[39;49mindex, dtype\u001b[39m=\u001b[39;49mdtype, name\u001b[39m=\u001b[39;49mname, copy\u001b[39m=\u001b[39;49mcopy, fastpath\u001b[39m=\u001b[39;49mfastpath\n\u001b[0;32m    858\u001b[0m )\n",
      "File \u001b[1;32mc:\\Users\\Dmitriy\\AppData\\Local\\Programs\\Python\\Python310\\lib\\site-packages\\pandas\\core\\series.py:380\u001b[0m, in \u001b[0;36mSeries.__init__\u001b[1;34m(self, data, index, dtype, name, copy, fastpath)\u001b[0m\n\u001b[0;32m    376\u001b[0m     \u001b[39m# uncomment the line below when removing the FutureWarning\u001b[39;00m\n\u001b[0;32m    377\u001b[0m     \u001b[39m# dtype = np.dtype(object)\u001b[39;00m\n\u001b[0;32m    379\u001b[0m \u001b[39mif\u001b[39;00m index \u001b[39mis\u001b[39;00m \u001b[39mnot\u001b[39;00m \u001b[39mNone\u001b[39;00m:\n\u001b[1;32m--> 380\u001b[0m     index \u001b[39m=\u001b[39m ensure_index(index)\n\u001b[0;32m    382\u001b[0m \u001b[39mif\u001b[39;00m data \u001b[39mis\u001b[39;00m \u001b[39mNone\u001b[39;00m:\n\u001b[0;32m    383\u001b[0m     data \u001b[39m=\u001b[39m {}\n",
      "File \u001b[1;32mc:\\Users\\Dmitriy\\AppData\\Local\\Programs\\Python\\Python310\\lib\\site-packages\\pandas\\core\\indexes\\base.py:7043\u001b[0m, in \u001b[0;36mensure_index\u001b[1;34m(index_like, copy)\u001b[0m\n\u001b[0;32m   7041\u001b[0m         \u001b[39mreturn\u001b[39;00m Index\u001b[39m.\u001b[39m_with_infer(index_like, copy\u001b[39m=\u001b[39mcopy, tupleize_cols\u001b[39m=\u001b[39m\u001b[39mFalse\u001b[39;00m)\n\u001b[0;32m   7042\u001b[0m \u001b[39melse\u001b[39;00m:\n\u001b[1;32m-> 7043\u001b[0m     \u001b[39mreturn\u001b[39;00m Index\u001b[39m.\u001b[39;49m_with_infer(index_like, copy\u001b[39m=\u001b[39;49mcopy)\n",
      "File \u001b[1;32mc:\\Users\\Dmitriy\\AppData\\Local\\Programs\\Python\\Python310\\lib\\site-packages\\pandas\\core\\indexes\\base.py:680\u001b[0m, in \u001b[0;36mIndex._with_infer\u001b[1;34m(cls, *args, **kwargs)\u001b[0m\n\u001b[0;32m    678\u001b[0m \u001b[39mwith\u001b[39;00m warnings\u001b[39m.\u001b[39mcatch_warnings():\n\u001b[0;32m    679\u001b[0m     warnings\u001b[39m.\u001b[39mfilterwarnings(\u001b[39m\"\u001b[39m\u001b[39mignore\u001b[39m\u001b[39m\"\u001b[39m, \u001b[39m\"\u001b[39m\u001b[39m.*the Index constructor\u001b[39m\u001b[39m\"\u001b[39m, \u001b[39mFutureWarning\u001b[39;00m)\n\u001b[1;32m--> 680\u001b[0m     result \u001b[39m=\u001b[39m \u001b[39mcls\u001b[39m(\u001b[39m*\u001b[39margs, \u001b[39m*\u001b[39m\u001b[39m*\u001b[39mkwargs)\n\u001b[0;32m    682\u001b[0m \u001b[39mif\u001b[39;00m result\u001b[39m.\u001b[39mdtype \u001b[39m==\u001b[39m _dtype_obj \u001b[39mand\u001b[39;00m \u001b[39mnot\u001b[39;00m result\u001b[39m.\u001b[39m_is_multi:\n\u001b[0;32m    683\u001b[0m     \u001b[39m# error: Argument 1 to \"maybe_convert_objects\" has incompatible type\u001b[39;00m\n\u001b[0;32m    684\u001b[0m     \u001b[39m# \"Union[ExtensionArray, ndarray[Any, Any]]\"; expected\u001b[39;00m\n\u001b[0;32m    685\u001b[0m     \u001b[39m# \"ndarray[Any, Any]\"\u001b[39;00m\n\u001b[0;32m    686\u001b[0m     values \u001b[39m=\u001b[39m lib\u001b[39m.\u001b[39mmaybe_convert_objects(result\u001b[39m.\u001b[39m_values)  \u001b[39m# type: ignore[arg-type]\u001b[39;00m\n",
      "File \u001b[1;32mc:\\Users\\Dmitriy\\AppData\\Local\\Programs\\Python\\Python310\\lib\\site-packages\\pandas\\core\\indexes\\base.py:534\u001b[0m, in \u001b[0;36mIndex.__new__\u001b[1;34m(cls, data, dtype, copy, name, tupleize_cols, **kwargs)\u001b[0m\n\u001b[0;32m    528\u001b[0m subarr \u001b[39m=\u001b[39m com\u001b[39m.\u001b[39masarray_tuplesafe(data, dtype\u001b[39m=\u001b[39m_dtype_obj)\n\u001b[0;32m    529\u001b[0m \u001b[39mif\u001b[39;00m dtype \u001b[39mis\u001b[39;00m \u001b[39mNone\u001b[39;00m:\n\u001b[0;32m    530\u001b[0m     \u001b[39m# with e.g. a list [1, 2, 3] casting to numeric is _not_ deprecated\u001b[39;00m\n\u001b[0;32m    531\u001b[0m     \u001b[39m# error: Incompatible types in assignment (expression has type\u001b[39;00m\n\u001b[0;32m    532\u001b[0m     \u001b[39m# \"Union[ExtensionArray, ndarray[Any, Any]]\", variable has type\u001b[39;00m\n\u001b[0;32m    533\u001b[0m     \u001b[39m# \"ndarray[Any, Any]\")\u001b[39;00m\n\u001b[1;32m--> 534\u001b[0m     subarr \u001b[39m=\u001b[39m _maybe_cast_data_without_dtype(  \u001b[39m# type: ignore[assignment]\u001b[39;49;00m\n\u001b[0;32m    535\u001b[0m         subarr, cast_numeric_deprecated\u001b[39m=\u001b[39;49m\u001b[39mFalse\u001b[39;49;00m\n\u001b[0;32m    536\u001b[0m     )\n\u001b[0;32m    537\u001b[0m     dtype \u001b[39m=\u001b[39m subarr\u001b[39m.\u001b[39mdtype\n\u001b[0;32m    538\u001b[0m \u001b[39mreturn\u001b[39;00m Index(subarr, dtype\u001b[39m=\u001b[39mdtype, copy\u001b[39m=\u001b[39mcopy, name\u001b[39m=\u001b[39mname, \u001b[39m*\u001b[39m\u001b[39m*\u001b[39mkwargs)\n",
      "File \u001b[1;32mc:\\Users\\Dmitriy\\AppData\\Local\\Programs\\Python\\Python310\\lib\\site-packages\\pandas\\core\\indexes\\base.py:7124\u001b[0m, in \u001b[0;36m_maybe_cast_data_without_dtype\u001b[1;34m(subarr, cast_numeric_deprecated)\u001b[0m\n\u001b[0;32m   7106\u001b[0m \u001b[39mdef\u001b[39;00m \u001b[39m_maybe_cast_data_without_dtype\u001b[39m(\n\u001b[0;32m   7107\u001b[0m     subarr: np\u001b[39m.\u001b[39mndarray, cast_numeric_deprecated: \u001b[39mbool\u001b[39m \u001b[39m=\u001b[39m \u001b[39mTrue\u001b[39;00m\n\u001b[0;32m   7108\u001b[0m ) \u001b[39m-\u001b[39m\u001b[39m>\u001b[39m ArrayLike:\n\u001b[0;32m   7109\u001b[0m     \u001b[39m\"\"\"\u001b[39;00m\n\u001b[0;32m   7110\u001b[0m \u001b[39m    If we have an arraylike input but no passed dtype, try to infer\u001b[39;00m\n\u001b[0;32m   7111\u001b[0m \u001b[39m    a supported dtype.\u001b[39;00m\n\u001b[1;32m   (...)\u001b[0m\n\u001b[0;32m   7121\u001b[0m \u001b[39m    np.ndarray or ExtensionArray\u001b[39;00m\n\u001b[0;32m   7122\u001b[0m \u001b[39m    \"\"\"\u001b[39;00m\n\u001b[1;32m-> 7124\u001b[0m     result \u001b[39m=\u001b[39m lib\u001b[39m.\u001b[39;49mmaybe_convert_objects(\n\u001b[0;32m   7125\u001b[0m         subarr,\n\u001b[0;32m   7126\u001b[0m         convert_datetime\u001b[39m=\u001b[39;49m\u001b[39mTrue\u001b[39;49;00m,\n\u001b[0;32m   7127\u001b[0m         convert_timedelta\u001b[39m=\u001b[39;49m\u001b[39mTrue\u001b[39;49;00m,\n\u001b[0;32m   7128\u001b[0m         convert_period\u001b[39m=\u001b[39;49m\u001b[39mTrue\u001b[39;49;00m,\n\u001b[0;32m   7129\u001b[0m         convert_interval\u001b[39m=\u001b[39;49m\u001b[39mTrue\u001b[39;49;00m,\n\u001b[0;32m   7130\u001b[0m         dtype_if_all_nat\u001b[39m=\u001b[39;49mnp\u001b[39m.\u001b[39;49mdtype(\u001b[39m\"\u001b[39;49m\u001b[39mdatetime64[ns]\u001b[39;49m\u001b[39m\"\u001b[39;49m),\n\u001b[0;32m   7131\u001b[0m     )\n\u001b[0;32m   7132\u001b[0m     \u001b[39mif\u001b[39;00m result\u001b[39m.\u001b[39mdtype\u001b[39m.\u001b[39mkind \u001b[39min\u001b[39;00m [\u001b[39m\"\u001b[39m\u001b[39mi\u001b[39m\u001b[39m\"\u001b[39m, \u001b[39m\"\u001b[39m\u001b[39mu\u001b[39m\u001b[39m\"\u001b[39m, \u001b[39m\"\u001b[39m\u001b[39mf\u001b[39m\u001b[39m\"\u001b[39m]:\n\u001b[0;32m   7133\u001b[0m         \u001b[39mif\u001b[39;00m \u001b[39mnot\u001b[39;00m cast_numeric_deprecated:\n\u001b[0;32m   7134\u001b[0m             \u001b[39m# i.e. we started with a list, not an ndarray[object]\u001b[39;00m\n",
      "File \u001b[1;32mc:\\Users\\Dmitriy\\AppData\\Local\\Programs\\Python\\Python310\\lib\\site-packages\\pandas\\_libs\\lib.pyx:2464\u001b[0m, in \u001b[0;36mpandas._libs.lib.maybe_convert_objects\u001b[1;34m()\u001b[0m\n",
      "\u001b[1;31mMemoryError\u001b[0m: Unable to allocate 3.30 MiB for an array with shape (433186,) and data type datetime64[ns]"
     ]
    }
   ],
   "source": [
    "df_hist = pd.DataFrame(pd.Series(freq_dict), columns=['count'])\n",
    "df_hist.\n",
    "df_hist['len'] = df_hist.index.str.len()\n",
    "df_hist"
   ]
  },
  {
   "cell_type": "code",
   "execution_count": 18,
   "metadata": {
    "pycharm": {
     "name": "#%%\n"
    }
   },
   "outputs": [],
   "source": [
    "freq_dict.most_common(40)\n",
    "sns.displot(freq_dict)"
   ]
  },
  {
   "cell_type": "code",
   "execution_count": 736,
   "metadata": {
    "pycharm": {
     "name": "#%%\n"
    }
   },
   "outputs": [
    {
     "data": {
      "application/vnd.jupyter.widget-view+json": {
       "model_id": "0a048346f1014b86ae8062d59563f666",
       "version_major": 2,
       "version_minor": 0
      },
      "text/plain": [
       "  0%|          | 0/432802 [00:00<?, ?it/s]"
      ]
     },
     "metadata": {},
     "output_type": "display_data"
    }
   ],
   "source": [
    "# pd.Series(count_len_word)\n",
    "count_len_word= {}\n",
    "for key, val in tqdm(freq_dict.items()):\n",
    "    if len(key) in count_len_word:\n",
    "        count_len_word[len(key)] += val\n",
    "    else:\n",
    "        count_len_word[len(key)] = val"
   ]
  },
  {
   "cell_type": "code",
   "execution_count": 740,
   "metadata": {
    "pycharm": {
     "name": "#%%\n"
    }
   },
   "outputs": [
    {
     "data": {
      "text/plain": [
       "<seaborn.axisgrid.FacetGrid at 0x262ea4dd5d0>"
      ]
     },
     "execution_count": 740,
     "metadata": {},
     "output_type": "execute_result"
    },
    {
     "data": {
      "image/png": "[encoded data removed]",
      "text/plain": [
       "<Figure size 360x360 with 1 Axes>"
      ]
     },
     "metadata": {
      "needs_background": "light"
     },
     "output_type": "display_data"
    }
   ],
   "source": [
    "sns.displot(count_len_word)"
   ]
  },
  {
   "cell_type": "code",
   "execution_count": 742,
   "metadata": {
    "pycharm": {
     "name": "#%%\n"
    }
   },
   "outputs": [
    {
     "name": "stderr",
     "output_type": "stream",
     "text": [
      "\n",
      "KeyboardInterrupt\n",
      "\n"
     ]
    },
    {
     "data": {
      "image/png": "[encoded data removed]",
      "text/plain": [
       "<Figure size 360x360 with 1 Axes>"
      ]
     },
     "metadata": {
      "needs_background": "light"
     },
     "output_type": "display_data"
    }
   ],
   "source": [
    "sns.displot(pd.Series(count_len_word))"
   ]
  },
  {
   "cell_type": "code",
   "execution_count": 748,
   "metadata": {
    "pycharm": {
     "name": "#%%\n"
    }
   },
   "outputs": [
    {
     "name": "stdout",
     "output_type": "stream",
     "text": [
      "Unexpected exception formatting exception. Falling back to standard exception\n",
      "Unexpected exception formatting exception. Falling back to standard exception\n"
     ]
    },
    {
     "name": "stderr",
     "output_type": "stream",
     "text": [
      "Traceback (most recent call last):\n",
      "  File \"C:\\Users\\duser05\\AppData\\Roaming\\Python\\Python310\\site-packages\\IPython\\core\\interactiveshell.py\", line 3398, in run_code\n",
      "    exec(code_obj, self.user_global_ns, self.user_ns)\n",
      "  File \"C:\\Users\\duser05\\AppData\\Local\\Temp\\ipykernel_19436\\3101196291.py\", line 1, in <cell line: 1>\n",
      "    sns.displot(pd.DataFrame(count_len_word, index=[0]))\n",
      "  File \"C:\\Users\\duser05\\anaconda3\\envs\\untitled\\lib\\site-packages\\seaborn\\distributions.py\", line 2216, in displot\n",
      "    p.plot_univariate_histogram(**hist_kws)\n",
      "  File \"C:\\Users\\duser05\\anaconda3\\envs\\untitled\\lib\\site-packages\\seaborn\\distributions.py\", line 573, in plot_univariate_histogram\n",
      "    artists = plot_func(\n",
      "  File \"C:\\Users\\duser05\\anaconda3\\envs\\untitled\\lib\\site-packages\\matplotlib\\__init__.py\", line 1412, in inner\n",
      "    return func(ax, *map(sanitize_sequence, args), **kwargs)\n",
      "  File \"C:\\Users\\duser05\\anaconda3\\envs\\untitled\\lib\\site-packages\\matplotlib\\axes\\_axes.py\", line 2394, in bar\n",
      "    for l, b, w, h, c, e, lw, htch in args:\n",
      "MemoryError\n",
      "\n",
      "During handling of the above exception, another exception occurred:\n",
      "\n",
      "Traceback (most recent call last):\n",
      "  File \"C:\\Users\\duser05\\AppData\\Roaming\\Python\\Python310\\site-packages\\IPython\\core\\interactiveshell.py\", line 1993, in showtraceback\n",
      "    stb = self.InteractiveTB.structured_traceback(\n",
      "  File \"C:\\Users\\duser05\\AppData\\Roaming\\Python\\Python310\\site-packages\\IPython\\core\\ultratb.py\", line 1118, in structured_traceback\n",
      "    return FormattedTB.structured_traceback(\n",
      "  File \"C:\\Users\\duser05\\AppData\\Roaming\\Python\\Python310\\site-packages\\IPython\\core\\ultratb.py\", line 1012, in structured_traceback\n",
      "    return VerboseTB.structured_traceback(\n",
      "  File \"C:\\Users\\duser05\\AppData\\Roaming\\Python\\Python310\\site-packages\\IPython\\core\\ultratb.py\", line 865, in structured_traceback\n",
      "    formatted_exception = self.format_exception_as_a_whole(etype, evalue, etb, number_of_lines_of_context,\n",
      "  File \"C:\\Users\\duser05\\AppData\\Roaming\\Python\\Python310\\site-packages\\IPython\\core\\ultratb.py\", line 818, in format_exception_as_a_whole\n",
      "    frames.append(self.format_record(r))\n",
      "  File \"C:\\Users\\duser05\\AppData\\Roaming\\Python\\Python310\\site-packages\\IPython\\core\\ultratb.py\", line 736, in format_record\n",
      "    result += ''.join(_format_traceback_lines(frame_info.lines, Colors, self.has_colors, lvals))\n",
      "  File \"C:\\Users\\duser05\\AppData\\Roaming\\Python\\Python310\\site-packages\\IPython\\core\\ultratb.py\", line 155, in _format_traceback_lines\n",
      "    line = stack_line.render(pygmented=has_colors).rstrip('\\n') + '\\n'\n",
      "  File \"C:\\Users\\duser05\\AppData\\Roaming\\Python\\Python310\\site-packages\\stack_data\\core.py\", line 360, in render\n",
      "    start_line, lines = self.frame_info._pygmented_scope_lines\n",
      "  File \"C:\\Users\\duser05\\AppData\\Roaming\\Python\\Python310\\site-packages\\stack_data\\utils.py\", line 145, in cached_property_wrapper\n",
      "    value = obj.__dict__[self.func.__name__] = self.func(obj)\n",
      "  File \"C:\\Users\\duser05\\AppData\\Roaming\\Python\\Python310\\site-packages\\stack_data\\core.py\", line 780, in _pygmented_scope_lines\n",
      "    lines = _pygmented_with_ranges(formatter, code, ranges)\n",
      "  File \"C:\\Users\\duser05\\AppData\\Roaming\\Python\\Python310\\site-packages\\stack_data\\utils.py\", line 165, in _pygmented_with_ranges\n",
      "    return pygments.highlight(code, lexer, formatter).splitlines()\n",
      "  File \"C:\\Users\\duser05\\AppData\\Roaming\\Python\\Python310\\site-packages\\pygments\\__init__.py\", line 82, in highlight\n",
      "  File \"C:\\Users\\duser05\\AppData\\Roaming\\Python\\Python310\\site-packages\\pygments\\__init__.py\", line 61, in format\n",
      "  File \"C:\\Users\\duser05\\AppData\\Roaming\\Python\\Python310\\site-packages\\pygments\\formatters\\terminal256.py\", line 250, in format\n",
      "  File \"C:\\Users\\duser05\\AppData\\Roaming\\Python\\Python310\\site-packages\\pygments\\formatter.py\", line 94, in format\n",
      "  File \"C:\\Users\\duser05\\AppData\\Roaming\\Python\\Python310\\site-packages\\pygments\\formatters\\terminal256.py\", line 256, in format_unencoded\n",
      "  File \"C:\\Users\\duser05\\AppData\\Roaming\\Python\\Python310\\site-packages\\stack_data\\utils.py\", line 158, in get_tokens\n",
      "    for ttype, value in super().get_tokens(text):\n",
      "  File \"C:\\Users\\duser05\\AppData\\Roaming\\Python\\Python310\\site-packages\\pygments\\lexer.py\", line 190, in streamer\n",
      "  File \"C:\\Users\\duser05\\AppData\\Roaming\\Python\\Python310\\site-packages\\pygments\\lexer.py\", line 632, in get_tokens_unprocessed\n",
      "    m = rexmatch(text, pos)\n",
      "MemoryError\n",
      "Traceback (most recent call last):\n",
      "  File \"C:\\Users\\duser05\\AppData\\Roaming\\Python\\Python310\\site-packages\\matplotlib_inline\\backend_inline.py\", line 121, in flush_figures\n",
      "    return show(True)\n",
      "  File \"C:\\Users\\duser05\\AppData\\Roaming\\Python\\Python310\\site-packages\\matplotlib_inline\\backend_inline.py\", line 43, in show\n",
      "    metadata=_fetch_figure_metadata(figure_manager.canvas.figure)\n",
      "  File \"C:\\Users\\duser05\\AppData\\Roaming\\Python\\Python310\\site-packages\\matplotlib_inline\\backend_inline.py\", line 231, in _fetch_figure_metadata\n",
      "    ticksLight = _is_light([label.get_color()\n",
      "  File \"C:\\Users\\duser05\\AppData\\Roaming\\Python\\Python310\\site-packages\\matplotlib_inline\\backend_inline.py\", line 234, in <listcomp>\n",
      "    for label in axis.get_ticklabels()])\n",
      "  File \"C:\\Users\\duser05\\anaconda3\\envs\\untitled\\lib\\site-packages\\matplotlib\\axis.py\", line 1249, in get_ticklabels\n",
      "    return self.get_majorticklabels()\n",
      "  File \"C:\\Users\\duser05\\anaconda3\\envs\\untitled\\lib\\site-packages\\matplotlib\\axis.py\", line 1201, in get_majorticklabels\n",
      "    ticks = self.get_major_ticks()\n",
      "  File \"C:\\Users\\duser05\\anaconda3\\envs\\untitled\\lib\\site-packages\\matplotlib\\axis.py\", line 1371, in get_major_ticks\n",
      "    numticks = len(self.get_majorticklocs())\n",
      "  File \"C:\\Users\\duser05\\anaconda3\\envs\\untitled\\lib\\site-packages\\matplotlib\\axis.py\", line 1277, in get_majorticklocs\n",
      "    return self.major.locator()\n",
      "  File \"C:\\Users\\duser05\\anaconda3\\envs\\untitled\\lib\\site-packages\\matplotlib\\ticker.py\", line 2113, in __call__\n",
      "    vmin, vmax = self.axis.get_view_interval()\n",
      "  File \"C:\\Users\\duser05\\anaconda3\\envs\\untitled\\lib\\site-packages\\matplotlib\\axis.py\", line 1987, in getter\n",
      "    return getattr(getattr(self.axes, lim_name), attr_name)\n",
      "  File \"C:\\Users\\duser05\\anaconda3\\envs\\untitled\\lib\\site-packages\\matplotlib\\axes\\_base.py\", line 781, in viewLim\n",
      "    self._unstale_viewLim()\n",
      "  File \"C:\\Users\\duser05\\anaconda3\\envs\\untitled\\lib\\site-packages\\matplotlib\\axes\\_base.py\", line 776, in _unstale_viewLim\n",
      "    self.autoscale_view(**{f\"scale{name}\": scale\n",
      "  File \"C:\\Users\\duser05\\anaconda3\\envs\\untitled\\lib\\site-packages\\matplotlib\\axes\\_base.py\", line 2851, in autoscale_view\n",
      "    x_stickies = np.sort(np.concatenate([\n",
      "  File \"C:\\Users\\duser05\\anaconda3\\envs\\untitled\\lib\\site-packages\\matplotlib\\axes\\_base.py\", line 2855, in <listcomp>\n",
      "    for artist in ax.get_children()]))\n",
      "  File \"C:\\Users\\duser05\\anaconda3\\envs\\untitled\\lib\\site-packages\\matplotlib\\axes\\_base.py\", line 4510, in get_children\n",
      "    return [\n",
      "MemoryError\n",
      "\n",
      "During handling of the above exception, another exception occurred:\n",
      "\n",
      "Traceback (most recent call last):\n",
      "  File \"C:\\Users\\duser05\\AppData\\Roaming\\Python\\Python310\\site-packages\\executing\\executing.py\", line 317, in executing\n",
      "    args = executing_cache[key]\n",
      "KeyError: (<code object get_ticklabels at 0x0000025B4F391840, file \"C:\\Users\\duser05\\anaconda3\\envs\\untitled\\lib\\site-packages\\matplotlib\\axis.py\", line 1213>, 2591194421312, 98)\n",
      "\n",
      "During handling of the above exception, another exception occurred:\n",
      "\n",
      "Traceback (most recent call last):\n",
      "  File \"C:\\Users\\duser05\\AppData\\Roaming\\Python\\Python310\\site-packages\\IPython\\core\\interactiveshell.py\", line 1993, in showtraceback\n",
      "    stb = self.InteractiveTB.structured_traceback(\n",
      "  File \"C:\\Users\\duser05\\AppData\\Roaming\\Python\\Python310\\site-packages\\IPython\\core\\ultratb.py\", line 1118, in structured_traceback\n",
      "    return FormattedTB.structured_traceback(\n",
      "  File \"C:\\Users\\duser05\\AppData\\Roaming\\Python\\Python310\\site-packages\\IPython\\core\\ultratb.py\", line 1012, in structured_traceback\n",
      "    return VerboseTB.structured_traceback(\n",
      "  File \"C:\\Users\\duser05\\AppData\\Roaming\\Python\\Python310\\site-packages\\IPython\\core\\ultratb.py\", line 865, in structured_traceback\n",
      "    formatted_exception = self.format_exception_as_a_whole(etype, evalue, etb, number_of_lines_of_context,\n",
      "  File \"C:\\Users\\duser05\\AppData\\Roaming\\Python\\Python310\\site-packages\\IPython\\core\\ultratb.py\", line 799, in format_exception_as_a_whole\n",
      "    self.get_records(etb, number_of_lines_of_context, tb_offset) if etb else []\n",
      "  File \"C:\\Users\\duser05\\AppData\\Roaming\\Python\\Python310\\site-packages\\IPython\\core\\ultratb.py\", line 854, in get_records\n",
      "    return list(stack_data.FrameInfo.stack_data(etb, options=options))[tb_offset:]\n",
      "  File \"C:\\Users\\duser05\\AppData\\Roaming\\Python\\Python310\\site-packages\\stack_data\\core.py\", line 565, in stack_data\n",
      "    yield from collapse_repeated(\n",
      "  File \"C:\\Users\\duser05\\AppData\\Roaming\\Python\\Python310\\site-packages\\stack_data\\utils.py\", line 84, in collapse_repeated\n",
      "    yield from map(mapper, original_group)\n",
      "  File \"C:\\Users\\duser05\\AppData\\Roaming\\Python\\Python310\\site-packages\\stack_data\\core.py\", line 555, in mapper\n",
      "    return cls(f, options)\n",
      "  File \"C:\\Users\\duser05\\AppData\\Roaming\\Python\\Python310\\site-packages\\stack_data\\core.py\", line 520, in __init__\n",
      "    self.executing = Source.executing(frame_or_tb)\n",
      "  File \"C:\\Users\\duser05\\AppData\\Roaming\\Python\\Python310\\site-packages\\executing\\executing.py\", line 369, in executing\n",
      "    args = find(source=cls.for_frame(frame), retry_cache=True)\n",
      "  File \"C:\\Users\\duser05\\AppData\\Roaming\\Python\\Python310\\site-packages\\executing\\executing.py\", line 252, in for_frame\n",
      "    return cls.for_filename(frame.f_code.co_filename, frame.f_globals or {}, use_cache)\n",
      "  File \"C:\\Users\\duser05\\AppData\\Roaming\\Python\\Python310\\site-packages\\executing\\executing.py\", line 270, in for_filename\n",
      "    result = source_cache[filename] = cls._for_filename_and_lines(filename, lines)\n",
      "  File \"C:\\Users\\duser05\\AppData\\Roaming\\Python\\Python310\\site-packages\\executing\\executing.py\", line 281, in _for_filename_and_lines\n",
      "    result = source_cache[(filename, lines)] = cls(filename, lines)\n",
      "  File \"C:\\Users\\duser05\\AppData\\Roaming\\Python\\Python310\\site-packages\\stack_data\\core.py\", line 79, in __init__\n",
      "    super(Source, self).__init__(*args, **kwargs)\n",
      "  File \"C:\\Users\\duser05\\AppData\\Roaming\\Python\\Python310\\site-packages\\executing\\executing.py\", line 200, in __init__\n",
      "    text = ''.join(lines)\n",
      "MemoryError\n"
     ]
    }
   ],
   "source": [
    "sns.displot(pd.DataFrame(count_len_word, index=[0]))"
   ]
  },
  {
   "cell_type": "markdown",
   "metadata": {
    "id": "AJ39G_RaqauR",
    "pycharm": {
     "name": "#%% md\n"
    }
   },
   "source": [
    "## Классификация текстов"
   ]
  },
  {
   "cell_type": "code",
   "execution_count": 9,
   "metadata": {
    "id": "bUSukDrwqauS",
    "outputId": "d50fc19f-0306-4d6b-f14d-101196431d81",
    "pycharm": {
     "name": "#%%\n"
    }
   },
   "outputs": [
    {
     "ename": "ModuleNotFoundError",
     "evalue": "No module named 'sklearn'",
     "output_type": "error",
     "traceback": [
      "\u001b[1;31m---------------------------------------------------------------------------\u001b[0m",
      "\u001b[1;31mModuleNotFoundError\u001b[0m                       Traceback (most recent call last)",
      "\u001b[1;32mc:\\Users\\Dmitriy\\DataScience\\Netology\\Netology-dsu-5\\NLP\\nlp-homeworks-main\\3_Thematic_modeling\\Materials\\HW1_banki_TM_and_classification.ipynb Ячейка 27\u001b[0m in \u001b[0;36m<module>\u001b[1;34m\u001b[0m\n\u001b[1;32m----> <a href='vscode-notebook-cell:/c%3A/Users/Dmitriy/DataScience/Netology/Netology-dsu-5/NLP/nlp-homeworks-main/3_Thematic_modeling/Materials/HW1_banki_TM_and_classification.ipynb#X36sZmlsZQ%3D%3D?line=0'>1</a>\u001b[0m \u001b[39mfrom\u001b[39;00m \u001b[39msklearn\u001b[39;00m\u001b[39m.\u001b[39;00m\u001b[39mpipeline\u001b[39;00m \u001b[39mimport\u001b[39;00m Pipeline\n\u001b[0;32m      <a href='vscode-notebook-cell:/c%3A/Users/Dmitriy/DataScience/Netology/Netology-dsu-5/NLP/nlp-homeworks-main/3_Thematic_modeling/Materials/HW1_banki_TM_and_classification.ipynb#X36sZmlsZQ%3D%3D?line=1'>2</a>\u001b[0m \u001b[39mfrom\u001b[39;00m \u001b[39msklearn\u001b[39;00m\u001b[39m.\u001b[39;00m\u001b[39mensemble\u001b[39;00m \u001b[39mimport\u001b[39;00m RandomForestClassifier\n\u001b[0;32m      <a href='vscode-notebook-cell:/c%3A/Users/Dmitriy/DataScience/Netology/Netology-dsu-5/NLP/nlp-homeworks-main/3_Thematic_modeling/Materials/HW1_banki_TM_and_classification.ipynb#X36sZmlsZQ%3D%3D?line=2'>3</a>\u001b[0m \u001b[39mfrom\u001b[39;00m \u001b[39msklearn\u001b[39;00m\u001b[39m.\u001b[39;00m\u001b[39mfeature_extraction\u001b[39;00m\u001b[39m.\u001b[39;00m\u001b[39mtext\u001b[39;00m \u001b[39mimport\u001b[39;00m CountVectorizer\n",
      "\u001b[1;31mModuleNotFoundError\u001b[0m: No module named 'sklearn'"
     ]
    }
   ],
   "source": [
    "from sklearn.pipeline import Pipeline\n",
    "from sklearn.ensemble import RandomForestClassifier\n",
    "from sklearn.feature_extraction.text import CountVectorizer\n",
    "from sklearn.decomposition import TruncatedSVD\n",
    "from sklearn.feature_extraction.text import TfidfTransformer\n",
    "\n",
    "# from sklearn.manifold import TSNE\n",
    "# from sklearn.pipeline import Pipeline\n",
    "# from sklearn.preprocessing import Normalizer\n",
    "# from sklearn.feature_extraction.text import TfidfVectorizer\n",
    "# !!! На каждом этапе Pipeline нужно указать свои параметры\n",
    "# 1-ый вариант: tf-idf + LSI\n",
    "# 2-ой вариант: LDA\n",
    "\n",
    "# clf = Pipeline([\n",
    "#     ('vect', CountVectorizer(analyzer = 'char', ngram_range={4,6})),\n",
    "#     ('clf', RandomForestClassifier()),\n",
    "# ])\n",
    "\n",
    "\n",
    "clf = Pipeline([\n",
    "    ('vect', CountVectorizer()),\n",
    "    ('tfidf', TfidfTransformer()),\n",
    "    ('tm', TruncatedSVD()),\n",
    "    ('clf', RandomForestClassifier())\n",
    "])"
   ]
  },
  {
   "cell_type": "code",
   "execution_count": 13,
   "metadata": {
    "pycharm": {
     "name": "#%%\n"
    }
   },
   "outputs": [
    {
     "data": {
      "text/plain": [
       "list"
      ]
     },
     "execution_count": 13,
     "metadata": {},
     "output_type": "execute_result"
    }
   ],
   "source": [
    "type(responses)"
   ]
  }
 ],
 "metadata": {
  "colab": {
   "collapsed_sections": [],
   "name": "HW1_banki_TM-and-classification.ipynb",
   "provenance": []
  },
  "kernelspec": {
   "display_name": "Python 3 (ipykernel)",
   "language": "python",
   "name": "python3"
  },
  "language_info": {
   "codemirror_mode": {
    "name": "ipython",
    "version": 3
   },
   "file_extension": ".py",
   "mimetype": "text/x-python",
   "name": "python",
   "nbconvert_exporter": "python",
   "pygments_lexer": "ipython3",
   "version": "3.9.7"
  },
  "vscode": {
   "interpreter": {
    "hash": "3b86bb4a7c67948f28b40856a4a20f412ff81a4b6377c11c191c16516b072e2a"
   }
  }
 },
 "nbformat": 4,
 "nbformat_minor": 1
}
