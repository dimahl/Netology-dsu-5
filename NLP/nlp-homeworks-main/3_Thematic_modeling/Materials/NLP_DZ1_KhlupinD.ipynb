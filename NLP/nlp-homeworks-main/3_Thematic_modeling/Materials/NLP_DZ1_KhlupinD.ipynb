{
 "cells": [
  {
   "cell_type": "markdown",
   "metadata": {
    "pycharm": {
     "name": "#%% md\n"
    }
   },
   "source": [
    "### Классификация по тональности\n",
    "В этом домашнем задании вам предстоит классифицировать по тональности отзывы на банки с сайта banki.ru.\n",
    "\n",
    "Данные содержат непосредственно тексты отзывов, некоторую дополнительную информацию, а также оценку по шкале от 1 до 5.\n",
    "\n",
    "Тексты хранятся в json-ах в массиве responses.\n",
    "\n",
    "Посмотрим на примере отзыва: возьмите для удобства ноутбук, размещенный в папке репозитория.\n",
    "\n",
    "\n",
    "### Часть 1. Анализ текстов\n",
    "1. Посчитайте количество отзывов в разных городах и на разные банки\n",
    "2. Постройте гистограмы длин слов в символах и в словах\n",
    "3. Найдите 10 самых частых:\n",
    "- слов\n",
    "- слов без стоп-слов\n",
    "- лемм\n",
    "- существительных\n",
    "\n",
    "4. Постройте кривые Ципфа и Хипса\n",
    "5. Ответьте на следующие вопросы:\n",
    "- какое слово встречается чаще, \"сотрудник\" или \"клиент\"?\n",
    "- сколько раз встречается слова \"мошенничество\" и \"доверие\"?\n",
    "\n",
    "6. В поле \"rating_grade\" записана оценка отзыва по шкале от 1 до 5. Используйте меру $tf-idf$, для того, чтобы найти ключевые слова и биграмы для положительных отзывов (с оценкой 5) и отрицательных отзывов (с оценкой 1)\n",
    "\n",
    "### Часть 2. Тематическое моделирование\n",
    "1. Постройте несколько тематических моделей коллекции документов с разным числом тем. Приведите примеры понятных (интерпретируемых) тем.\n",
    "2. Найдите темы, в которых упомянуты конкретные банки (Сбербанк, ВТБ, другой банк). Можете ли вы их прокомментировать / объяснить?\n",
    "Эта часть задания может быть сделана с использованием gensim.\n",
    "\n",
    "### Часть 3. Классификация текстов\n",
    "Сформулируем для простоты задачу бинарной классификации: будем классифицировать на два класса, то есть, различать резко отрицательные отзывы (с оценкой 1) и положительные отзывы (с оценкой 5).\n",
    "\n",
    "1. Составьте обучающее и тестовое множество: выберите из всего набора данных N1 отзывов с оценкой 1 и N2 отзывов с оценкой 5 (значение N1 и N2 – на ваше усмотрение). Используйте sklearn.model_selection.train_test_split для разделения множества отобранных документов на обучающее и тестовое.\n",
    "2. Используйте любой известный вам алгоритм классификации текстов для решения задачи и получите baseline. Сравните разные варианты векторизации текста: использование только униграм, пар или троек слов или с использованием символьных $n$-грам.\n",
    "3. Сравните, как изменяется качество решения задачи при использовании скрытых тем в качестве признаков:\n",
    "- 1-ый вариант: $tf-idf$ преобразование (sklearn.feature_extraction.text.TfidfTransformer) и сингулярное разложение (оно же – латентый семантический анализ) (sklearn.decomposition.TruncatedSVD),\n",
    "- 2-ой вариант: тематические модели LDA (sklearn.decomposition.LatentDirichletAllocation).\n",
    "Используйте accuracy и F-measure для оценки качества классификации.\n",
    "\n",
    "В ноутбуке, размещенном в папке репозитория. написан примерный Pipeline для классификации текстов.\n",
    "\n",
    "Эта часть задания может быть сделана с использованием sklearn."
   ]
  },
  {
   "cell_type": "code",
   "execution_count": 34,
   "metadata": {
    "pycharm": {
     "name": "#%%\n"
    }
   },
   "outputs": [],
   "source": [
    "import json\n",
    "\n",
    "import bz2\n",
    "# import regex\n",
    "# from scipy import sparse\n",
    "from transliterate import translit"
   ]
  },
  {
   "cell_type": "code",
   "execution_count": 35,
   "metadata": {
    "id": "_ZsoxOinqauK",
    "outputId": "1b349b33-f266-404a-fa55-4088784d8897",
    "pycharm": {
     "name": "#%%\n"
    }
   },
   "outputs": [],
   "source": [
    "import pandas as pd\n",
    "import numpy as np\n",
    "import nltk\n",
    "import matplotlib.pyplot as plt\n",
    "import seaborn as sns\n",
    "%matplotlib inline\n",
    "\n",
    "from tqdm.auto import tqdm\n",
    "tqdm.pandas(desc=\"progress: \")"
   ]
  },
  {
   "cell_type": "code",
   "execution_count": 3,
   "metadata": {
    "id": "UNHVsbPnqauL",
    "outputId": "e8d7d7f4-576b-4846-b06a-f3b4a08adb95",
    "pycharm": {
     "name": "#%%\n"
    },
    "scrolled": true
   },
   "outputs": [
    {
     "name": "stderr",
     "output_type": "stream",
     "text": [
      "201030it [01:36, 2090.33it/s]\n"
     ]
    }
   ],
   "source": [
    "responses = []\n",
    "with bz2.BZ2File('banki_responses.json.bz2', 'r') as thefile:\n",
    "    for row in tqdm(thefile):\n",
    "        resp = json.loads(row)\n",
    "        # responses.append(resp)\n",
    "        if not resp['rating_not_checked'] and (len(resp['text'].split()) > 0):\n",
    "            responses.append(resp)\n",
    "df_responses_raw = pd.DataFrame(responses)\n",
    "# df_responses_raw = pd.read_json('banki_responses.json.bz2', compression='bz2', lines=True)"
   ]
  },
  {
   "cell_type": "code",
   "execution_count": 7,
   "metadata": {
    "pycharm": {
     "name": "#%%\n"
    }
   },
   "outputs": [
    {
     "data": {
      "text/html": [
       "<div>\n",
       "<style scoped>\n",
       "    .dataframe tbody tr th:only-of-type {\n",
       "        vertical-align: middle;\n",
       "    }\n",
       "\n",
       "    .dataframe tbody tr th {\n",
       "        vertical-align: top;\n",
       "    }\n",
       "\n",
       "    .dataframe thead th {\n",
       "        text-align: right;\n",
       "    }\n",
       "</style>\n",
       "<table border=\"1\" class=\"dataframe\">\n",
       "  <thead>\n",
       "    <tr style=\"text-align: right;\">\n",
       "      <th></th>\n",
       "      <th>city</th>\n",
       "      <th>rating_not_checked</th>\n",
       "      <th>title</th>\n",
       "      <th>num_comments</th>\n",
       "      <th>bank_license</th>\n",
       "      <th>author</th>\n",
       "      <th>bank_name</th>\n",
       "      <th>datetime</th>\n",
       "      <th>text</th>\n",
       "      <th>rating_grade</th>\n",
       "    </tr>\n",
       "  </thead>\n",
       "  <tbody>\n",
       "    <tr>\n",
       "      <th>60987</th>\n",
       "      <td>г. Санкт-Петербург</td>\n",
       "      <td>False</td>\n",
       "      <td>Не списывает деньги по кредиту вовремя, а пото...</td>\n",
       "      <td>2</td>\n",
       "      <td>лицензия № 1481</td>\n",
       "      <td>Anna111</td>\n",
       "      <td>Сбербанк России</td>\n",
       "      <td>2014-01-16 12:19:00</td>\n",
       "      <td>Я три года (в 2010 году) назад в сбербанке офо...</td>\n",
       "      <td>1.0</td>\n",
       "    </tr>\n",
       "  </tbody>\n",
       "</table>\n",
       "</div>"
      ],
      "text/plain": [
       "                     city  rating_not_checked  \\\n",
       "60987  г. Санкт-Петербург               False   \n",
       "\n",
       "                                                   title  num_comments  \\\n",
       "60987  Не списывает деньги по кредиту вовремя, а пото...             2   \n",
       "\n",
       "          bank_license   author        bank_name             datetime  \\\n",
       "60987  лицензия № 1481  Anna111  Сбербанк России  2014-01-16 12:19:00   \n",
       "\n",
       "                                                    text  rating_grade  \n",
       "60987  Я три года (в 2010 году) назад в сбербанке офо...           1.0  "
      ]
     },
     "execution_count": 7,
     "metadata": {},
     "output_type": "execute_result"
    }
   ],
   "source": [
    "df_responses_raw.sample()"
   ]
  },
  {
   "cell_type": "markdown",
   "metadata": {
    "pycharm": {
     "name": "#%% md\n"
    }
   },
   "source": [
    "# Часть 1\n",
    "## 1. Посчитайте количество отзывов в разных городах и на разные банки"
   ]
  },
  {
   "cell_type": "code",
   "execution_count": 8,
   "metadata": {
    "id": "Dd7m6GpMqauP",
    "outputId": "975085c3-9f8c-4a64-ac12-747ffab282ce",
    "pycharm": {
     "name": "#%%\n"
    }
   },
   "outputs": [
    {
     "data": {
      "text/plain": [
       "0                 Москва\n",
       "1            Новосибирск\n",
       "2             Ставрополь\n",
       "3              Челябинск\n",
       "4              Волгоград\n",
       "              ...       \n",
       "2972        Оренбур орск\n",
       "2973                Ектб\n",
       "2974    Владимирская обл\n",
       "2975              Вся рф\n",
       "2976     Москва-владимир\n",
       "Length: 2977, dtype: object"
      ]
     },
     "execution_count": 8,
     "metadata": {},
     "output_type": "execute_result"
    }
   ],
   "source": [
    "# Много различных преобразований и фильтров\n",
    "df_responses = df_responses_raw.copy()\n",
    "df_responses.dropna(subset=['city'], inplace=True)\n",
    "df_responses['city'] = df_responses['city'].str.lower()\n",
    "# df_responses['city'] = df_responses['city'].str.replace('[\\W]+', ' ', regex=True)\n",
    "df_responses['city'] = df_responses['city'].str.replace(\n",
    "    '[.,\\(\\)\\|\\?]+', ' ', regex=True)\n",
    "# df_responses['city'] = df_responses['city'].str.replace([!#$%( ) * + , \\ -. / : ; < = > ? @ [ ] ^ _ ` { | }]+', ' ', regex=True)\n",
    "\n",
    "df_responses['city'] = df_responses['city'].str.strip()\n",
    "\n",
    "# df_responses['len_city] = df_responses[~(df_responses['city'].str.len() > 20)]\n",
    "df_responses['city'] = df_responses['city'].str.replace(\n",
    "    '(г )', '', regex=True)\n",
    "df_responses = df_responses[~(df_responses['city'].str.len() > 20)]\n",
    "df_responses = df_responses[~(df_responses['city'].str.len() < 3)]\n",
    "df_responses = df_responses[~(\n",
    "    df_responses['city'].str.isdigit().fillna(False))]\n",
    "df_responses = df_responses[~(\n",
    "    df_responses['city'].str.contains('[\\d]{7,}', na=False))]\n",
    "\n",
    "df_responses['city'] = df_responses['city'].str.replace(\n",
    "    '(хх)', 'х', regex=True)\n",
    "df_responses['city'] = df_responses['city'].str.replace(\n",
    "    '(кх)', 'х', regex=True)\n",
    "\n",
    "df_responses['city'] = df_responses['city'].str.replace(\n",
    "    '[\\s]+', ' ', regex=True)\n",
    "\n",
    "df_responses['city'] = df_responses['city'].apply(\n",
    "    lambda row: translit(row, 'ru'))\n",
    "\n",
    "df_responses['city'] = df_responses['city'].str.strip()\n",
    "df_responses['city'] = df_responses['city'].str.capitalize()\n",
    "\n",
    "list_city = pd.Series(df_responses['city'].unique())  # .sort_values()\n",
    "list_city"
   ]
  },
  {
   "cell_type": "markdown",
   "metadata": {
    "pycharm": {
     "name": "#%% md\n"
    }
   },
   "source": [
    "### Импортирую спец библиотеки и пишу обертку"
   ]
  },
  {
   "cell_type": "code",
   "execution_count": 9,
   "metadata": {
    "pycharm": {
     "name": "#%%\n"
    }
   },
   "outputs": [],
   "source": [
    "from pullenti_wrapper.referent import Referent\n",
    "from pullenti_wrapper.processor import Processor, GEO, ADDRESS\n",
    "from pullenti_wrapper.langs import set_langs, RU\n",
    "from natasha import AddrExtractor, MorphVocab, Doc, Segmenter\n",
    "segmenter = Segmenter()\n",
    "morph_vocab = MorphVocab()\n",
    "addr_extractor = AddrExtractor(morph_vocab)\n",
    "\n",
    "# pip install pullenti-wrapper\n",
    "set_langs([RU])\n",
    "processor = Processor([GEO, ADDRESS])\n",
    "\n",
    "\n",
    "def extract_city_name(text, method='pullenti'):\n",
    "    if method == 'pullenti':\n",
    "        result = processor(text).matches\n",
    "        if result:\n",
    "            try:\n",
    "                # Создаю список городОв первое совпадение по типу город 'Москва Рязань' -> 'москва'\n",
    "                name = [\n",
    "                    i.referent.name for i in result if i.referent.type == 'город']\n",
    "                if name:\n",
    "                    # Достаю первое совпадение по типу город 'Москва Рязань' -> 'москва'\n",
    "                    return name[0].lower()\n",
    "            except AttributeError:\n",
    "                print(text)\n",
    "                return '?'\n",
    "\n",
    "    if method == 'natasha':\n",
    "        name = [i.fact for i in addr_extractor(text) if i.fact.type == None]\n",
    "        if name:\n",
    "            return name[0].value.lower()\n",
    "\n",
    "    return '?'\n",
    "# extract_city_name(text)"
   ]
  },
  {
   "cell_type": "code",
   "execution_count": 10,
   "metadata": {
    "pycharm": {
     "name": "#%%\n"
    }
   },
   "outputs": [
    {
     "name": "stdout",
     "output_type": "stream",
     "text": [
      "2022-11-12 08:33:21.888447\n"
     ]
    },
    {
     "name": "stderr",
     "output_type": "stream",
     "text": [
      "progress:  78%|███████▊  | 105588/135426 [02:48<00:47, 631.63it/s]"
     ]
    },
    {
     "name": "stdout",
     "output_type": "stream",
     "text": [
      "Мо городок 17\n"
     ]
    },
    {
     "name": "stderr",
     "output_type": "stream",
     "text": [
      "progress:  97%|█████████▋| 131602/135426 [03:28<00:05, 649.76it/s]"
     ]
    },
    {
     "name": "stdout",
     "output_type": "stream",
     "text": [
      "Зеленоград корп1824\n"
     ]
    },
    {
     "name": "stderr",
     "output_type": "stream",
     "text": [
      "progress: 100%|██████████| 135426/135426 [03:34<00:00, 630.54it/s]\n",
      "progress: 100%|██████████| 16397/16397 [01:10<00:00, 232.49it/s]"
     ]
    },
    {
     "name": "stdout",
     "output_type": "stream",
     "text": [
      "2022-11-12 08:38:07.241180\n"
     ]
    },
    {
     "name": "stderr",
     "output_type": "stream",
     "text": [
      "\n"
     ]
    }
   ],
   "source": [
    "print(pd.Timestamp.now())\n",
    "# функцию вызываю раздельно в два этапа, т.к. скорость выполнения различных методов разная, и остаток уже выполняю на более медленной\n",
    "df_responses['city_name'] = df_responses['city'].progress_apply(\n",
    "    extract_city_name, args=('pullenti',))\n",
    "df_responses.loc[df_responses['city_name'] == '?', 'city_name'] = df_responses.loc[df_responses['city_name']\n",
    "                                                                                   == '?', 'city'].progress_apply(extract_city_name, args=('natasha',))\n",
    "print(pd.Timestamp.now())"
   ]
  },
  {
   "cell_type": "code",
   "execution_count": 4,
   "metadata": {},
   "outputs": [
    {
     "data": {
      "text/html": [
       "<div>\n",
       "<style scoped>\n",
       "    .dataframe tbody tr th:only-of-type {\n",
       "        vertical-align: middle;\n",
       "    }\n",
       "\n",
       "    .dataframe tbody tr th {\n",
       "        vertical-align: top;\n",
       "    }\n",
       "\n",
       "    .dataframe thead th {\n",
       "        text-align: right;\n",
       "    }\n",
       "</style>\n",
       "<table border=\"1\" class=\"dataframe\">\n",
       "  <thead>\n",
       "    <tr style=\"text-align: right;\">\n",
       "      <th></th>\n",
       "      <th>city</th>\n",
       "      <th>rating_not_checked</th>\n",
       "      <th>title</th>\n",
       "      <th>num_comments</th>\n",
       "      <th>bank_license</th>\n",
       "      <th>author</th>\n",
       "      <th>bank_name</th>\n",
       "      <th>datetime</th>\n",
       "      <th>text</th>\n",
       "      <th>rating_grade</th>\n",
       "      <th>city_name</th>\n",
       "    </tr>\n",
       "  </thead>\n",
       "  <tbody>\n",
       "    <tr>\n",
       "      <th>6638</th>\n",
       "      <td>Новокузнецк</td>\n",
       "      <td>False</td>\n",
       "      <td>Звонки из-за просрочки</td>\n",
       "      <td>1</td>\n",
       "      <td>лицензия № 2289</td>\n",
       "      <td>novkuzr.88</td>\n",
       "      <td>Русский Стандарт</td>\n",
       "      <td>2015-04-06 10:36:42</td>\n",
       "      <td>Являюсь заемщиком банка Русский Стандарт. У ме...</td>\n",
       "      <td>NaN</td>\n",
       "      <td>новокузнецк</td>\n",
       "    </tr>\n",
       "    <tr>\n",
       "      <th>71470</th>\n",
       "      <td>Петербург</td>\n",
       "      <td>False</td>\n",
       "      <td>Угораздила мужа перевести деньги мне через Кив...</td>\n",
       "      <td>4</td>\n",
       "      <td>лицензия № 2241</td>\n",
       "      <td>Azirius</td>\n",
       "      <td>Киви Банк</td>\n",
       "      <td>2013-09-23 10:17:00</td>\n",
       "      <td>В итоге \"Ограничение на исходящие платежи\" и н...</td>\n",
       "      <td>1.0</td>\n",
       "      <td>санкт-петербург</td>\n",
       "    </tr>\n",
       "    <tr>\n",
       "      <th>107106</th>\n",
       "      <td>Москва</td>\n",
       "      <td>False</td>\n",
       "      <td>Автокредитование</td>\n",
       "      <td>2</td>\n",
       "      <td>лицензия № 1978</td>\n",
       "      <td>Pauers</td>\n",
       "      <td>Московский Кредитный Банк</td>\n",
       "      <td>2012-04-18 15:11:00</td>\n",
       "      <td>Добрый день! Решил поделиться своей историей. ...</td>\n",
       "      <td>5.0</td>\n",
       "      <td>москва</td>\n",
       "    </tr>\n",
       "  </tbody>\n",
       "</table>\n",
       "</div>"
      ],
      "text/plain": [
       "               city  rating_not_checked  \\\n",
       "6638    Новокузнецк               False   \n",
       "71470     Петербург               False   \n",
       "107106       Москва               False   \n",
       "\n",
       "                                                    title  num_comments  \\\n",
       "6638                               Звонки из-за просрочки             1   \n",
       "71470   Угораздила мужа перевести деньги мне через Кив...             4   \n",
       "107106                                   Автокредитование             2   \n",
       "\n",
       "           bank_license      author                  bank_name  \\\n",
       "6638    лицензия № 2289  novkuzr.88           Русский Стандарт   \n",
       "71470   лицензия № 2241     Azirius                  Киви Банк   \n",
       "107106  лицензия № 1978      Pauers  Московский Кредитный Банк   \n",
       "\n",
       "                   datetime  \\\n",
       "6638    2015-04-06 10:36:42   \n",
       "71470   2013-09-23 10:17:00   \n",
       "107106  2012-04-18 15:11:00   \n",
       "\n",
       "                                                     text  rating_grade  \\\n",
       "6638    Являюсь заемщиком банка Русский Стандарт. У ме...           NaN   \n",
       "71470   В итоге \"Ограничение на исходящие платежи\" и н...           1.0   \n",
       "107106  Добрый день! Решил поделиться своей историей. ...           5.0   \n",
       "\n",
       "              city_name  \n",
       "6638        новокузнецк  \n",
       "71470   санкт-петербург  \n",
       "107106           москва  "
      ]
     },
     "execution_count": 4,
     "metadata": {},
     "output_type": "execute_result"
    }
   ],
   "source": [
    "df_responses = pd.read_csv('df_responses.zip')\n",
    "df_responses.sample(3)"
   ]
  },
  {
   "cell_type": "code",
   "execution_count": 5,
   "metadata": {
    "pycharm": {
     "name": "#%%\n"
    }
   },
   "outputs": [
    {
     "name": "stdout",
     "output_type": "stream",
     "text": [
      "Необработано строк:  6537\n",
      "Необработанный \"города\":\n"
     ]
    },
    {
     "data": {
      "text/html": [
       "<div>\n",
       "<style scoped>\n",
       "    .dataframe tbody tr th:only-of-type {\n",
       "        vertical-align: middle;\n",
       "    }\n",
       "\n",
       "    .dataframe tbody tr th {\n",
       "        vertical-align: top;\n",
       "    }\n",
       "\n",
       "    .dataframe thead th {\n",
       "        text-align: right;\n",
       "    }\n",
       "</style>\n",
       "<table border=\"1\" class=\"dataframe\">\n",
       "  <thead>\n",
       "    <tr style=\"text-align: right;\">\n",
       "      <th></th>\n",
       "      <th>city_other</th>\n",
       "      <th>city</th>\n",
       "    </tr>\n",
       "  </thead>\n",
       "  <tbody>\n",
       "    <tr>\n",
       "      <th>0</th>\n",
       "      <td>Россия</td>\n",
       "      <td>206</td>\n",
       "    </tr>\n",
       "    <tr>\n",
       "      <th>1</th>\n",
       "      <td>Щелково</td>\n",
       "      <td>192</td>\n",
       "    </tr>\n",
       "    <tr>\n",
       "      <th>2</th>\n",
       "      <td>Железнодорожный</td>\n",
       "      <td>186</td>\n",
       "    </tr>\n",
       "    <tr>\n",
       "      <th>3</th>\n",
       "      <td>Ивантеевка</td>\n",
       "      <td>87</td>\n",
       "    </tr>\n",
       "    <tr>\n",
       "      <th>4</th>\n",
       "      <td>Дмитров</td>\n",
       "      <td>81</td>\n",
       "    </tr>\n",
       "    <tr>\n",
       "      <th>...</th>\n",
       "      <td>...</td>\n",
       "      <td>...</td>\n",
       "    </tr>\n",
       "    <tr>\n",
       "      <th>1778</th>\n",
       "      <td>Рязантдк</td>\n",
       "      <td>1</td>\n",
       "    </tr>\n",
       "    <tr>\n",
       "      <th>1779</th>\n",
       "      <td>Лазаревское</td>\n",
       "      <td>1</td>\n",
       "    </tr>\n",
       "    <tr>\n",
       "      <th>1780</th>\n",
       "      <td>Нюрнберг</td>\n",
       "      <td>1</td>\n",
       "    </tr>\n",
       "    <tr>\n",
       "      <th>1781</th>\n",
       "      <td>Миск</td>\n",
       "      <td>1</td>\n",
       "    </tr>\n",
       "    <tr>\n",
       "      <th>1782</th>\n",
       "      <td>Вся рф</td>\n",
       "      <td>1</td>\n",
       "    </tr>\n",
       "  </tbody>\n",
       "</table>\n",
       "<p>1783 rows × 2 columns</p>\n",
       "</div>"
      ],
      "text/plain": [
       "           city_other  city\n",
       "0              Россия   206\n",
       "1             Щелково   192\n",
       "2     Железнодорожный   186\n",
       "3          Ивантеевка    87\n",
       "4             Дмитров    81\n",
       "...               ...   ...\n",
       "1778         Рязантдк     1\n",
       "1779      Лазаревское     1\n",
       "1780         Нюрнберг     1\n",
       "1781             Миск     1\n",
       "1782           Вся рф     1\n",
       "\n",
       "[1783 rows x 2 columns]"
      ]
     },
     "execution_count": 5,
     "metadata": {},
     "output_type": "execute_result"
    }
   ],
   "source": [
    "# dict_replace = {\"Питер\":'санкт-петербург', 'Мосцоw':'москва', 'Санк-петербург':'санкт-петербург', 'С петербург':'санкт-петербург'}\n",
    "# df_responses['city'].replace(dict_replace, inplace=True)\n",
    "# df_responses.loc[df_responses['city_name'] == '?', 'city_name'] = df_responses.loc[df_responses['city_name'] == '?', 'city'].progress_apply(extract_city_name, args=('pullenti',))\n",
    "# v.loc[df_responses['city_name'] == '?', 'city_name'] = df_responses.loc[df_responses['city_name'] == '?', 'city'].progress_apply(extract_city_name, args=('natasha',))\n",
    "print('Необработано строк: ',\n",
    "      df_responses.loc[df_responses['city_name'] == '?'].shape[0])\n",
    "print('Необработанный \"города\":')\n",
    "other_name = df_responses.loc[df_responses['city_name'] ==\n",
    "                              '?', 'city'].value_counts(ascending=False, dropna=False)\n",
    "other_name.rename_axis('city_other', inplace=True)\n",
    "\n",
    "other_name = other_name.reset_index()\n",
    "other_name"
   ]
  },
  {
   "cell_type": "code",
   "execution_count": 6,
   "metadata": {
    "pycharm": {
     "name": "#%%\n"
    }
   },
   "outputs": [
    {
     "name": "stdout",
     "output_type": "stream",
     "text": [
      "Количество отзывов по городам:\n"
     ]
    },
    {
     "data": {
      "text/plain": [
       "москва             57164\n",
       "санкт-петербург    15639\n",
       "?                   6537\n",
       "новосибирск         2388\n",
       "екатеринбург        2380\n",
       "                   ...  \n",
       "нгевинномысск          1\n",
       "соновоборск            1\n",
       "великй новгород        1\n",
       "волоград               1\n",
       "свияжск                1\n",
       "Name: city_name, Length: 537, dtype: int64"
      ]
     },
     "execution_count": 6,
     "metadata": {},
     "output_type": "execute_result"
    }
   ],
   "source": [
    "print(\"Количество отзывов по городам:\")\n",
    "df_responses['city_name'].value_counts()"
   ]
  },
  {
   "cell_type": "code",
   "execution_count": 7,
   "metadata": {
    "pycharm": {
     "name": "#%%\n"
    }
   },
   "outputs": [
    {
     "data": {
      "text/plain": [
       "329          2Т Банк\n",
       "541        АБ Финанс\n",
       "327              АББ\n",
       "508         АМБ Банк\n",
       "542         АМТ Банк\n",
       "           ...      \n",
       "372       Юникорбанк\n",
       "219         Юнистрим\n",
       "191          ЯР-Банк\n",
       "59     Яндекс.Деньги\n",
       "196        Ярославич\n",
       "Length: 591, dtype: object"
      ]
     },
     "execution_count": 7,
     "metadata": {},
     "output_type": "execute_result"
    }
   ],
   "source": [
    "# Анализ уникальных значений, показывает, что названия банков - нормальные\n",
    "pd.Series(df_responses['bank_name'].unique()).sort_values()"
   ]
  },
  {
   "cell_type": "code",
   "execution_count": 8,
   "metadata": {
    "pycharm": {
     "name": "#%%\n"
    }
   },
   "outputs": [
    {
     "name": "stdout",
     "output_type": "stream",
     "text": [
      "Количество отзывов по банкам:\n"
     ]
    },
    {
     "data": {
      "text/plain": [
       "Сбербанк России                     24580\n",
       "Альфа-Банк                           8955\n",
       "ВТБ 24                               7165\n",
       "Хоум Кредит Банк                     7152\n",
       "Русский Стандарт                     7100\n",
       "                                    ...  \n",
       "Кузнецкий                               1\n",
       "Развитие                                1\n",
       "Новый Символ                            1\n",
       "Новокузнецкий Муниципальный Банк        1\n",
       "Нижегородпромстройбанк                  1\n",
       "Name: bank_name, Length: 591, dtype: int64"
      ]
     },
     "execution_count": 8,
     "metadata": {},
     "output_type": "execute_result"
    }
   ],
   "source": [
    "print(\"Количество отзывов по банкам:\")\n",
    "df_responses['bank_name'].value_counts()"
   ]
  },
  {
   "cell_type": "markdown",
   "metadata": {
    "pycharm": {
     "name": "#%% md\n"
    }
   },
   "source": [
    "### 2. Постройте гистограмы длин слов в символах и в словах\n",
    "##### Не очень я понял вторую часть \"построить гистограмму длин слов в словах\" ????\n",
    "##### Как я понимаю нужно построить нормальное распределение длин слов"
   ]
  },
  {
   "cell_type": "code",
   "execution_count": 9,
   "metadata": {
    "pycharm": {
     "name": "#%%\n"
    }
   },
   "outputs": [],
   "source": [
    "from string import punctuation\n",
    "from nltk.tokenize import word_tokenize\n",
    "from collections import Counter\n",
    "import seaborn as sns\n",
    "\n",
    "punctuation = punctuation + '``' + \"''\" + '...'"
   ]
  },
  {
   "cell_type": "code",
   "execution_count": 10,
   "metadata": {
    "pycharm": {
     "name": "#%%\n"
    }
   },
   "outputs": [
    {
     "name": "stdout",
     "output_type": "stream",
     "text": [
      "2022-11-15 14:49:47.734522\n",
      "2022-11-15 14:53:42.652606\n"
     ]
    }
   ],
   "source": [
    "print(pd.Timestamp.now())\n",
    "corpus = [token.lower() for msg in df_responses['text'] for token in word_tokenize(msg, language=\"russian\") if token not in punctuation]\n",
    "freq_dict = Counter(corpus)\n",
    "print(pd.Timestamp.now())"
   ]
  },
  {
   "cell_type": "code",
   "execution_count": 28,
   "metadata": {
    "pycharm": {
     "name": "#%%\n"
    }
   },
   "outputs": [
    {
     "data": {
      "text/plain": [
       "<AxesSubplot: xlabel='len'>"
      ]
     },
     "execution_count": 28,
     "metadata": {},
     "output_type": "execute_result"
    },
    {
     "data": {
      "image/png": "[encoded data removed]",
      "text/plain": [
       "<Figure size 1800x576 with 1 Axes>"
      ]
     },
     "metadata": {
      "needs_background": "light"
     },
     "output_type": "display_data"
    }
   ],
   "source": [
    "df_word_len = pd.Series(freq_dict).to_frame().reset_index().rename(columns={'index':'word', 0:'count'})\n",
    "df_word_len['len'] = df_word_len['word'].str.len()\n",
    "df_word_len = df_word_len[~df_word_len['word'].str.isdecimal()]\n",
    "df_hist = df_word_len.groupby('len')['count'].sum()\n",
    "df_hist.plot(kind = 'bar', figsize=(25,8), logy=True)"
   ]
  },
  {
   "cell_type": "markdown",
   "metadata": {},
   "source": [
    "#### Выше построил гистограмму длин слов в символах, для этого вручную общитал частотный словарь и подготовил готовые данные для столбачтой диаграммы, чтобы получить гистограмму, а делал это т.к. напрямую передать сырые данные .plot(kind='hist') оч долго думало и безрезультативно, не построил гистограмму длин слов в словах, не оч понимаю, это что на оси Х должны быть все(400к) уникальные слова??"
   ]
  },
  {
   "cell_type": "markdown",
   "metadata": {},
   "source": [
    "3. Найдите 10 самых частых:\n",
    "- слов\n",
    "- слов без стоп-слов\n",
    "- лемм\n",
    "- существительных"
   ]
  },
  {
   "cell_type": "code",
   "execution_count": 36,
   "metadata": {},
   "outputs": [
    {
     "data": {
      "text/plain": [
       "[('в', 1177773),\n",
       " ('и', 937682),\n",
       " ('не', 760761),\n",
       " ('на', 627982),\n",
       " ('что', 555479),\n",
       " ('я', 514090),\n",
       " ('с', 406585),\n",
       " ('по', 328917),\n",
       " ('мне', 288373),\n",
       " ('банка', 239613)]"
      ]
     },
     "execution_count": 36,
     "metadata": {},
     "output_type": "execute_result"
    }
   ],
   "source": [
    "# 10 самых частых слов\n",
    "freq_dict.most_common(10)"
   ]
  },
  {
   "cell_type": "code",
   "execution_count": 47,
   "metadata": {},
   "outputs": [],
   "source": [
    "from nltk.corpus import stopwords as SW\n",
    "stopwords = SW.words(\"russian\")\n",
    "\n",
    "tokens_wo_se = [tok for tok in corpus if tok not in stopwords and len(tok) > 2]"
   ]
  },
  {
   "cell_type": "code",
   "execution_count": 51,
   "metadata": {},
   "outputs": [
    {
     "data": {
      "text/plain": [
       "[('банка', 239613),\n",
       " ('банк', 176835),\n",
       " ('это', 161613),\n",
       " ('деньги', 116237),\n",
       " ('карту', 95045),\n",
       " ('карты', 92537),\n",
       " ('кредит', 70331),\n",
       " ('день', 68399),\n",
       " ('заявление', 63626),\n",
       " ('отделение', 59338)]"
      ]
     },
     "execution_count": 51,
     "metadata": {},
     "output_type": "execute_result"
    }
   ],
   "source": [
    "# 10 самых частых слов без стоп слов\n",
    "freq_dict_wo_sw = Counter(tokens_wo_se)\n",
    "freq_dict_wo_sw.most_common(10)\n"
   ]
  },
  {
   "cell_type": "code",
   "execution_count": 56,
   "metadata": {},
   "outputs": [],
   "source": [
    "is_noun = lambda pos: pos[:2] == 'NN'\n",
    "tokens_nouns = [word for (word, pos) in nltk.pos_tag(tokens_wo_se) if is_noun(pos)] "
   ]
  },
  {
   "cell_type": "code",
   "execution_count": 58,
   "metadata": {},
   "outputs": [
    {
     "data": {
      "text/plain": [
       "[('банка', 236706),\n",
       " ('банк', 174951),\n",
       " ('это', 160182),\n",
       " ('деньги', 115159),\n",
       " ('карту', 93554),\n",
       " ('карты', 90721),\n",
       " ('кредит', 68094),\n",
       " ('день', 65621),\n",
       " ('заявление', 62866),\n",
       " ('отделение', 57957)]"
      ]
     },
     "execution_count": 58,
     "metadata": {},
     "output_type": "execute_result"
    }
   ],
   "source": [
    "# 10 самых частых существительных\n",
    "freq_dict_nouns = Counter(tokens_nouns)\n",
    "freq_dict_nouns.most_common(10)"
   ]
  },
  {
   "cell_type": "markdown",
   "metadata": {},
   "source": [
    "nltk не очень хорошо определяет имена существительные, возможно другие методы или комбинация методов, будет лучше, но сейчас я его не буду реализовывать"
   ]
  },
  {
   "cell_type": "code",
   "execution_count": 66,
   "metadata": {},
   "outputs": [],
   "source": [
    "from nltk.stem.wordnet import WordNetLemmatizer\n",
    "\n",
    "lemmatizer = WordNetLemmatizer()\n",
    "corpus_lemm = [lemmatizer.lemmatize(token) for token in corpus]"
   ]
  },
  {
   "cell_type": "code",
   "execution_count": 67,
   "metadata": {},
   "outputs": [
    {
     "data": {
      "text/plain": [
       "[('в', 1177773),\n",
       " ('и', 937682),\n",
       " ('не', 760761),\n",
       " ('на', 627982),\n",
       " ('что', 555479),\n",
       " ('я', 514090),\n",
       " ('с', 406585),\n",
       " ('по', 328917),\n",
       " ('мне', 288373),\n",
       " ('банка', 239613)]"
      ]
     },
     "execution_count": 67,
     "metadata": {},
     "output_type": "execute_result"
    }
   ],
   "source": [
    "# 10 самых частых лемм\n",
    "freq_dict_lemm = Counter(corpus_lemm)\n",
    "freq_dict_lemm.most_common(10)"
   ]
  },
  {
   "cell_type": "code",
   "execution_count": null,
   "metadata": {},
   "outputs": [],
   "source": []
  },
  {
   "cell_type": "markdown",
   "metadata": {
    "id": "AJ39G_RaqauR",
    "pycharm": {
     "name": "#%% md\n"
    }
   },
   "source": [
    "## Классификация текстов"
   ]
  },
  {
   "cell_type": "code",
   "execution_count": 9,
   "metadata": {
    "id": "bUSukDrwqauS",
    "outputId": "d50fc19f-0306-4d6b-f14d-101196431d81",
    "pycharm": {
     "name": "#%%\n"
    }
   },
   "outputs": [
    {
     "ename": "ModuleNotFoundError",
     "evalue": "No module named 'sklearn'",
     "output_type": "error",
     "traceback": [
      "\u001b[1;31m---------------------------------------------------------------------------\u001b[0m",
      "\u001b[1;31mModuleNotFoundError\u001b[0m                       Traceback (most recent call last)",
      "\u001b[1;32mc:\\Users\\Dmitriy\\DataScience\\Netology\\Netology-dsu-5\\NLP\\nlp-homeworks-main\\3_Thematic_modeling\\Materials\\HW1_banki_TM_and_classification.ipynb Ячейка 27\u001b[0m in \u001b[0;36m<module>\u001b[1;34m\u001b[0m\n\u001b[1;32m----> <a href='vscode-notebook-cell:/c%3A/Users/Dmitriy/DataScience/Netology/Netology-dsu-5/NLP/nlp-homeworks-main/3_Thematic_modeling/Materials/HW1_banki_TM_and_classification.ipynb#X36sZmlsZQ%3D%3D?line=0'>1</a>\u001b[0m \u001b[39mfrom\u001b[39;00m \u001b[39msklearn\u001b[39;00m\u001b[39m.\u001b[39;00m\u001b[39mpipeline\u001b[39;00m \u001b[39mimport\u001b[39;00m Pipeline\n\u001b[0;32m      <a href='vscode-notebook-cell:/c%3A/Users/Dmitriy/DataScience/Netology/Netology-dsu-5/NLP/nlp-homeworks-main/3_Thematic_modeling/Materials/HW1_banki_TM_and_classification.ipynb#X36sZmlsZQ%3D%3D?line=1'>2</a>\u001b[0m \u001b[39mfrom\u001b[39;00m \u001b[39msklearn\u001b[39;00m\u001b[39m.\u001b[39;00m\u001b[39mensemble\u001b[39;00m \u001b[39mimport\u001b[39;00m RandomForestClassifier\n\u001b[0;32m      <a href='vscode-notebook-cell:/c%3A/Users/Dmitriy/DataScience/Netology/Netology-dsu-5/NLP/nlp-homeworks-main/3_Thematic_modeling/Materials/HW1_banki_TM_and_classification.ipynb#X36sZmlsZQ%3D%3D?line=2'>3</a>\u001b[0m \u001b[39mfrom\u001b[39;00m \u001b[39msklearn\u001b[39;00m\u001b[39m.\u001b[39;00m\u001b[39mfeature_extraction\u001b[39;00m\u001b[39m.\u001b[39;00m\u001b[39mtext\u001b[39;00m \u001b[39mimport\u001b[39;00m CountVectorizer\n",
      "\u001b[1;31mModuleNotFoundError\u001b[0m: No module named 'sklearn'"
     ]
    }
   ],
   "source": [
    "from sklearn.pipeline import Pipeline\n",
    "from sklearn.ensemble import RandomForestClassifier\n",
    "from sklearn.feature_extraction.text import CountVectorizer\n",
    "from sklearn.decomposition import TruncatedSVD\n",
    "from sklearn.feature_extraction.text import TfidfTransformer\n",
    "\n",
    "# from sklearn.manifold import TSNE\n",
    "# from sklearn.pipeline import Pipeline\n",
    "# from sklearn.preprocessing import Normalizer\n",
    "# from sklearn.feature_extraction.text import TfidfVectorizer\n",
    "# !!! На каждом этапе Pipeline нужно указать свои параметры\n",
    "# 1-ый вариант: tf-idf + LSI\n",
    "# 2-ой вариант: LDA\n",
    "\n",
    "# clf = Pipeline([\n",
    "#     ('vect', CountVectorizer(analyzer = 'char', ngram_range={4,6})),\n",
    "#     ('clf', RandomForestClassifier()),\n",
    "# ])\n",
    "\n",
    "\n",
    "clf = Pipeline([\n",
    "    ('vect', CountVectorizer()),\n",
    "    ('tfidf', TfidfTransformer()),\n",
    "    ('tm', TruncatedSVD()),\n",
    "    ('clf', RandomForestClassifier())\n",
    "])"
   ]
  }
 ],
 "metadata": {
  "colab": {
   "collapsed_sections": [],
   "name": "HW1_banki_TM-and-classification.ipynb",
   "provenance": []
  },
  "kernelspec": {
   "display_name": "Python 3 (ipykernel)",
   "language": "python",
   "name": "python3"
  },
  "language_info": {
   "codemirror_mode": {
    "name": "ipython",
    "version": 3
   },
   "file_extension": ".py",
   "mimetype": "text/x-python",
   "name": "python",
   "nbconvert_exporter": "python",
   "pygments_lexer": "ipython3",
   "version": "3.10.2"
  },
  "vscode": {
   "interpreter": {
    "hash": "3b86bb4a7c67948f28b40856a4a20f412ff81a4b6377c11c191c16516b072e2a"
   }
  }
 },
 "nbformat": 4,
 "nbformat_minor": 1
}
