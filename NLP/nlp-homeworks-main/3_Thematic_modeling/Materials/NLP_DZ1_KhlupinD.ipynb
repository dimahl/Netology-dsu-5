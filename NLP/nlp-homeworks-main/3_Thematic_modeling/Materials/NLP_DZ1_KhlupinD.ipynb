{
 "cells": [
  {
   "cell_type": "markdown",
   "metadata": {
    "pycharm": {
     "name": "#%% md\n"
    }
   },
   "source": [
    "### Классификация по тональности\n",
    "В этом домашнем задании вам предстоит классифицировать по тональности отзывы на банки с сайта banki.ru.\n",
    "\n",
    "Данные содержат непосредственно тексты отзывов, некоторую дополнительную информацию, а также оценку по шкале от 1 до 5.\n",
    "\n",
    "Тексты хранятся в json-ах в массиве responses.\n",
    "\n",
    "Посмотрим на примере отзыва: возьмите для удобства ноутбук, размещенный в папке репозитория.\n",
    "\n",
    "\n",
    "### Часть 1. Анализ текстов\n",
    "1. Посчитайте количество отзывов в разных городах и на разные банки\n",
    "2. Постройте гистограмы длин слов в символах и в словах\n",
    "3. Найдите 10 самых частых:\n",
    "- слов\n",
    "- слов без стоп-слов\n",
    "- лемм\n",
    "- существительных\n",
    "\n",
    "4. Постройте кривые Ципфа и Хипса\n",
    "5. Ответьте на следующие вопросы:\n",
    "- какое слово встречается чаще, \"сотрудник\" или \"клиент\"?\n",
    "- сколько раз встречается слова \"мошенничество\" и \"доверие\"?\n",
    "\n",
    "6. В поле \"rating_grade\" записана оценка отзыва по шкале от 1 до 5. Используйте меру $tf-idf$, для того, чтобы найти ключевые слова и биграмы для положительных отзывов (с оценкой 5) и отрицательных отзывов (с оценкой 1)\n",
    "\n",
    "### Часть 2. Тематическое моделирование\n",
    "1. Постройте несколько тематических моделей коллекции документов с разным числом тем. Приведите примеры понятных (интерпретируемых) тем.\n",
    "2. Найдите темы, в которых упомянуты конкретные банки (Сбербанк, ВТБ, другой банк). Можете ли вы их прокомментировать / объяснить?\n",
    "Эта часть задания может быть сделана с использованием gensim.\n",
    "\n",
    "### Часть 3. Классификация текстов\n",
    "Сформулируем для простоты задачу бинарной классификации: будем классифицировать на два класса, то есть, различать резко отрицательные отзывы (с оценкой 1) и положительные отзывы (с оценкой 5).\n",
    "\n",
    "1. Составьте обучающее и тестовое множество: выберите из всего набора данных N1 отзывов с оценкой 1 и N2 отзывов с оценкой 5 (значение N1 и N2 – на ваше усмотрение). Используйте sklearn.model_selection.train_test_split для разделения множества отобранных документов на обучающее и тестовое.\n",
    "2. Используйте любой известный вам алгоритм классификации текстов для решения задачи и получите baseline. Сравните разные варианты векторизации текста: использование только униграм, пар или троек слов или с использованием символьных $n$-грам.\n",
    "3. Сравните, как изменяется качество решения задачи при использовании скрытых тем в качестве признаков:\n",
    "- 1-ый вариант: $tf-idf$ преобразование (sklearn.feature_extraction.text.TfidfTransformer) и сингулярное разложение (оно же – латентый семантический анализ) (sklearn.decomposition.TruncatedSVD),\n",
    "- 2-ой вариант: тематические модели LDA (sklearn.decomposition.LatentDirichletAllocation).\n",
    "Используйте accuracy и F-measure для оценки качества классификации.\n",
    "\n",
    "В ноутбуке, размещенном в папке репозитория. написан примерный Pipeline для классификации текстов.\n",
    "\n",
    "Эта часть задания может быть сделана с использованием sklearn."
   ]
  },
  {
   "cell_type": "code",
   "execution_count": 1,
   "metadata": {
    "pycharm": {
     "name": "#%%\n"
    }
   },
   "outputs": [],
   "source": [
    "import json\n",
    "\n",
    "import bz2\n",
    "# import regex\n",
    "# from scipy import sparse\n",
    "from transliterate import translit"
   ]
  },
  {
   "cell_type": "code",
   "execution_count": 2,
   "metadata": {
    "id": "_ZsoxOinqauK",
    "outputId": "1b349b33-f266-404a-fa55-4088784d8897",
    "pycharm": {
     "name": "#%%\n"
    }
   },
   "outputs": [
    {
     "name": "stderr",
     "output_type": "stream",
     "text": [
      "c:\\Users\\Dmitriy\\AppData\\Local\\Programs\\Python\\Python310\\lib\\site-packages\\tqdm\\auto.py:22: TqdmWarning: IProgress not found. Please update jupyter and ipywidgets. See https://ipywidgets.readthedocs.io/en/stable/user_install.html\n",
      "  from .autonotebook import tqdm as notebook_tqdm\n"
     ]
    }
   ],
   "source": [
    "import pandas as pd\n",
    "import numpy as np\n",
    "import nltk\n",
    "import matplotlib.pyplot as plt\n",
    "import seaborn as sns\n",
    "\n",
    "from tqdm.auto import tqdm\n",
    "tqdm.pandas(desc=\"progress: \")"
   ]
  },
  {
   "cell_type": "code",
   "execution_count": 3,
   "metadata": {
    "id": "UNHVsbPnqauL",
    "outputId": "e8d7d7f4-576b-4846-b06a-f3b4a08adb95",
    "pycharm": {
     "name": "#%%\n"
    },
    "scrolled": true
   },
   "outputs": [
    {
     "name": "stderr",
     "output_type": "stream",
     "text": [
      "201030it [01:36, 2090.33it/s]\n"
     ]
    }
   ],
   "source": [
    "responses = []\n",
    "with bz2.BZ2File('banki_responses.json.bz2', 'r') as thefile:\n",
    "    for row in tqdm(thefile):\n",
    "        resp = json.loads(row)\n",
    "        # responses.append(resp)\n",
    "        if not resp['rating_not_checked'] and (len(resp['text'].split()) > 0):\n",
    "            responses.append(resp)\n",
    "df_responses_raw = pd.DataFrame(responses)\n",
    "# df_responses_raw = pd.read_json('banki_responses.json.bz2', compression='bz2', lines=True)"
   ]
  },
  {
   "cell_type": "code",
   "execution_count": 7,
   "metadata": {
    "pycharm": {
     "name": "#%%\n"
    }
   },
   "outputs": [
    {
     "data": {
      "text/html": [
       "<div>\n",
       "<style scoped>\n",
       "    .dataframe tbody tr th:only-of-type {\n",
       "        vertical-align: middle;\n",
       "    }\n",
       "\n",
       "    .dataframe tbody tr th {\n",
       "        vertical-align: top;\n",
       "    }\n",
       "\n",
       "    .dataframe thead th {\n",
       "        text-align: right;\n",
       "    }\n",
       "</style>\n",
       "<table border=\"1\" class=\"dataframe\">\n",
       "  <thead>\n",
       "    <tr style=\"text-align: right;\">\n",
       "      <th></th>\n",
       "      <th>city</th>\n",
       "      <th>rating_not_checked</th>\n",
       "      <th>title</th>\n",
       "      <th>num_comments</th>\n",
       "      <th>bank_license</th>\n",
       "      <th>author</th>\n",
       "      <th>bank_name</th>\n",
       "      <th>datetime</th>\n",
       "      <th>text</th>\n",
       "      <th>rating_grade</th>\n",
       "    </tr>\n",
       "  </thead>\n",
       "  <tbody>\n",
       "    <tr>\n",
       "      <th>60987</th>\n",
       "      <td>г. Санкт-Петербург</td>\n",
       "      <td>False</td>\n",
       "      <td>Не списывает деньги по кредиту вовремя, а пото...</td>\n",
       "      <td>2</td>\n",
       "      <td>лицензия № 1481</td>\n",
       "      <td>Anna111</td>\n",
       "      <td>Сбербанк России</td>\n",
       "      <td>2014-01-16 12:19:00</td>\n",
       "      <td>Я три года (в 2010 году) назад в сбербанке офо...</td>\n",
       "      <td>1.0</td>\n",
       "    </tr>\n",
       "  </tbody>\n",
       "</table>\n",
       "</div>"
      ],
      "text/plain": [
       "                     city  rating_not_checked  \\\n",
       "60987  г. Санкт-Петербург               False   \n",
       "\n",
       "                                                   title  num_comments  \\\n",
       "60987  Не списывает деньги по кредиту вовремя, а пото...             2   \n",
       "\n",
       "          bank_license   author        bank_name             datetime  \\\n",
       "60987  лицензия № 1481  Anna111  Сбербанк России  2014-01-16 12:19:00   \n",
       "\n",
       "                                                    text  rating_grade  \n",
       "60987  Я три года (в 2010 году) назад в сбербанке офо...           1.0  "
      ]
     },
     "execution_count": 7,
     "metadata": {},
     "output_type": "execute_result"
    }
   ],
   "source": [
    "df_responses_raw.sample()"
   ]
  },
  {
   "cell_type": "markdown",
   "metadata": {
    "pycharm": {
     "name": "#%% md\n"
    }
   },
   "source": [
    "# Часть 1\n",
    "## 1. Посчитайте количество отзывов в разных городах и на разные банки"
   ]
  },
  {
   "cell_type": "code",
   "execution_count": 8,
   "metadata": {
    "id": "Dd7m6GpMqauP",
    "outputId": "975085c3-9f8c-4a64-ac12-747ffab282ce",
    "pycharm": {
     "name": "#%%\n"
    }
   },
   "outputs": [
    {
     "data": {
      "text/plain": [
       "0                 Москва\n",
       "1            Новосибирск\n",
       "2             Ставрополь\n",
       "3              Челябинск\n",
       "4              Волгоград\n",
       "              ...       \n",
       "2972        Оренбур орск\n",
       "2973                Ектб\n",
       "2974    Владимирская обл\n",
       "2975              Вся рф\n",
       "2976     Москва-владимир\n",
       "Length: 2977, dtype: object"
      ]
     },
     "execution_count": 8,
     "metadata": {},
     "output_type": "execute_result"
    }
   ],
   "source": [
    "# Много различных преобразований и фильтров\n",
    "df_responses = df_responses_raw.copy()\n",
    "df_responses.dropna(subset=['city'], inplace=True)\n",
    "df_responses['city'] = df_responses['city'].str.lower()\n",
    "# df_responses['city'] = df_responses['city'].str.replace('[\\W]+', ' ', regex=True)\n",
    "df_responses['city'] = df_responses['city'].str.replace(\n",
    "    '[.,\\(\\)\\|\\?]+', ' ', regex=True)\n",
    "# df_responses['city'] = df_responses['city'].str.replace([!#$%( ) * + , \\ -. / : ; < = > ? @ [ ] ^ _ ` { | }]+', ' ', regex=True)\n",
    "\n",
    "df_responses['city'] = df_responses['city'].str.strip()\n",
    "\n",
    "# df_responses['len_city] = df_responses[~(df_responses['city'].str.len() > 20)]\n",
    "df_responses['city'] = df_responses['city'].str.replace(\n",
    "    '(г )', '', regex=True)\n",
    "df_responses = df_responses[~(df_responses['city'].str.len() > 20)]\n",
    "df_responses = df_responses[~(df_responses['city'].str.len() < 3)]\n",
    "df_responses = df_responses[~(\n",
    "    df_responses['city'].str.isdigit().fillna(False))]\n",
    "df_responses = df_responses[~(\n",
    "    df_responses['city'].str.contains('[\\d]{7,}', na=False))]\n",
    "\n",
    "df_responses['city'] = df_responses['city'].str.replace(\n",
    "    '(хх)', 'х', regex=True)\n",
    "df_responses['city'] = df_responses['city'].str.replace(\n",
    "    '(кх)', 'х', regex=True)\n",
    "\n",
    "df_responses['city'] = df_responses['city'].str.replace(\n",
    "    '[\\s]+', ' ', regex=True)\n",
    "\n",
    "df_responses['city'] = df_responses['city'].apply(\n",
    "    lambda row: translit(row, 'ru'))\n",
    "\n",
    "df_responses['city'] = df_responses['city'].str.strip()\n",
    "df_responses['city'] = df_responses['city'].str.capitalize()\n",
    "\n",
    "list_city = pd.Series(df_responses['city'].unique())  # .sort_values()\n",
    "list_city"
   ]
  },
  {
   "cell_type": "markdown",
   "metadata": {
    "pycharm": {
     "name": "#%% md\n"
    }
   },
   "source": [
    "### Импортирую спец библиотеки и пишу обертку"
   ]
  },
  {
   "cell_type": "code",
   "execution_count": 9,
   "metadata": {
    "pycharm": {
     "name": "#%%\n"
    }
   },
   "outputs": [],
   "source": [
    "from pullenti_wrapper.referent import Referent\n",
    "from pullenti_wrapper.processor import Processor, GEO, ADDRESS\n",
    "from pullenti_wrapper.langs import set_langs, RU\n",
    "from natasha import AddrExtractor, MorphVocab, Doc, Segmenter\n",
    "segmenter = Segmenter()\n",
    "morph_vocab = MorphVocab()\n",
    "addr_extractor = AddrExtractor(morph_vocab)\n",
    "\n",
    "# pip install pullenti-wrapper\n",
    "set_langs([RU])\n",
    "processor = Processor([GEO, ADDRESS])\n",
    "\n",
    "\n",
    "def extract_city_name(text, method='pullenti'):\n",
    "    if method == 'pullenti':\n",
    "        result = processor(text).matches\n",
    "        if result:\n",
    "            try:\n",
    "                # Создаю список городОв первое совпадение по типу город 'Москва Рязань' -> 'москва'\n",
    "                name = [\n",
    "                    i.referent.name for i in result if i.referent.type == 'город']\n",
    "                if name:\n",
    "                    # Достаю первое совпадение по типу город 'Москва Рязань' -> 'москва'\n",
    "                    return name[0].lower()\n",
    "            except AttributeError:\n",
    "                print(text)\n",
    "                return '?'\n",
    "\n",
    "    if method == 'natasha':\n",
    "        name = [i.fact for i in addr_extractor(text) if i.fact.type == None]\n",
    "        if name:\n",
    "            return name[0].value.lower()\n",
    "\n",
    "    return '?'\n",
    "# extract_city_name(text)"
   ]
  },
  {
   "cell_type": "code",
   "execution_count": 10,
   "metadata": {
    "pycharm": {
     "name": "#%%\n"
    }
   },
   "outputs": [
    {
     "name": "stdout",
     "output_type": "stream",
     "text": [
      "2022-11-12 08:33:21.888447\n"
     ]
    },
    {
     "name": "stderr",
     "output_type": "stream",
     "text": [
      "progress:  78%|███████▊  | 105588/135426 [02:48<00:47, 631.63it/s]"
     ]
    },
    {
     "name": "stdout",
     "output_type": "stream",
     "text": [
      "Мо городок 17\n"
     ]
    },
    {
     "name": "stderr",
     "output_type": "stream",
     "text": [
      "progress:  97%|█████████▋| 131602/135426 [03:28<00:05, 649.76it/s]"
     ]
    },
    {
     "name": "stdout",
     "output_type": "stream",
     "text": [
      "Зеленоград корп1824\n"
     ]
    },
    {
     "name": "stderr",
     "output_type": "stream",
     "text": [
      "progress: 100%|██████████| 135426/135426 [03:34<00:00, 630.54it/s]\n",
      "progress: 100%|██████████| 16397/16397 [01:10<00:00, 232.49it/s]"
     ]
    },
    {
     "name": "stdout",
     "output_type": "stream",
     "text": [
      "2022-11-12 08:38:07.241180\n"
     ]
    },
    {
     "name": "stderr",
     "output_type": "stream",
     "text": [
      "\n"
     ]
    }
   ],
   "source": [
    "print(pd.Timestamp.now())\n",
    "# функцию вызываю раздельно в два этапа, т.к. скорость выполнения различных методов разная, и остаток уже выполняю на более медленной\n",
    "df_responses['city_name'] = df_responses['city'].progress_apply(\n",
    "    extract_city_name, args=('pullenti',))\n",
    "df_responses.loc[df_responses['city_name'] == '?', 'city_name'] = df_responses.loc[df_responses['city_name']\n",
    "                                                                                   == '?', 'city'].progress_apply(extract_city_name, args=('natasha',))\n",
    "print(pd.Timestamp.now())"
   ]
  },
  {
   "cell_type": "code",
   "execution_count": 3,
   "metadata": {},
   "outputs": [
    {
     "data": {
      "text/html": [
       "<div>\n",
       "<style scoped>\n",
       "    .dataframe tbody tr th:only-of-type {\n",
       "        vertical-align: middle;\n",
       "    }\n",
       "\n",
       "    .dataframe tbody tr th {\n",
       "        vertical-align: top;\n",
       "    }\n",
       "\n",
       "    .dataframe thead th {\n",
       "        text-align: right;\n",
       "    }\n",
       "</style>\n",
       "<table border=\"1\" class=\"dataframe\">\n",
       "  <thead>\n",
       "    <tr style=\"text-align: right;\">\n",
       "      <th></th>\n",
       "      <th>city</th>\n",
       "      <th>rating_not_checked</th>\n",
       "      <th>title</th>\n",
       "      <th>num_comments</th>\n",
       "      <th>bank_license</th>\n",
       "      <th>author</th>\n",
       "      <th>bank_name</th>\n",
       "      <th>datetime</th>\n",
       "      <th>text</th>\n",
       "      <th>rating_grade</th>\n",
       "      <th>city_name</th>\n",
       "    </tr>\n",
       "  </thead>\n",
       "  <tbody>\n",
       "    <tr>\n",
       "      <th>54177</th>\n",
       "      <td>Москва</td>\n",
       "      <td>False</td>\n",
       "      <td>Отказали в выплате по АСВ</td>\n",
       "      <td>0</td>\n",
       "      <td>лицензия № 1481</td>\n",
       "      <td>tanial</td>\n",
       "      <td>Сбербанк России</td>\n",
       "      <td>2014-03-04 22:09:00</td>\n",
       "      <td>Добрый день! 1.03.2014 обратилась в московское...</td>\n",
       "      <td>2.0</td>\n",
       "      <td>москва</td>\n",
       "    </tr>\n",
       "    <tr>\n",
       "      <th>10251</th>\n",
       "      <td>Москва</td>\n",
       "      <td>False</td>\n",
       "      <td>Изменение тарифов: конвертация по картам</td>\n",
       "      <td>2</td>\n",
       "      <td>лицензия № 1971</td>\n",
       "      <td>itaka</td>\n",
       "      <td>Ханты-Мансийский банк Открытие</td>\n",
       "      <td>2015-03-05 17:21:00</td>\n",
       "      <td>Добрый день! 19.01.2015 мною было совершено бр...</td>\n",
       "      <td>NaN</td>\n",
       "      <td>москва</td>\n",
       "    </tr>\n",
       "    <tr>\n",
       "      <th>76278</th>\n",
       "      <td>Москва</td>\n",
       "      <td>False</td>\n",
       "      <td>Изменение условий пополнения черных карт</td>\n",
       "      <td>34</td>\n",
       "      <td>лицензия № 2673</td>\n",
       "      <td>cucadmuh</td>\n",
       "      <td>Тинькофф Банк</td>\n",
       "      <td>2013-07-26 18:49:00</td>\n",
       "      <td>Сегодня получил смс от банка, в которой говори...</td>\n",
       "      <td>NaN</td>\n",
       "      <td>москва</td>\n",
       "    </tr>\n",
       "  </tbody>\n",
       "</table>\n",
       "</div>"
      ],
      "text/plain": [
       "         city  rating_not_checked                                     title  \\\n",
       "54177  Москва               False                 Отказали в выплате по АСВ   \n",
       "10251  Москва               False  Изменение тарифов: конвертация по картам   \n",
       "76278  Москва               False  Изменение условий пополнения черных карт   \n",
       "\n",
       "       num_comments     bank_license    author  \\\n",
       "54177             0  лицензия № 1481    tanial   \n",
       "10251             2  лицензия № 1971     itaka   \n",
       "76278            34  лицензия № 2673  cucadmuh   \n",
       "\n",
       "                            bank_name             datetime  \\\n",
       "54177                 Сбербанк России  2014-03-04 22:09:00   \n",
       "10251  Ханты-Мансийский банк Открытие  2015-03-05 17:21:00   \n",
       "76278                   Тинькофф Банк  2013-07-26 18:49:00   \n",
       "\n",
       "                                                    text  rating_grade  \\\n",
       "54177  Добрый день! 1.03.2014 обратилась в московское...           2.0   \n",
       "10251  Добрый день! 19.01.2015 мною было совершено бр...           NaN   \n",
       "76278  Сегодня получил смс от банка, в которой говори...           NaN   \n",
       "\n",
       "      city_name  \n",
       "54177    москва  \n",
       "10251    москва  \n",
       "76278    москва  "
      ]
     },
     "execution_count": 3,
     "metadata": {},
     "output_type": "execute_result"
    }
   ],
   "source": [
    "df_responses = pd.read_csv('df_responses.zip')\n",
    "df_responses.sample(3)"
   ]
  },
  {
   "cell_type": "code",
   "execution_count": 4,
   "metadata": {
    "pycharm": {
     "name": "#%%\n"
    }
   },
   "outputs": [
    {
     "name": "stdout",
     "output_type": "stream",
     "text": [
      "Необработано строк:  6537\n",
      "Необработанный \"города\":\n"
     ]
    },
    {
     "data": {
      "text/html": [
       "<div>\n",
       "<style scoped>\n",
       "    .dataframe tbody tr th:only-of-type {\n",
       "        vertical-align: middle;\n",
       "    }\n",
       "\n",
       "    .dataframe tbody tr th {\n",
       "        vertical-align: top;\n",
       "    }\n",
       "\n",
       "    .dataframe thead th {\n",
       "        text-align: right;\n",
       "    }\n",
       "</style>\n",
       "<table border=\"1\" class=\"dataframe\">\n",
       "  <thead>\n",
       "    <tr style=\"text-align: right;\">\n",
       "      <th></th>\n",
       "      <th>city_other</th>\n",
       "      <th>city</th>\n",
       "    </tr>\n",
       "  </thead>\n",
       "  <tbody>\n",
       "    <tr>\n",
       "      <th>0</th>\n",
       "      <td>Россия</td>\n",
       "      <td>206</td>\n",
       "    </tr>\n",
       "    <tr>\n",
       "      <th>1</th>\n",
       "      <td>Щелково</td>\n",
       "      <td>192</td>\n",
       "    </tr>\n",
       "    <tr>\n",
       "      <th>2</th>\n",
       "      <td>Железнодорожный</td>\n",
       "      <td>186</td>\n",
       "    </tr>\n",
       "    <tr>\n",
       "      <th>3</th>\n",
       "      <td>Ивантеевка</td>\n",
       "      <td>87</td>\n",
       "    </tr>\n",
       "    <tr>\n",
       "      <th>4</th>\n",
       "      <td>Дмитров</td>\n",
       "      <td>81</td>\n",
       "    </tr>\n",
       "    <tr>\n",
       "      <th>...</th>\n",
       "      <td>...</td>\n",
       "      <td>...</td>\n",
       "    </tr>\n",
       "    <tr>\n",
       "      <th>1778</th>\n",
       "      <td>Рязантдк</td>\n",
       "      <td>1</td>\n",
       "    </tr>\n",
       "    <tr>\n",
       "      <th>1779</th>\n",
       "      <td>Лазаревское</td>\n",
       "      <td>1</td>\n",
       "    </tr>\n",
       "    <tr>\n",
       "      <th>1780</th>\n",
       "      <td>Нюрнберг</td>\n",
       "      <td>1</td>\n",
       "    </tr>\n",
       "    <tr>\n",
       "      <th>1781</th>\n",
       "      <td>Миск</td>\n",
       "      <td>1</td>\n",
       "    </tr>\n",
       "    <tr>\n",
       "      <th>1782</th>\n",
       "      <td>Вся рф</td>\n",
       "      <td>1</td>\n",
       "    </tr>\n",
       "  </tbody>\n",
       "</table>\n",
       "<p>1783 rows × 2 columns</p>\n",
       "</div>"
      ],
      "text/plain": [
       "           city_other  city\n",
       "0              Россия   206\n",
       "1             Щелково   192\n",
       "2     Железнодорожный   186\n",
       "3          Ивантеевка    87\n",
       "4             Дмитров    81\n",
       "...               ...   ...\n",
       "1778         Рязантдк     1\n",
       "1779      Лазаревское     1\n",
       "1780         Нюрнберг     1\n",
       "1781             Миск     1\n",
       "1782           Вся рф     1\n",
       "\n",
       "[1783 rows x 2 columns]"
      ]
     },
     "execution_count": 4,
     "metadata": {},
     "output_type": "execute_result"
    }
   ],
   "source": [
    "# dict_replace = {\"Питер\":'санкт-петербург', 'Мосцоw':'москва', 'Санк-петербург':'санкт-петербург', 'С петербург':'санкт-петербург'}\n",
    "# df_responses['city'].replace(dict_replace, inplace=True)\n",
    "# df_responses.loc[df_responses['city_name'] == '?', 'city_name'] = df_responses.loc[df_responses['city_name'] == '?', 'city'].progress_apply(extract_city_name, args=('pullenti',))\n",
    "# v.loc[df_responses['city_name'] == '?', 'city_name'] = df_responses.loc[df_responses['city_name'] == '?', 'city'].progress_apply(extract_city_name, args=('natasha',))\n",
    "print('Необработано строк: ',\n",
    "      df_responses.loc[df_responses['city_name'] == '?'].shape[0])\n",
    "print('Необработанный \"города\":')\n",
    "other_name = df_responses.loc[df_responses['city_name'] ==\n",
    "                              '?', 'city'].value_counts(ascending=False, dropna=False)\n",
    "other_name.rename_axis('city_other', inplace=True)\n",
    "\n",
    "other_name = other_name.reset_index()\n",
    "other_name"
   ]
  },
  {
   "cell_type": "code",
   "execution_count": 5,
   "metadata": {
    "pycharm": {
     "name": "#%%\n"
    }
   },
   "outputs": [
    {
     "name": "stdout",
     "output_type": "stream",
     "text": [
      "Количество отзывов по городам:\n"
     ]
    },
    {
     "data": {
      "text/plain": [
       "москва             57164\n",
       "санкт-петербург    15639\n",
       "?                   6537\n",
       "новосибирск         2388\n",
       "екатеринбург        2380\n",
       "                   ...  \n",
       "нгевинномысск          1\n",
       "соновоборск            1\n",
       "великй новгород        1\n",
       "волоград               1\n",
       "свияжск                1\n",
       "Name: city_name, Length: 537, dtype: int64"
      ]
     },
     "execution_count": 5,
     "metadata": {},
     "output_type": "execute_result"
    }
   ],
   "source": [
    "print(\"Количество отзывов по городам:\")\n",
    "df_responses['city_name'].value_counts()"
   ]
  },
  {
   "cell_type": "code",
   "execution_count": 6,
   "metadata": {
    "pycharm": {
     "name": "#%%\n"
    }
   },
   "outputs": [
    {
     "data": {
      "text/plain": [
       "329          2Т Банк\n",
       "541        АБ Финанс\n",
       "327              АББ\n",
       "508         АМБ Банк\n",
       "542         АМТ Банк\n",
       "           ...      \n",
       "372       Юникорбанк\n",
       "219         Юнистрим\n",
       "191          ЯР-Банк\n",
       "59     Яндекс.Деньги\n",
       "196        Ярославич\n",
       "Length: 591, dtype: object"
      ]
     },
     "execution_count": 6,
     "metadata": {},
     "output_type": "execute_result"
    }
   ],
   "source": [
    "# Анализ уникальных значений, показывает, что названия банков - нормальные\n",
    "pd.Series(df_responses['bank_name'].unique()).sort_values()"
   ]
  },
  {
   "cell_type": "code",
   "execution_count": 7,
   "metadata": {
    "pycharm": {
     "name": "#%%\n"
    }
   },
   "outputs": [
    {
     "name": "stdout",
     "output_type": "stream",
     "text": [
      "Количество отзывов по банкам:\n"
     ]
    },
    {
     "data": {
      "text/plain": [
       "Сбербанк России                     24580\n",
       "Альфа-Банк                           8955\n",
       "ВТБ 24                               7165\n",
       "Хоум Кредит Банк                     7152\n",
       "Русский Стандарт                     7100\n",
       "                                    ...  \n",
       "Кузнецкий                               1\n",
       "Развитие                                1\n",
       "Новый Символ                            1\n",
       "Новокузнецкий Муниципальный Банк        1\n",
       "Нижегородпромстройбанк                  1\n",
       "Name: bank_name, Length: 591, dtype: int64"
      ]
     },
     "execution_count": 7,
     "metadata": {},
     "output_type": "execute_result"
    }
   ],
   "source": [
    "print(\"Количество отзывов по банкам:\")\n",
    "df_responses['bank_name'].value_counts()"
   ]
  },
  {
   "cell_type": "markdown",
   "metadata": {
    "pycharm": {
     "name": "#%% md\n"
    }
   },
   "source": [
    "### 2. Постройте гистограмы длин слов в символах и в словах\n",
    "##### Не очень я понял вторую часть \"построить гистограмму длин слов в словах\" ????\n",
    "##### Как я понимаю нужно построить нормальное распределение длин слов"
   ]
  },
  {
   "cell_type": "code",
   "execution_count": 8,
   "metadata": {
    "pycharm": {
     "name": "#%%\n"
    }
   },
   "outputs": [],
   "source": [
    "from string import punctuation\n",
    "from nltk.tokenize import word_tokenize\n",
    "from collections import Counter\n",
    "import seaborn as sns\n",
    "from nltk.corpus import stopwords as SW\n",
    "from nltk.stem.wordnet import WordNetLemmatizer\n",
    "\n",
    "\n",
    "\n",
    "punctuation = punctuation + '``' + \"''\" + '...'"
   ]
  },
  {
   "cell_type": "code",
   "execution_count": 9,
   "metadata": {
    "pycharm": {
     "name": "#%%\n"
    }
   },
   "outputs": [
    {
     "name": "stdout",
     "output_type": "stream",
     "text": [
      "2022-12-10 16:00:15.711839\n",
      "2022-12-10 16:04:07.227822\n"
     ]
    }
   ],
   "source": [
    "print(pd.Timestamp.now())\n",
    "corpus = [token.lower() for msg in df_responses['text'] for token in word_tokenize(msg, language=\"russian\") if token not in punctuation]\n",
    "freq_dict = Counter(corpus)\n",
    "print(pd.Timestamp.now())"
   ]
  },
  {
   "cell_type": "code",
   "execution_count": 10,
   "metadata": {
    "pycharm": {
     "name": "#%%\n"
    }
   },
   "outputs": [
    {
     "data": {
      "text/plain": [
       "<AxesSubplot: xlabel='len'>"
      ]
     },
     "execution_count": 10,
     "metadata": {},
     "output_type": "execute_result"
    },
    {
     "data": {
      "image/png": "[encoded data removed]",
      "text/plain": [
       "<Figure size 1800x576 with 1 Axes>"
      ]
     },
     "metadata": {
      "needs_background": "light"
     },
     "output_type": "display_data"
    }
   ],
   "source": [
    "df_word_len = pd.Series(freq_dict).to_frame().reset_index().rename(columns={'index':'word', 0:'count'})\n",
    "df_word_len['len'] = df_word_len['word'].str.len()\n",
    "df_word_len = df_word_len[~df_word_len['word'].str.isdecimal()]\n",
    "df_hist = df_word_len.groupby('len')['count'].sum()\n",
    "df_hist.plot(kind = 'bar', figsize=(25,8), logy=True)"
   ]
  },
  {
   "cell_type": "markdown",
   "metadata": {},
   "source": [
    "#### Выше построил гистограмму длин слов в символах, для этого вручную общитал частотный словарь и подготовил готовые данные для столбачтой диаграммы, чтобы получить гистограмму, а делал это т.к. напрямую передать сырые данные .plot(kind='hist') оч долго думало и безрезультативно. Не построил гистограмму длин слов в словах, не оч понимаю, это что на оси Х должны быть все(400к) уникальные слова??"
   ]
  },
  {
   "cell_type": "markdown",
   "metadata": {},
   "source": [
    "3. Найдите 10 самых частых:\n",
    "- слов\n",
    "- слов без стоп-слов\n",
    "- лемм\n",
    "- существительных"
   ]
  },
  {
   "cell_type": "code",
   "execution_count": 11,
   "metadata": {},
   "outputs": [
    {
     "data": {
      "text/plain": [
       "[('в', 1177773),\n",
       " ('и', 937682),\n",
       " ('не', 760761),\n",
       " ('на', 627982),\n",
       " ('что', 555479),\n",
       " ('я', 514090),\n",
       " ('с', 406585),\n",
       " ('по', 328917),\n",
       " ('мне', 288373),\n",
       " ('банка', 239613)]"
      ]
     },
     "execution_count": 11,
     "metadata": {},
     "output_type": "execute_result"
    }
   ],
   "source": [
    "# 10 самых частых слов\n",
    "freq_dict.most_common(10)"
   ]
  },
  {
   "cell_type": "code",
   "execution_count": 12,
   "metadata": {},
   "outputs": [],
   "source": [
    "stopwords = SW.words(\"russian\")\n",
    "\n",
    "tokens_wo_se = [tok for tok in corpus if tok not in stopwords and len(tok) > 2]"
   ]
  },
  {
   "cell_type": "code",
   "execution_count": 13,
   "metadata": {},
   "outputs": [
    {
     "data": {
      "text/plain": [
       "[('банка', 239613),\n",
       " ('банк', 176835),\n",
       " ('это', 161613),\n",
       " ('деньги', 116237),\n",
       " ('карту', 95045),\n",
       " ('карты', 92537),\n",
       " ('кредит', 70331),\n",
       " ('день', 68399),\n",
       " ('заявление', 63626),\n",
       " ('отделение', 59338)]"
      ]
     },
     "execution_count": 13,
     "metadata": {},
     "output_type": "execute_result"
    }
   ],
   "source": [
    "# 10 самых частых слов без стоп слов\n",
    "freq_dict_wo_sw = Counter(tokens_wo_se)\n",
    "freq_dict_wo_sw.most_common(10)\n"
   ]
  },
  {
   "cell_type": "code",
   "execution_count": 14,
   "metadata": {},
   "outputs": [],
   "source": [
    "is_noun = lambda pos: pos[:2] == 'NN'\n",
    "tokens_nouns = [word for (word, pos) in nltk.pos_tag(tokens_wo_se) if is_noun(pos)] "
   ]
  },
  {
   "cell_type": "code",
   "execution_count": 15,
   "metadata": {},
   "outputs": [
    {
     "data": {
      "text/plain": [
       "[('банка', 236706),\n",
       " ('банк', 174951),\n",
       " ('это', 160182),\n",
       " ('деньги', 115159),\n",
       " ('карту', 93554),\n",
       " ('карты', 90721),\n",
       " ('кредит', 68094),\n",
       " ('день', 65621),\n",
       " ('заявление', 62866),\n",
       " ('отделение', 57957)]"
      ]
     },
     "execution_count": 15,
     "metadata": {},
     "output_type": "execute_result"
    }
   ],
   "source": [
    "# 10 самых частых существительных\n",
    "freq_dict_nouns = Counter(tokens_nouns)\n",
    "freq_dict_nouns.most_common(10)"
   ]
  },
  {
   "cell_type": "markdown",
   "metadata": {},
   "source": [
    "nltk не очень хорошо определяет имена существительные, возможно другие методы или комбинация методов, будет лучше, но сейчас я его не буду реализовывать"
   ]
  },
  {
   "cell_type": "code",
   "execution_count": 16,
   "metadata": {},
   "outputs": [],
   "source": [
    "lemmatizer = WordNetLemmatizer()\n",
    "corpus_lemm = [lemmatizer.lemmatize(token) for token in corpus]"
   ]
  },
  {
   "cell_type": "code",
   "execution_count": 67,
   "metadata": {},
   "outputs": [
    {
     "data": {
      "text/plain": [
       "[('в', 1177773),\n",
       " ('и', 937682),\n",
       " ('не', 760761),\n",
       " ('на', 627982),\n",
       " ('что', 555479),\n",
       " ('я', 514090),\n",
       " ('с', 406585),\n",
       " ('по', 328917),\n",
       " ('мне', 288373),\n",
       " ('банка', 239613)]"
      ]
     },
     "execution_count": 67,
     "metadata": {},
     "output_type": "execute_result"
    }
   ],
   "source": [
    "# 10 самых частых лемм\n",
    "freq_dict_lemm = Counter(corpus_lemm)\n",
    "freq_dict_lemm.most_common(10)"
   ]
  },
  {
   "cell_type": "markdown",
   "metadata": {},
   "source": [
    "4. Закон Ципфа и Хикса"
   ]
  },
  {
   "cell_type": "code",
   "execution_count": 17,
   "metadata": {},
   "outputs": [
    {
     "data": {
      "text/plain": [
       "<AxesSubplot: >"
      ]
     },
     "execution_count": 17,
     "metadata": {},
     "output_type": "execute_result"
    },
    {
     "data": {
      "image/png": "[encoded data removed]",
      "text/plain": [
       "<Figure size 1440x576 with 1 Axes>"
      ]
     },
     "metadata": {
      "needs_background": "light"
     },
     "output_type": "display_data"
    }
   ],
   "source": [
    "freqs = list(freq_dict.values())\n",
    "freqs = sorted(freqs, reverse = True)\n",
    "\n",
    "plt.figure(figsize=(20,8))\n",
    "sns.lineplot(data=freqs[:300], )"
   ]
  },
  {
   "cell_type": "code",
   "execution_count": 18,
   "metadata": {},
   "outputs": [
    {
     "name": "stdout",
     "output_type": "stream",
     "text": [
      "2022-12-10 16:50:24.693535\n"
     ]
    },
    {
     "name": "stderr",
     "output_type": "stream",
     "text": [
      "100%|██████████| 135426/135426 [10:35<00:00, 212.96it/s]\n"
     ]
    },
    {
     "data": {
      "text/plain": [
       "<AxesSubplot: >"
      ]
     },
     "execution_count": 18,
     "metadata": {},
     "output_type": "execute_result"
    },
    {
     "data": {
      "image/png": "[encoded data removed]",
      "text/plain": [
       "<Figure size 1080x504 with 1 Axes>"
      ]
     },
     "metadata": {
      "needs_background": "light"
     },
     "output_type": "display_data"
    }
   ],
   "source": [
    "print(pd.Timestamp.now())\n",
    "\n",
    "cnt = Counter()\n",
    "n_words, n_tokens, tokens = [], [], []\n",
    "\n",
    "\n",
    "for text in tqdm(df_responses['text']):\n",
    "    tokens = word_tokenize(text, language=\"russian\")\n",
    "    cnt.update([token for token in tokens if token not in punctuation])\n",
    "    n_words.append(len(cnt))\n",
    "    n_tokens.append(sum(cnt.values()))\n",
    "    \n",
    "plt.figure(figsize=(15,7))\n",
    "sns.lineplot(x=n_tokens, y=n_words)"
   ]
  },
  {
   "cell_type": "markdown",
   "metadata": {},
   "source": [
    "5. Ответьте на следующие вопросы:\n",
    "- какое слово встречается чаще, \"сотрудник\" или \"клиент\"?\n",
    "- сколько раз встречается слова \"мошенничество\" и \"доверие\"?"
   ]
  },
  {
   "cell_type": "code",
   "execution_count": 19,
   "metadata": {},
   "outputs": [
    {
     "name": "stdout",
     "output_type": "stream",
     "text": [
      "сотрудник: 28782, клиент: 15814\n",
      "мошенничество: 1034, доверие: 1029\n"
     ]
    }
   ],
   "source": [
    "print(f\"сотрудник: {freq_dict['сотрудник']}, клиент: {freq_dict['клиент']}\")\n",
    "print(f\"мошенничество: {freq_dict['мошенничество']}, доверие: {freq_dict['доверие']}\")"
   ]
  },
  {
   "cell_type": "markdown",
   "metadata": {},
   "source": [
    "6. В поле \"rating_grade\" записана оценка отзыва по шкале от 1 до 5. Используйте меру $tf-idf$, для того, чтобы найти ключевые слова и биграмы для положительных отзывов (с оценкой 5) и отрицательных отзывов (с оценкой 1)"
   ]
  },
  {
   "cell_type": "code",
   "execution_count": 39,
   "metadata": {},
   "outputs": [
    {
     "data": {
      "text/plain": [
       "['счёт',\n",
       " 'страховки',\n",
       " 'взносы',\n",
       " 'найден',\n",
       " 'квитанции',\n",
       " 'бки',\n",
       " 'пара',\n",
       " 'клерки',\n",
       " 'оправдывается',\n",
       " 'сообщите']"
      ]
     },
     "execution_count": 39,
     "metadata": {},
     "output_type": "execute_result"
    }
   ],
   "source": [
    "# Метод без фильтровки\n",
    "bad_responses = df_responses.loc[df_responses['rating_grade'] == 1, 'text']\n",
    "\n",
    "    # tokens = word_tokenize(text, language=\"russian\")\n",
    "    # cnt.update([token for token in tokens if token not in punctuation])\n",
    "\n",
    "stopwords_rus = SW.words(\"russian\")\n",
    "\n",
    "vec = TfidfVectorizer(stop_words=stopwords_rus, ngram_range=(1, 1), min_df=8)\n",
    "bow = vec.fit_transform(bad_responses)\n",
    "\n",
    "vocab_lookup = {v:k for k,v in vec.vocabulary_.items()}\n",
    "impotant_word = [vocab_lookup[np.argmax(v)] for v in bow]\n",
    "impotant_word[:10]\n",
    "\n"
   ]
  },
  {
   "cell_type": "code",
   "execution_count": 40,
   "metadata": {},
   "outputs": [
    {
     "name": "stderr",
     "output_type": "stream",
     "text": [
      "progress: 100%|██████████| 38990/38990 [01:53<00:00, 344.24it/s]\n"
     ]
    },
    {
     "data": {
      "text/html": [
       "<div>\n",
       "<style scoped>\n",
       "    .dataframe tbody tr th:only-of-type {\n",
       "        vertical-align: middle;\n",
       "    }\n",
       "\n",
       "    .dataframe tbody tr th {\n",
       "        vertical-align: top;\n",
       "    }\n",
       "\n",
       "    .dataframe thead th {\n",
       "        text-align: right;\n",
       "    }\n",
       "</style>\n",
       "<table border=\"1\" class=\"dataframe\">\n",
       "  <thead>\n",
       "    <tr style=\"text-align: right;\">\n",
       "      <th></th>\n",
       "      <th>text</th>\n",
       "      <th>rating_grade</th>\n",
       "      <th>corpus</th>\n",
       "    </tr>\n",
       "  </thead>\n",
       "  <tbody>\n",
       "    <tr>\n",
       "      <th>11753</th>\n",
       "      <td>Начну с того, что было два депозита в Альфе -\"...</td>\n",
       "      <td>1.0</td>\n",
       "      <td>начну депозита альфе победа годовых были курсе...</td>\n",
       "    </tr>\n",
       "    <tr>\n",
       "      <th>90767</th>\n",
       "      <td>Добрый день! У нас такая ситуация. Пишу от лиц...</td>\n",
       "      <td>1.0</td>\n",
       "      <td>добрый день такая ситуация пишу лица своей мам...</td>\n",
       "    </tr>\n",
       "    <tr>\n",
       "      <th>57201</th>\n",
       "      <td>В один прекрасный день мне позвонили сотрудник...</td>\n",
       "      <td>1.0</td>\n",
       "      <td>прекрасный день позвонили сотрудники хкфб вопр...</td>\n",
       "    </tr>\n",
       "  </tbody>\n",
       "</table>\n",
       "</div>"
      ],
      "text/plain": [
       "                                                    text  rating_grade  \\\n",
       "11753  Начну с того, что было два депозита в Альфе -\"...           1.0   \n",
       "90767  Добрый день! У нас такая ситуация. Пишу от лиц...           1.0   \n",
       "57201  В один прекрасный день мне позвонили сотрудник...           1.0   \n",
       "\n",
       "                                                  corpus  \n",
       "11753  начну депозита альфе победа годовых были курсе...  \n",
       "90767  добрый день такая ситуация пишу лица своей мам...  \n",
       "57201  прекрасный день позвонили сотрудники хкфб вопр...  "
      ]
     },
     "execution_count": 40,
     "metadata": {},
     "output_type": "execute_result"
    }
   ],
   "source": [
    "# метод с фильтровкой корпуса, результат тот же\n",
    "lemmatizer = WordNetLemmatizer()\n",
    "custom_filter = lambda word: word not in punctuation and word not in stopwords_rus and word.isalpha() and len(word) > 2\n",
    "\n",
    "def my_tokenize(respons):\n",
    "    clean = [lemmatizer.lemmatize(token.lower()) for token in word_tokenize(respons, language=\"russian\") if custom_filter(token)]\n",
    "    return ' '.join(clean)\n",
    "\n",
    "\n",
    "bad_responses1 = df_responses.loc[df_responses['rating_grade'] == 1, ['text', 'rating_grade']]\n",
    "bad_responses1['corpus'] = bad_responses1['text'].progress_apply(my_tokenize)\n",
    "bad_responses1.sample(3)"
   ]
  },
  {
   "cell_type": "code",
   "execution_count": 41,
   "metadata": {},
   "outputs": [
    {
     "name": "stdout",
     "output_type": "stream",
     "text": [
      "Топ 10 важных слов в негативных отзывах\n"
     ]
    },
    {
     "data": {
      "text/plain": [
       "['счёт',\n",
       " 'страховки',\n",
       " 'взносы',\n",
       " 'найден',\n",
       " 'квитанции',\n",
       " 'бки',\n",
       " 'пара',\n",
       " 'клерки',\n",
       " 'оправдывается',\n",
       " 'сообщите']"
      ]
     },
     "execution_count": 41,
     "metadata": {},
     "output_type": "execute_result"
    }
   ],
   "source": [
    "vec = TfidfVectorizer(ngram_range=(1, 1), min_df=8)\n",
    "bow = vec.fit_transform(bad_responses1['corpus'])\n",
    "\n",
    "vocab_lookup = {v:k for k,v in vec.vocabulary_.items()}\n",
    "impotant_word = [vocab_lookup[np.argmax(v)] for v in bow]\n",
    "print('Топ 10 важных слов в негативных отзывах')\n",
    "impotant_word[:10]\n",
    "\n"
   ]
  },
  {
   "cell_type": "code",
   "execution_count": 43,
   "metadata": {},
   "outputs": [
    {
     "name": "stdout",
     "output_type": "stream",
     "text": [
      "Топ 10 важных биграмм в негативных отхывах\n"
     ]
    },
    {
     "data": {
      "text/plain": [
       "['подтверждения операции',\n",
       " 'страховки сотрудник',\n",
       " 'дополнительные взносы',\n",
       " 'сумма возвращается',\n",
       " 'положила счет',\n",
       " 'кредит июне',\n",
       " 'написанием имени',\n",
       " 'вклад отказали',\n",
       " 'выплате процентов',\n",
       " 'копию печатью']"
      ]
     },
     "execution_count": 43,
     "metadata": {},
     "output_type": "execute_result"
    }
   ],
   "source": [
    "vec = TfidfVectorizer(ngram_range=(2, 2), min_df=8)\n",
    "bow = vec.fit_transform(bad_responses1['corpus'])\n",
    "\n",
    "vocab_lookup = {v:k for k,v in vec.vocabulary_.items()}\n",
    "impotant_word = [vocab_lookup[np.argmax(v)] for v in bow]\n",
    "print('Топ 10 важных биграмм в негативных отхывах')\n",
    "impotant_word[:10]"
   ]
  },
  {
   "cell_type": "code",
   "execution_count": 44,
   "metadata": {},
   "outputs": [
    {
     "name": "stderr",
     "output_type": "stream",
     "text": [
      "progress: 100%|██████████| 10329/10329 [00:25<00:00, 401.87it/s]\n"
     ]
    },
    {
     "data": {
      "text/html": [
       "<div>\n",
       "<style scoped>\n",
       "    .dataframe tbody tr th:only-of-type {\n",
       "        vertical-align: middle;\n",
       "    }\n",
       "\n",
       "    .dataframe tbody tr th {\n",
       "        vertical-align: top;\n",
       "    }\n",
       "\n",
       "    .dataframe thead th {\n",
       "        text-align: right;\n",
       "    }\n",
       "</style>\n",
       "<table border=\"1\" class=\"dataframe\">\n",
       "  <thead>\n",
       "    <tr style=\"text-align: right;\">\n",
       "      <th></th>\n",
       "      <th>text</th>\n",
       "      <th>rating_grade</th>\n",
       "      <th>corpus</th>\n",
       "    </tr>\n",
       "  </thead>\n",
       "  <tbody>\n",
       "    <tr>\n",
       "      <th>74046</th>\n",
       "      <td>Хочу поблагодарить отдел депозитов ТКС Банк за...</td>\n",
       "      <td>5.0</td>\n",
       "      <td>хочу поблагодарить отдел депозитов ткс банк че...</td>\n",
       "    </tr>\n",
       "    <tr>\n",
       "      <th>118163</th>\n",
       "      <td>Прочитала отзыв ниже о банкомате в Питере и ул...</td>\n",
       "      <td>5.0</td>\n",
       "      <td>прочитала отзыв ниже банкомате питере улыбнула...</td>\n",
       "    </tr>\n",
       "    <tr>\n",
       "      <th>72630</th>\n",
       "      <td>Открыла вклад с ежемесячной выплатой в Москве,...</td>\n",
       "      <td>5.0</td>\n",
       "      <td>открыла вклад ежемесячной выплатой москве сама...</td>\n",
       "    </tr>\n",
       "  </tbody>\n",
       "</table>\n",
       "</div>"
      ],
      "text/plain": [
       "                                                     text  rating_grade  \\\n",
       "74046   Хочу поблагодарить отдел депозитов ТКС Банк за...           5.0   \n",
       "118163  Прочитала отзыв ниже о банкомате в Питере и ул...           5.0   \n",
       "72630   Открыла вклад с ежемесячной выплатой в Москве,...           5.0   \n",
       "\n",
       "                                                   corpus  \n",
       "74046   хочу поблагодарить отдел депозитов ткс банк че...  \n",
       "118163  прочитала отзыв ниже банкомате питере улыбнула...  \n",
       "72630   открыла вклад ежемесячной выплатой москве сама...  "
      ]
     },
     "execution_count": 44,
     "metadata": {},
     "output_type": "execute_result"
    }
   ],
   "source": [
    "good_responses1 = df_responses.loc[df_responses['rating_grade'] == 5, ['text', 'rating_grade']]\n",
    "good_responses1['corpus'] = good_responses1['text'].progress_apply(my_tokenize)\n",
    "good_responses1.sample(3)"
   ]
  },
  {
   "cell_type": "code",
   "execution_count": 46,
   "metadata": {},
   "outputs": [
    {
     "name": "stdout",
     "output_type": "stream",
     "text": [
      "Топ 10 важных слов в позитивных отхывах\n"
     ]
    },
    {
     "data": {
      "text/plain": [
       "['несут',\n",
       " 'вклада',\n",
       " 'администраторы',\n",
       " 'отмечу',\n",
       " 'продолжаем',\n",
       " 'реструктуризации',\n",
       " 'депозиты',\n",
       " 'задавала',\n",
       " 'чтоб',\n",
       " 'георгий']"
      ]
     },
     "execution_count": 46,
     "metadata": {},
     "output_type": "execute_result"
    }
   ],
   "source": [
    "vec = TfidfVectorizer(ngram_range=(1, 1), min_df=8)\n",
    "bow = vec.fit_transform(good_responses1['corpus'])\n",
    "\n",
    "vocab_lookup = {v:k for k,v in vec.vocabulary_.items()}\n",
    "impotant_word = [vocab_lookup[np.argmax(v)] for v in bow]\n",
    "print('Топ 10 важных слов в позитивных отзывах')\n",
    "impotant_word[:10]"
   ]
  },
  {
   "cell_type": "code",
   "execution_count": 47,
   "metadata": {},
   "outputs": [
    {
     "name": "stdout",
     "output_type": "stream",
     "text": [
      "Топ 10 важных биграмм в позитивных отзывах\n"
     ]
    },
    {
     "data": {
      "text/plain": [
       "['хотя сумма',\n",
       " 'счет вклада',\n",
       " 'своей вине',\n",
       " 'обслуживание спасибо',\n",
       " 'менеджера работе',\n",
       " 'прийти следующий',\n",
       " 'апреля года',\n",
       " 'вопросы помог',\n",
       " 'для банка',\n",
       " 'мои средства']"
      ]
     },
     "execution_count": 47,
     "metadata": {},
     "output_type": "execute_result"
    }
   ],
   "source": [
    "vec = TfidfVectorizer(ngram_range=(2, 2), min_df=8)\n",
    "bow = vec.fit_transform(good_responses1['corpus'])\n",
    "\n",
    "vocab_lookup = {v:k for k,v in vec.vocabulary_.items()}\n",
    "impotant_word = [vocab_lookup[np.argmax(v)] for v in bow]\n",
    "print('Топ 10 важных биграмм в позитивных отзывах')\n",
    "impotant_word[:10]"
   ]
  },
  {
   "cell_type": "markdown",
   "metadata": {
    "id": "AJ39G_RaqauR",
    "pycharm": {
     "name": "#%% md\n"
    }
   },
   "source": [
    "## Классификация текстов"
   ]
  },
  {
   "cell_type": "code",
   "execution_count": 23,
   "metadata": {
    "id": "bUSukDrwqauS",
    "outputId": "d50fc19f-0306-4d6b-f14d-101196431d81",
    "pycharm": {
     "name": "#%%\n"
    }
   },
   "outputs": [],
   "source": [
    "from sklearn.pipeline import Pipeline\n",
    "from sklearn.ensemble import RandomForestClassifier\n",
    "from sklearn.feature_extraction.text import CountVectorizer, TfidfTransformer, TfidfVectorizer\n",
    "from sklearn.decomposition import TruncatedSVD\n",
    "\n",
    "from sklearn.metrics import *\n",
    "from sklearn.model_selection import train_test_split\n",
    "\n",
    "# from sklearn.manifold import TSNE\n",
    "# from sklearn.pipeline import Pipeline\n",
    "# from sklearn.preprocessing import Normalizer\n",
    "# from sklearn.feature_extraction.text import TfidfVectorizer\n",
    "# !!! На каждом этапе Pipeline нужно указать свои параметры\n",
    "# 1-ый вариант: tf-idf + LSI\n",
    "# 2-ой вариант: LDA\n",
    "\n",
    "# clf = Pipeline([\n",
    "#     ('vect', CountVectorizer(analyzer = 'char', ngram_range={4,6})),\n",
    "#     ('clf', RandomForestClassifier()),\n",
    "# ])\n",
    "\n",
    "\n",
    "clf = Pipeline([\n",
    "    ('vect', CountVectorizer()),\n",
    "    ('tfidf', TfidfTransformer()),\n",
    "    ('tm', TruncatedSVD()),\n",
    "    ('clf', RandomForestClassifier())\n",
    "])"
   ]
  },
  {
   "cell_type": "code",
   "execution_count": null,
   "metadata": {},
   "outputs": [],
   "source": []
  }
 ],
 "metadata": {
  "colab": {
   "collapsed_sections": [],
   "name": "HW1_banki_TM-and-classification.ipynb",
   "provenance": []
  },
  "kernelspec": {
   "display_name": "Python 3 (ipykernel)",
   "language": "python",
   "name": "python3"
  },
  "language_info": {
   "codemirror_mode": {
    "name": "ipython",
    "version": 3
   },
   "file_extension": ".py",
   "mimetype": "text/x-python",
   "name": "python",
   "nbconvert_exporter": "python",
   "pygments_lexer": "ipython3",
   "version": "3.10.2"
  },
  "vscode": {
   "interpreter": {
    "hash": "3b86bb4a7c67948f28b40856a4a20f412ff81a4b6377c11c191c16516b072e2a"
   }
  }
 },
 "nbformat": 4,
 "nbformat_minor": 4
}
