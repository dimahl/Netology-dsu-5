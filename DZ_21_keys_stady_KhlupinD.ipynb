{
 "cells": [
  {
   "cell_type": "markdown",
   "metadata": {},
   "source": [
    "Домашнее задание к лекции \"Статистика. Практика\"\n",
    "Задание 1\n",
    "Вернемся к набору данных о видеоиграх.\n",
    "\n",
    "Ответьте на следующие вопросы:\n",
    "\n",
    "1) Как критики относятся к спортивным играм?\n",
    "2) Критикам нравятся больше игры на PC или на PS4?\n",
    "3) Критикам больше нравятся стрелялки или стратегии?\n",
    "\n",
    "Для каждого вопроса:\n",
    "\n",
    "сформулируйте нулевую и альтернативную гипотезы;\n",
    "выберите пороговый уровень статистической значимости;\n",
    "опишите полученные результаты статистического теста."
   ]
  },
  {
   "cell_type": "code",
   "execution_count": 1,
   "metadata": {},
   "outputs": [],
   "source": [
    "import pandas as pd"
   ]
  },
  {
   "cell_type": "code",
   "execution_count": 2,
   "metadata": {},
   "outputs": [],
   "source": [
    "df = pd.read_csv('files/video_games_sales.csv')"
   ]
  },
  {
   "cell_type": "code",
   "execution_count": 3,
   "metadata": {},
   "outputs": [
    {
     "name": "stdout",
     "output_type": "stream",
     "text": [
      "<class 'pandas.core.frame.DataFrame'>\n",
      "RangeIndex: 55792 entries, 0 to 55791\n",
      "Data columns (total 23 columns):\n",
      " #   Column          Non-Null Count  Dtype  \n",
      "---  ------          --------------  -----  \n",
      " 0   Rank            55792 non-null  int64  \n",
      " 1   Name            55792 non-null  object \n",
      " 2   basename        55792 non-null  object \n",
      " 3   Genre           55792 non-null  object \n",
      " 4   ESRB_Rating     23623 non-null  object \n",
      " 5   Platform        55792 non-null  object \n",
      " 6   Publisher       55792 non-null  object \n",
      " 7   Developer       55775 non-null  object \n",
      " 8   VGChartz_Score  0 non-null      float64\n",
      " 9   Critic_Score    6536 non-null   float64\n",
      " 10  User_Score      335 non-null    float64\n",
      " 11  Total_Shipped   1827 non-null   float64\n",
      " 12  Global_Sales    19415 non-null  float64\n",
      " 13  NA_Sales        12964 non-null  float64\n",
      " 14  PAL_Sales       13189 non-null  float64\n",
      " 15  JP_Sales        7043 non-null   float64\n",
      " 16  Other_Sales     15522 non-null  float64\n",
      " 17  Year            54813 non-null  float64\n",
      " 18  Last_Update     9186 non-null   object \n",
      " 19  url             55792 non-null  object \n",
      " 20  status          55792 non-null  int64  \n",
      " 21  Vgchartzscore   799 non-null    float64\n",
      " 22  img_url         55792 non-null  object \n",
      "dtypes: float64(11), int64(2), object(10)\n",
      "memory usage: 9.8+ MB\n"
     ]
    }
   ],
   "source": [
    "df.info()"
   ]
  },
  {
   "cell_type": "markdown",
   "metadata": {},
   "source": [
    "## Как  критики относятся к спортивным играм?"
   ]
  },
  {
   "cell_type": "markdown",
   "metadata": {},
   "source": [
    "Проверю какие есть значения на предмет схожих названий sport, sports"
   ]
  },
  {
   "cell_type": "code",
   "execution_count": 4,
   "metadata": {},
   "outputs": [
    {
     "data": {
      "text/plain": [
       "Misc                9476\n",
       "Action              7667\n",
       "Adventure           5293\n",
       "Sports              5244\n",
       "Shooter             4586\n",
       "Role-Playing        4551\n",
       "Platform            3445\n",
       "Strategy            3266\n",
       "Puzzle              3162\n",
       "Racing              3030\n",
       "Simulation          2737\n",
       "Fighting            2085\n",
       "Action-Adventure     609\n",
       "Visual Novel         260\n",
       "Music                195\n",
       "Party                 75\n",
       "MMO                   74\n",
       "Board Game            16\n",
       "Education             12\n",
       "Sandbox                9\n",
       "Name: Genre, dtype: int64"
      ]
     },
     "execution_count": 4,
     "metadata": {},
     "output_type": "execute_result"
    }
   ],
   "source": [
    "df['Genre'].value_counts()"
   ]
  },
  {
   "cell_type": "code",
   "execution_count": 5,
   "metadata": {},
   "outputs": [],
   "source": [
    "df_sports = df[df['Genre'] == 'Sports']['Critic_Score']"
   ]
  },
  {
   "cell_type": "code",
   "execution_count": 6,
   "metadata": {},
   "outputs": [
    {
     "data": {
      "text/plain": [
       "count    688.000000\n",
       "mean       7.291424\n",
       "std        1.470802\n",
       "min        1.400000\n",
       "25%        6.500000\n",
       "50%        7.600000\n",
       "75%        8.300000\n",
       "max        9.700000\n",
       "Name: Critic_Score, dtype: float64"
      ]
     },
     "execution_count": 6,
     "metadata": {},
     "output_type": "execute_result"
    }
   ],
   "source": [
    "df_sports.describe()"
   ]
  },
  {
   "cell_type": "markdown",
   "metadata": {},
   "source": [
    "## Сформулируем гипотезы\n",
    "1) Как критики относятся к спортивным играм?\n",
    "\n",
    "Условимся, что если критики хорошо относятся к спортивному жанра, то выставляют оценки больше 7 ( из 10)  \n",
    "Н0: Критики выставляют оценки меньше или равно 7               \n",
    "Н1: Критики выставляют оценки больше 7"
   ]
  },
  {
   "cell_type": "code",
   "execution_count": 7,
   "metadata": {},
   "outputs": [],
   "source": [
    "# Надо было избавится от NaN, но был в дороге не погуглить сделал так\n",
    "df_sports = df_sports[df_sports.between(0,11)]"
   ]
  },
  {
   "cell_type": "code",
   "execution_count": 8,
   "metadata": {},
   "outputs": [
    {
     "name": "stdout",
     "output_type": "stream",
     "text": [
      "7.291424418604655\n",
      "Ttest_1sampResult(statistic=5.197156914436623, pvalue=1.3357054514854985e-07)\n",
      "Отвергаем нулевую гипотезу, среднее больше 7 (Критики хорошо относятся к спортивному жанру)\n"
     ]
    }
   ],
   "source": [
    "from scipy import stats as st\n",
    "alpha = 0.05\n",
    "result = st.ttest_1samp(df_sports, 7, alternative='greater')\n",
    "\n",
    "print(df_sports.mean())\n",
    "print(result)\n",
    "\n",
    "if result.pvalue < alpha: \n",
    "    print('Отвергаем нулевую гипотезу, среднее больше 7 (Критики хорошо относятся к спортивному жанру)')\n",
    "else:\n",
    "    print('Не отвергаем нулевую нулевую гипотезу, критики нехорошо относятся к спортивному жанру')"
   ]
  },
  {
   "cell_type": "code",
   "execution_count": 9,
   "metadata": {},
   "outputs": [],
   "source": [
    "df_sports = df_sports[df_sports.between(0,11)]"
   ]
  },
  {
   "cell_type": "markdown",
   "metadata": {},
   "source": [
    "2) Критикам нравятся больше игры на PC или на PS4?\n",
    "\n"
   ]
  },
  {
   "cell_type": "code",
   "execution_count": 10,
   "metadata": {},
   "outputs": [],
   "source": [
    "df_PC = df[df['Platform'] == 'PC']['Critic_Score'].dropna()\n",
    "df_PS4 = df[df['Platform'] == 'PS4']['Critic_Score'].dropna()"
   ]
  },
  {
   "cell_type": "code",
   "execution_count": 11,
   "metadata": {},
   "outputs": [
    {
     "data": {
      "text/plain": [
       "count    865.000000\n",
       "mean       7.541850\n",
       "std        1.435191\n",
       "min        1.200000\n",
       "25%        6.800000\n",
       "50%        8.000000\n",
       "75%        8.600000\n",
       "max       10.000000\n",
       "Name: Critic_Score, dtype: float64"
      ]
     },
     "execution_count": 11,
     "metadata": {},
     "output_type": "execute_result"
    }
   ],
   "source": [
    "df_PC.describe()"
   ]
  },
  {
   "cell_type": "code",
   "execution_count": 12,
   "metadata": {},
   "outputs": [
    {
     "data": {
      "text/plain": [
       "count    109.000000\n",
       "mean       7.904587\n",
       "std        1.285128\n",
       "min        1.000000\n",
       "25%        7.400000\n",
       "50%        8.100000\n",
       "75%        8.700000\n",
       "max       10.000000\n",
       "Name: Critic_Score, dtype: float64"
      ]
     },
     "execution_count": 12,
     "metadata": {},
     "output_type": "execute_result"
    }
   ],
   "source": [
    "df_PS4.describe()"
   ]
  },
  {
   "cell_type": "markdown",
   "metadata": {},
   "source": [
    "Можно сказать что дисперсия у двух выборок не сильно отличается поэтому можно использовать т-критеий, при этом средняя для PS4 чуть выше. Сформулируем гипотезы:\n",
    "\n",
    "H0: симпатии равны ( нельзя что-то веделить)  \n",
    "H1: Критикам больше нравится PS4, т.к. его средняя больше чем PC"
   ]
  },
  {
   "cell_type": "code",
   "execution_count": 20,
   "metadata": {},
   "outputs": [
    {
     "name": "stdout",
     "output_type": "stream",
     "text": [
      "Ttest_indResult(statistic=-2.5145460239776942, pvalue=0.012079074209299238)\n",
      "\n",
      "Отвергаем нулевую гипотезу, средние значения двух выборок различны и статистически значимы. Платформа PS4 больше нравится критикам\n"
     ]
    }
   ],
   "source": [
    "# Примем уровень стат значимости = 0.03\n",
    "alfa = 0.03\n",
    "result = st.ttest_ind(df_PC, df_PS4)\n",
    "print(result)\n",
    "\n",
    "if result.pvalue < alfa:\n",
    "    print('')\n",
    "    print('Отвергаем нулевую гипотезу, средние значения двух выборок различны и статистически значимы. Платформа PS4 больше нравится критикам')\n",
    "else:\n",
    "    print('Не отвергаем нулевую гипотезу')"
   ]
  },
  {
   "cell_type": "code",
   "execution_count": 16,
   "metadata": {},
   "outputs": [
    {
     "data": {
      "text/plain": [
       "Ttest_indResult(statistic=2.7394476056351627, pvalue=0.006931808250254211)"
      ]
     },
     "execution_count": 16,
     "metadata": {},
     "output_type": "execute_result"
    }
   ],
   "source": [
    "# И посмотрим еще какие рузельтаты даст поправка Welch\n",
    "st.ttest_ind(df_PS4, df_PC, equal_var=False)"
   ]
  },
  {
   "cell_type": "markdown",
   "metadata": {},
   "source": [
    "выводы только 'усилились'"
   ]
  },
  {
   "cell_type": "markdown",
   "metadata": {},
   "source": [
    "3) Критикам больше нравятся стрелялки или стратегии?"
   ]
  },
  {
   "cell_type": "code",
   "execution_count": 21,
   "metadata": {},
   "outputs": [],
   "source": [
    "df_gun = df[df['Genre'] == 'Shooter']['Critic_Score'].dropna()\n",
    "df_strateg = df[df['Genre'] == 'Strategy']['Critic_Score'].dropna()"
   ]
  },
  {
   "cell_type": "code",
   "execution_count": 22,
   "metadata": {},
   "outputs": [
    {
     "data": {
      "text/plain": [
       "count    843.000000\n",
       "mean       7.286833\n",
       "std        1.492341\n",
       "min        1.200000\n",
       "25%        6.500000\n",
       "50%        7.500000\n",
       "75%        8.400000\n",
       "max       10.000000\n",
       "Name: Critic_Score, dtype: float64"
      ]
     },
     "execution_count": 22,
     "metadata": {},
     "output_type": "execute_result"
    }
   ],
   "source": [
    "df_gun.describe()"
   ]
  },
  {
   "cell_type": "code",
   "execution_count": 23,
   "metadata": {},
   "outputs": [
    {
     "data": {
      "text/plain": [
       "count    369.000000\n",
       "mean       7.429268\n",
       "std        1.386585\n",
       "min        2.500000\n",
       "25%        6.800000\n",
       "50%        7.700000\n",
       "75%        8.400000\n",
       "max        9.500000\n",
       "Name: Critic_Score, dtype: float64"
      ]
     },
     "execution_count": 23,
     "metadata": {},
     "output_type": "execute_result"
    }
   ],
   "source": [
    "df_strateg.describe()"
   ]
  },
  {
   "cell_type": "code",
   "execution_count": 24,
   "metadata": {},
   "outputs": [
    {
     "name": "stdout",
     "output_type": "stream",
     "text": [
      "Ttest_indResult(statistic=-1.5618791808752566, pvalue=0.11857794193337436)\n",
      "Не отвергаем нулевую гипотезу\n"
     ]
    }
   ],
   "source": [
    "# Примем уровень стат значимости = 0.03\n",
    "alfa = 0.03\n",
    "result = st.ttest_ind(df_gun, df_strateg)\n",
    "print(result)\n",
    "\n",
    "if result.pvalue < alfa:\n",
    "    print('')\n",
    "    print('Отвергаем нулевую гипотезу, средние значения двух выборок различны и статистически значимы. Жанр \"стратегия\" больше нравится критикам')\n",
    "else:\n",
    "    print('Не отвергаем нулевую гипотезу')"
   ]
  },
  {
   "cell_type": "code",
   "execution_count": 25,
   "metadata": {},
   "outputs": [
    {
     "data": {
      "text/plain": [
       "Ttest_indResult(statistic=-1.6073949711166526, pvalue=0.10838786414223071)"
      ]
     },
     "execution_count": 25,
     "metadata": {},
     "output_type": "execute_result"
    }
   ],
   "source": [
    "st.ttest_ind(df_gun, df_strateg, equal_var=False)"
   ]
  },
  {
   "cell_type": "markdown",
   "metadata": {},
   "source": [
    "По этим двум выборкам нельзя достоверно сказать, что выборки существенно различимы"
   ]
  },
  {
   "cell_type": "code",
   "execution_count": null,
   "metadata": {},
   "outputs": [],
   "source": []
  }
 ],
 "metadata": {
  "kernelspec": {
   "display_name": "Python 3",
   "language": "python",
   "name": "python3"
  },
  "language_info": {
   "codemirror_mode": {
    "name": "ipython",
    "version": 3
   },
   "file_extension": ".py",
   "mimetype": "text/x-python",
   "name": "python",
   "nbconvert_exporter": "python",
   "pygments_lexer": "ipython3",
   "version": "3.8.8"
  }
 },
 "nbformat": 4,
 "nbformat_minor": 4
}
