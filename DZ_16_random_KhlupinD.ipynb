{
 "cells": [
  {
   "cell_type": "code",
   "execution_count": 1,
   "metadata": {},
   "outputs": [],
   "source": [
    "import numpy as np"
   ]
  },
  {
   "cell_type": "markdown",
   "metadata": {},
   "source": [
    "## Задание\n",
    "\n",
    "Смоделировать игру против лотерейного автомата типа “777”. Игрок платит 1 руб., после чего выпадает случайное целое число, равномерно распределенное от 0 до 999. При некоторых значениях числа игрок получает выигрыш (см. ниже)\n",
    "Выгодна ли игра игроку? Сколько в среднем приобретает или теряет игрок за одну игру?\n",
    "\n",
    "777: 200 руб\n",
    "999: 100 руб\n",
    "555: 50 руб\n",
    "333: 15 руб\n",
    "111: 10 руб\n",
    ".77: 5 руб\n",
    "..7: 3 руб\n",
    ".00: 2 руб\n",
    "..0: 1 руб\n",
    "\n",
    ". – любая цифра\n",
    "Дополнительное задание повышенной сложности. Теоретически рассчитать средний выигрыш (проигрыш) и сравнить с результатами моделирования"
   ]
  },
  {
   "cell_type": "code",
   "execution_count": 270,
   "metadata": {},
   "outputs": [
    {
     "name": "stdout",
     "output_type": "stream",
     "text": [
      "Вы сыграли 600000 раз\n",
      "Надо было соскакивать на 1000188\n",
      "Ваш банк стал равен 877247\n",
      "\n",
      "Экспереминтально расчитанный заработок -0.12  c одного рубля\n",
      "Теоретический зарабаток -0.15 c одного рубля\n",
      "\n",
      "Теоретический зарабаток ИТОГО: -93000.0\n",
      "Экспереминтально расчитанный заработок ИТОГО -122753\n"
     ]
    }
   ],
   "source": [
    "trials = 600000    # Количество попыток\n",
    "start_cash = 1000000 # начальный банк\n",
    "cash = start_cash\n",
    "N = 1000 # разрядность автомата\n",
    "max_cash = 0\n",
    "count = 0\n",
    "for i in range(trials):\n",
    "    cash -= 1\n",
    "    count += 1\n",
    "    if cash < 0:\n",
    "        print('Вы проиграли всё !!! Принесите нам еще денег!!! ')\n",
    "        break\n",
    "    random_score = np.random.randint(1, N)    # Случайное количество очков от 1 до N-1\n",
    "    if random_score == 777:\n",
    "        cash += 200\n",
    "    elif random_score == 999:\n",
    "        cash += 100\n",
    "    elif random_score == 555:\n",
    "        cash += 50\n",
    "    elif random_score == 333:\n",
    "        cash += 15\n",
    "    elif random_score == 111:\n",
    "        cash += 10\n",
    "    elif random_score % 100 == 77:\n",
    "        cash += 5\n",
    "    elif random_score % 10 == 7:\n",
    "        cash += 3\n",
    "    elif random_score % 100 == 0:\n",
    "        cash += 2\n",
    "    elif random_score % 10 == 0:\n",
    "        cash += 1\n",
    "    if max_cash < cash:\n",
    "        max_cash = cash\n",
    "print(f'Вы сыграли {count} раз')\n",
    "print(f'Надо было соскакивать на {max_cash}')\n",
    "print(f'Ваш банк стал равен {cash}')\n",
    "print('')\n",
    "print(f'Экспереминтально расчитанный заработок {round((cash-start_cash) / start_cash, 2)}  c одного рубля')\n",
    "\n",
    "P_A = 200/N + 100/N + 50/N + 15/N + 10/N + 5*10/N +3*100/N + 2*10/N + 1*100/N\n",
    "print(f'Теоретический зарабаток {round(P_A - 1, 2)} c одного рубля')\n",
    "print('')\n",
    "print(f'Теоретический зарабаток ИТОГО: {round((P_A - 1)*trials, 2)}')\n",
    "print(f'Экспереминтально расчитанный заработок ИТОГО: {cash - start_cash}')\n"
   ]
  },
  {
   "cell_type": "code",
   "execution_count": null,
   "metadata": {},
   "outputs": [],
   "source": []
  },
  {
   "cell_type": "code",
   "execution_count": null,
   "metadata": {},
   "outputs": [],
   "source": []
  }
 ],
 "metadata": {
  "kernelspec": {
   "display_name": "Python 3",
   "language": "python",
   "name": "python3"
  },
  "language_info": {
   "codemirror_mode": {
    "name": "ipython",
    "version": 3
   },
   "file_extension": ".py",
   "mimetype": "text/x-python",
   "name": "python",
   "nbconvert_exporter": "python",
   "pygments_lexer": "ipython3",
   "version": "3.8.5"
  }
 },
 "nbformat": 4,
 "nbformat_minor": 4
}
