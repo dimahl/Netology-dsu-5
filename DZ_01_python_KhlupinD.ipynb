{
 "cells": [
  {
   "cell_type": "markdown",
   "metadata": {},
   "source": [
    "# Хлупин Дмитрий [DSU-5]\n",
    "\n",
    "# Д/з основый python\n",
    "\n",
    "## Задание №1"
   ]
  },
  {
   "cell_type": "code",
   "execution_count": 1,
   "metadata": {
    "scrolled": true
   },
   "outputs": [
    {
     "name": "stdout",
     "output_type": "stream",
     "text": [
      "Введите первую фразу: xfnxfn\n",
      "Введите вторую фразу: fg\n",
      "\n",
      "Результат: \n",
      "первая фраза длинее\n"
     ]
    }
   ],
   "source": [
    "txt1 = str(input(\"Введите первую фразу: \"))\n",
    "txt2 = str(input(\"Введите вторую фразу: \"))\n",
    "print()\n",
    "print('Результат: ')\n",
    "if len(txt1) > len(txt2):\n",
    "    print(\"первая фраза длинее\")\n",
    "elif len(txt1) < len(txt2):\n",
    "    print('вторая фраза длинее')\n",
    "else:\n",
    "    print('фразы оказалась одинаковой длины')"
   ]
  },
  {
   "cell_type": "markdown",
   "metadata": {},
   "source": [
    "## Задание 2"
   ]
  },
  {
   "cell_type": "code",
   "execution_count": 7,
   "metadata": {},
   "outputs": [
    {
     "name": "stdout",
     "output_type": "stream",
     "text": [
      "Введите год: 1425\n",
      "Введеный год не является високосным\n"
     ]
    }
   ],
   "source": [
    "year = int(input('Введите год: '))\n",
    "year_vys = year % 4\n",
    "#print(year_vys)\n",
    "if year_vys == 0:\n",
    "    print('Введеный год является високосным')\n",
    "else:\n",
    "    print('Введеный год не является високосным')"
   ]
  },
  {
   "cell_type": "markdown",
   "metadata": {},
   "source": [
    "# Задание 3"
   ]
  },
  {
   "cell_type": "code",
   "execution_count": 3,
   "metadata": {},
   "outputs": [
    {
     "name": "stdout",
     "output_type": "stream",
     "text": [
      "Введите день и месяц рождения\n",
      "Введите месяц: 8\n",
      "Введите день: 3\n",
      "Знак зодиака - ЛЕВ\n"
     ]
    }
   ],
   "source": [
    "from datetime import datetime, date, time\n",
    "\n",
    "print('Введите день и месяц рождения')\n",
    "month = int(input('Введите месяц: '))\n",
    "day = int(input('Введите день: '))\n",
    "\n",
    "date_1 = date(2001, month, day)\n",
    "date_etalon = date(2000, 12, 20)\n",
    "delta_date = date_1 - date_etalon\n",
    "delta_day = int(delta_date.days)\n",
    "#print(delta_day)\n",
    "if delta_day < 31:\n",
    "    print('Знак зодиака - КОЗЕРОГ')\n",
    "elif delta_day < 62:\n",
    "    print('Знак зодиака - ВОДОЛЕЙ')\n",
    "elif delta_day < 90:\n",
    "    print('Знак зодиака - РЫБЫ')\n",
    "elif delta_day < 120:\n",
    "    print('Знак зодиака - ОВЕН')\n",
    "elif delta_day < 151:\n",
    "    print('Знак зодиака - ТЕЛЕЦ')\n",
    "elif delta_day < 182:\n",
    "    print('Знак зодиака - БЛИЗНЕЦЫ')\n",
    "elif delta_day < 214:\n",
    "    print('Знак зодиака - РАК')\n",
    "elif delta_day < 245:\n",
    "    print('Знак зодиака - ЛЕВ')\n",
    "elif delta_day < 276:\n",
    "    print('Знак зодиака - ДЕВА')\n",
    "elif delta_day < 307:\n",
    "    print('Знак зодиака - ВЕСЫ')\n",
    "elif delta_day < 337:\n",
    "    print('Знак зодиака - СКОРПИОН')\n",
    "else:\n",
    "    print('Знак зодиака - СТРЕЛЕЦ')\n",
    "\n"
   ]
  },
  {
   "cell_type": "markdown",
   "metadata": {},
   "source": [
    "# Задание 4"
   ]
  },
  {
   "cell_type": "code",
   "execution_count": 11,
   "metadata": {},
   "outputs": [
    {
     "name": "stdout",
     "output_type": "stream",
     "text": [
      "Коробка для лыж\n"
     ]
    }
   ],
   "source": [
    "width =51\n",
    "length = 300\n",
    "height = 200\n",
    "if width < 15 and length < 15 and height < 15:\n",
    "    print(\"Коробка №1\")\n",
    "elif length > 200:\n",
    "    print(\"Коробка для лыж\")\n",
    "elif width < 50 or length < 50 or height < 50:\n",
    "    print(\"Коробка №2\")\n",
    "else:\n",
    "    print('Стандартная коробка')"
   ]
  },
  {
   "cell_type": "code",
   "execution_count": null,
   "metadata": {},
   "outputs": [],
   "source": []
  },
  {
   "cell_type": "code",
   "execution_count": null,
   "metadata": {},
   "outputs": [],
   "source": []
  }
 ],
 "metadata": {
  "kernelspec": {
   "display_name": "Python 3",
   "language": "python",
   "name": "python3"
  },
  "language_info": {
   "codemirror_mode": {
    "name": "ipython",
    "version": 3
   },
   "file_extension": ".py",
   "mimetype": "text/x-python",
   "name": "python",
   "nbconvert_exporter": "python",
   "pygments_lexer": "ipython3",
   "version": "3.8.5"
  }
 },
 "nbformat": 4,
 "nbformat_minor": 4
}
