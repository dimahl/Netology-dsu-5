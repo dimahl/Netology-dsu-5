{
 "cells": [
  {
   "cell_type": "markdown",
   "metadata": {},
   "source": [
    "# Хлупин Дмитрий [DSU-5]\n",
    "\n",
    "# Д/з основый python\n",
    "\n",
    "## Задание №1"
   ]
  },
  {
   "cell_type": "code",
   "execution_count": 39,
   "metadata": {
    "scrolled": true
   },
   "outputs": [
    {
     "name": "stdout",
     "output_type": "stream",
     "text": [
      "Введите первую фразу: fhndgh\n",
      "Введите вторую фразу: yt\n",
      "\n",
      "Результат: \n",
      "первая фраза длинее\n"
     ]
    }
   ],
   "source": [
    "txt1 = str(input(\"Введите первую фразу: \"))\n",
    "txt2 = str(input(\"Введите вторую фразу: \"))\n",
    "print()\n",
    "print('Результат: ')\n",
    "if len(txt1) > len(txt2):\n",
    "    print(\"первая фраза длинее\")\n",
    "elif len(txt1) < len(txt2):\n",
    "    print('вторая фраза длинее')\n",
    "else:\n",
    "    print('фразы оказалась одинаковой длины')"
   ]
  },
  {
   "cell_type": "markdown",
   "metadata": {},
   "source": [
    "## Задание 2"
   ]
  },
  {
   "cell_type": "code",
   "execution_count": 40,
   "metadata": {},
   "outputs": [
    {
     "name": "stdout",
     "output_type": "stream",
     "text": [
      "Введите год: 1221\n",
      "Введеный год не является високосным\n"
     ]
    }
   ],
   "source": [
    "year = int(input('Введите год: '))\n",
    "year_vys = year % 4\n",
    "#print(year_vys)\n",
    "if year_vys == 0:\n",
    "    print('Введеный год является високосным')\n",
    "else:\n",
    "    print('Введеный год не является високосным')"
   ]
  },
  {
   "cell_type": "markdown",
   "metadata": {},
   "source": [
    "# Задание 3"
   ]
  },
  {
   "cell_type": "code",
   "execution_count": 41,
   "metadata": {},
   "outputs": [
    {
     "name": "stdout",
     "output_type": "stream",
     "text": [
      "Введите день и месяц рождения\n",
      "Введите месяц: 9\n",
      "Введите день: 1\n",
      "Знак зодиака - ДЕВА\n"
     ]
    }
   ],
   "source": [
    "from datetime import datetime, date, time\n",
    "\n",
    "print('Введите день и месяц рождения')\n",
    "month = int(input('Введите месяц: '))\n",
    "day = int(input('Введите день: '))\n",
    "\n",
    "date_1 = date(2001, month, day)\n",
    "date_etalon = date(2000, 12, 20)\n",
    "delta_date = date_1 - date_etalon\n",
    "delta_day = int(delta_date.days)\n",
    "#print(delta_day)\n",
    "if delta_day < 31:\n",
    "    print('Знак зодиака - КОЗЕРОГ')\n",
    "elif delta_day < 62:\n",
    "    print('Знак зодиака - ВОДОЛЕЙ')\n",
    "elif delta_day < 90:\n",
    "    print('Знак зодиака - РЫБЫ')\n",
    "elif delta_day < 120:\n",
    "    print('Знак зодиака - ОВЕН')\n",
    "elif delta_day < 151:\n",
    "    print('Знак зодиака - ТЕЛЕЦ')\n",
    "elif delta_day < 182:\n",
    "    print('Знак зодиака - БЛИЗНЕЦЫ')\n",
    "elif delta_day < 214:\n",
    "    print('Знак зодиака - РАК')\n",
    "elif delta_day < 245:\n",
    "    print('Знак зодиака - ЛЕВ')\n",
    "elif delta_day < 276:\n",
    "    print('Знак зодиака - ДЕВА')\n",
    "elif delta_day < 307:\n",
    "    print('Знак зодиака - ВЕСЫ')\n",
    "elif delta_day < 337:\n",
    "    print('Знак зодиака - СКОРПИОН')\n",
    "else:\n",
    "    print('Знак зодиака - СТРЕЛЕЦ')"
   ]
  },
  {
   "cell_type": "markdown",
   "metadata": {},
   "source": [
    "# Задание 4"
   ]
  },
  {
   "cell_type": "code",
   "execution_count": 11,
   "metadata": {},
   "outputs": [
    {
     "name": "stdout",
     "output_type": "stream",
     "text": [
      "Коробка для лыж\n"
     ]
    }
   ],
   "source": [
    "width =51\n",
    "length = 300\n",
    "height = 200\n",
    "if width < 15 and length < 15 and height < 15:\n",
    "    print(\"Коробка №1\")\n",
    "elif length > 200:\n",
    "    print(\"Коробка для лыж\")\n",
    "elif width < 50 or length < 50 or height < 50:\n",
    "    print(\"Коробка №2\")\n",
    "else:\n",
    "    print('Стандартная коробка')"
   ]
  },
  {
   "cell_type": "markdown",
   "metadata": {},
   "source": [
    "# Задание 5"
   ]
  },
  {
   "cell_type": "code",
   "execution_count": 12,
   "metadata": {},
   "outputs": [
    {
     "name": "stdout",
     "output_type": "stream",
     "text": [
      "Введите шестизначное число: 547547\n"
     ]
    }
   ],
   "source": [
    "a = int(input('Введите шестизначное число: '))"
   ]
  },
  {
   "cell_type": "code",
   "execution_count": 16,
   "metadata": {},
   "outputs": [
    {
     "name": "stdout",
     "output_type": "stream",
     "text": [
      "Введите шестизначное число: 787787\n",
      "Поздравляем! у вас счастливый билет\n"
     ]
    }
   ],
   "source": [
    "a = int(input('Введите шестизначное число: '))\n",
    "a1 = a // 100000\n",
    "#print(a1)\n",
    "a2_1 = a // 10000\n",
    "a2 = a2_1 % 10\n",
    "#print(a2)\n",
    "a3_1 = a // 1000\n",
    "a3 = a3_1 % 10\n",
    "#print(a3)\n",
    "a4_1 = a // 100\n",
    "a4 = a4_1 % 10\n",
    "#print(a4)\n",
    "a5_1 = a // 10\n",
    "a5 = a5_1 % 10\n",
    "#print(a5)\n",
    "a6 = a % 10\n",
    "#print(a6)\n",
    "a123 = a1+a2+a3\n",
    "a456 = a4+a5+a6\n",
    "#print(a123,a456)\n",
    "if a123 == a456:\n",
    "    print('Поздравляем! у вас счастливый билет')\n",
    "else:\n",
    "    print('У вас обычный билет')"
   ]
  },
  {
   "cell_type": "markdown",
   "metadata": {},
   "source": [
    "# Задание 6"
   ]
  },
  {
   "cell_type": "code",
   "execution_count": 42,
   "metadata": {},
   "outputs": [
    {
     "name": "stdout",
     "output_type": "stream",
     "text": [
      "Введите тип фигуры: круг\n",
      "вы выбрали: круг\n",
      "Введите радиус круга: 9999\n",
      "площадь круга = 314096436.64750016\n"
     ]
    }
   ],
   "source": [
    "import math\n",
    "while True:\n",
    "    figure = str(input(\"Введите тип фигуры: \"))\n",
    "    if figure == 'круг' or figure == 'треугольник' or figure == 'прямоугольник':\n",
    "        break\n",
    "print('вы выбрали:',figure)\n",
    "if figure == 'круг':\n",
    "    r = int(input('Введите радиус круга: '))\n",
    "    S = math.pi*r**2\n",
    "    print ('площадь круга =', S)\n",
    "elif figure == 'треугольник':\n",
    "    a = int(input('Введите первую сторону треугольника: '))\n",
    "    b = int(input('Введите вторую сторону треугольника: '))\n",
    "    c = int(input('Введите третью сторону треугольника: '))\n",
    "    p = (a+b+c)/2\n",
    "    S = math.sqrt(p*(p-a)*(p-b)*(p-c))\n",
    "    print ('площадь треугольника =', S)\n",
    "elif figure == 'прямоугольник':\n",
    "    a = int(input('Введите первую сторону прямоугольника: '))\n",
    "    b = int(input('Введите вторую сторону прямоугольника: '))\n",
    "    S = a*b\n",
    "    print ('площадь прямоугольника =', S)"
   ]
  }
 ],
 "metadata": {
  "kernelspec": {
   "display_name": "Python 3",
   "language": "python",
   "name": "python3"
  },
  "language_info": {
   "codemirror_mode": {
    "name": "ipython",
    "version": 3
   },
   "file_extension": ".py",
   "mimetype": "text/x-python",
   "name": "python",
   "nbconvert_exporter": "python",
   "pygments_lexer": "ipython3",
   "version": "3.8.5"
  }
 },
 "nbformat": 4,
 "nbformat_minor": 4
}
