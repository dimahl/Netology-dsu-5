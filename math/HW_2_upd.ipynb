{
  "cells": [
    {
      "cell_type": "markdown",
      "metadata": {
        "id": "_kX74ytuOfgy"
      },
      "source": [
        "# Домашнее задание \"Линейная алгебра. Матрицы\"."
      ]
    },
    {
      "cell_type": "markdown",
      "metadata": {
        "id": "t69IZulqTZMz"
      },
      "source": [
        "## Уровень 0:\n"
      ]
    },
    {
      "cell_type": "markdown",
      "metadata": {
        "id": "9JUikPzroAL8"
      },
      "source": [
        "### Задание 1"
      ]
    },
    {
      "cell_type": "markdown",
      "metadata": {
        "id": "ya8BlSO5nQ9a"
      },
      "source": [
        " - Создайте матрицу 3 на 3, заполненную числами от 1 до 9\n",
        " - Прибавьте к ней матрицу с единицами на диагонале\n",
        " - Умножьте полученную матрицу на вектор (1, 2, 3)\n",
        " - Вычислить транспонированную матрицу $A^T$ от полученной в результате прибавления матрицы\n",
        " - Посчитайте обратную матрицу к полученной в результате прибавления матрице\n"
      ]
    },
    {
      "cell_type": "code",
      "execution_count": 1,
      "metadata": {
        "id": "hZ34229YdNlq"
      },
      "outputs": [],
      "source": [
        "import numpy as np"
      ]
    },
    {
      "cell_type": "code",
      "execution_count": 4,
      "metadata": {},
      "outputs": [
        {
          "data": {
            "text/plain": [
              "array([[3, 8, 8],\n",
              "       [5, 6, 7],\n",
              "       [8, 1, 8]])"
            ]
          },
          "execution_count": 4,
          "metadata": {},
          "output_type": "execute_result"
        }
      ],
      "source": [
        "A = np.random.randint(1, high=9, size=(3,3))\n",
        "A"
      ]
    },
    {
      "cell_type": "code",
      "execution_count": 10,
      "metadata": {},
      "outputs": [
        {
          "data": {
            "text/plain": [
              "array([[1., 0., 0.],\n",
              "       [0., 1., 0.],\n",
              "       [0., 0., 1.]])"
            ]
          },
          "execution_count": 10,
          "metadata": {},
          "output_type": "execute_result"
        }
      ],
      "source": [
        "A1 = np.eye(3)\n",
        "A1"
      ]
    },
    {
      "cell_type": "code",
      "execution_count": 13,
      "metadata": {},
      "outputs": [
        {
          "data": {
            "text/plain": [
              "array([[4., 8., 8.],\n",
              "       [5., 7., 7.],\n",
              "       [8., 1., 9.]])"
            ]
          },
          "execution_count": 13,
          "metadata": {},
          "output_type": "execute_result"
        }
      ],
      "source": [
        "A2 = A + A1\n",
        "A2"
      ]
    },
    {
      "cell_type": "code",
      "execution_count": 20,
      "metadata": {},
      "outputs": [
        {
          "data": {
            "text/plain": [
              "array([[ 4., 16., 24.],\n",
              "       [ 5., 14., 21.],\n",
              "       [ 8.,  2., 27.]])"
            ]
          },
          "execution_count": 20,
          "metadata": {},
          "output_type": "execute_result"
        }
      ],
      "source": [
        "A3 = A2 * np.array([1,2,3])\n",
        "A3"
      ]
    },
    {
      "cell_type": "code",
      "execution_count": 16,
      "metadata": {},
      "outputs": [
        {
          "data": {
            "text/plain": [
              "array([[4., 5., 8.],\n",
              "       [8., 7., 1.],\n",
              "       [8., 7., 9.]])"
            ]
          },
          "execution_count": 16,
          "metadata": {},
          "output_type": "execute_result"
        }
      ],
      "source": [
        "np.transpose(A2)"
      ]
    },
    {
      "cell_type": "code",
      "execution_count": 17,
      "metadata": {},
      "outputs": [
        {
          "data": {
            "text/plain": [
              "array([[-5.83333333e-01,  6.66666667e-01, -2.77555756e-17],\n",
              "       [-1.14583333e-01,  2.91666667e-01, -1.25000000e-01],\n",
              "       [ 5.31250000e-01, -6.25000000e-01,  1.25000000e-01]])"
            ]
          },
          "execution_count": 17,
          "metadata": {},
          "output_type": "execute_result"
        }
      ],
      "source": [
        "np.linalg.inv(A2)"
      ]
    },
    {
      "cell_type": "code",
      "execution_count": 22,
      "metadata": {},
      "outputs": [
        {
          "data": {
            "text/plain": [
              "array([[ 1.00000000e+00, -6.93889390e-16, -9.15933995e-16],\n",
              "       [ 2.22044605e-16,  1.00000000e+00,  0.00000000e+00],\n",
              "       [ 2.22044605e-16,  1.38777878e-16,  1.00000000e+00]])"
            ]
          },
          "execution_count": 22,
          "metadata": {},
          "output_type": "execute_result"
        }
      ],
      "source": [
        "## проверка на правильность вычисления обратной матрицы\n",
        "np.linalg.inv(A2) @ A2"
      ]
    },
    {
      "cell_type": "markdown",
      "metadata": {
        "id": "gUB5Tx31oDZB"
      },
      "source": [
        "### Задание 2"
      ]
    },
    {
      "cell_type": "markdown",
      "metadata": {
        "id": "Jh-pEPj-TcDQ"
      },
      "source": [
        "Найдите собственные значения и собственные вектора матрицы:\n",
        "```\n",
        "m = np.array([[2, 2],\n",
        "              [1, 3]])\n",
        "print(m)\n",
        "```\n",
        "\n"
      ]
    },
    {
      "cell_type": "code",
      "execution_count": 24,
      "metadata": {
        "id": "1OeJWLrpobqU"
      },
      "outputs": [
        {
          "data": {
            "text/plain": [
              "array([[2, 2],\n",
              "       [1, 3]])"
            ]
          },
          "execution_count": 24,
          "metadata": {},
          "output_type": "execute_result"
        }
      ],
      "source": [
        "m = np.array([[2,2],[1,3]])\n",
        "m"
      ]
    },
    {
      "cell_type": "code",
      "execution_count": 31,
      "metadata": {},
      "outputs": [
        {
          "name": "stdout",
          "output_type": "stream",
          "text": [
            "собственные значения\n"
          ]
        },
        {
          "data": {
            "text/plain": [
              "array([1., 4.])"
            ]
          },
          "execution_count": 31,
          "metadata": {},
          "output_type": "execute_result"
        }
      ],
      "source": [
        "print('собственные значения')\n",
        "np.linalg.eig(m)[0]"
      ]
    },
    {
      "cell_type": "code",
      "execution_count": 32,
      "metadata": {},
      "outputs": [
        {
          "name": "stdout",
          "output_type": "stream",
          "text": [
            "собственные векторы\n"
          ]
        },
        {
          "data": {
            "text/plain": [
              "array([[-0.89442719, -0.70710678],\n",
              "       [ 0.4472136 , -0.70710678]])"
            ]
          },
          "execution_count": 32,
          "metadata": {},
          "output_type": "execute_result"
        }
      ],
      "source": [
        "print('собственные векторы')\n",
        "np.linalg.eig(m)[1]"
      ]
    },
    {
      "cell_type": "code",
      "execution_count": null,
      "metadata": {},
      "outputs": [],
      "source": []
    },
    {
      "cell_type": "markdown",
      "metadata": {
        "id": "Tj14Nn3NOp8s"
      },
      "source": [
        "### Задание 3\n"
      ]
    },
    {
      "cell_type": "markdown",
      "metadata": {
        "id": "JMjSYrp4OrpG"
      },
      "source": [
        "Придумайте матрицу, у которой определитель = 1, и все элементы не равны 0.\n",
        "\n",
        "P.S. Матрица должна быть ненулевой и размерностью не менее 2! "
      ]
    },
    {
      "cell_type": "code",
      "execution_count": 81,
      "metadata": {
        "id": "hRov-LJgOrz0"
      },
      "outputs": [
        {
          "name": "stdout",
          "output_type": "stream",
          "text": [
            "[[2 4 3]\n",
            " [1 3 3]\n",
            " [2 3 2]]\n"
          ]
        }
      ],
      "source": [
        "for i in range(100000):\n",
        "    A = np.random.randint(1, high=5, size=(3,3))\n",
        "    det_A = np.linalg.det(A)\n",
        "    if det_A == 1.0:\n",
        "        print(A) \n",
        "        break\n"
      ]
    },
    {
      "cell_type": "code",
      "execution_count": null,
      "metadata": {},
      "outputs": [],
      "source": []
    }
  ],
  "metadata": {
    "colab": {
      "collapsed_sections": [],
      "name": "HW_2_upd",
      "provenance": []
    },
    "kernelspec": {
      "display_name": "Python 3",
      "language": "python",
      "name": "python3"
    },
    "language_info": {
      "codemirror_mode": {
        "name": "ipython",
        "version": 3
      },
      "file_extension": ".py",
      "mimetype": "text/x-python",
      "name": "python",
      "nbconvert_exporter": "python",
      "pygments_lexer": "ipython3",
      "version": "3.10.2"
    },
    "vscode": {
      "interpreter": {
        "hash": "3b86bb4a7c67948f28b40856a4a20f412ff81a4b6377c11c191c16516b072e2a"
      }
    }
  },
  "nbformat": 4,
  "nbformat_minor": 0
}
